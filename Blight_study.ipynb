{
 "cells": [
  {
   "cell_type": "code",
   "execution_count": 1,
   "metadata": {
    "collapsed": true
   },
   "outputs": [],
   "source": [
    "import numpy as np\n",
    "import pandas as pd\n",
    "import matplotlib.pyplot as plt"
   ]
  },
  {
   "cell_type": "markdown",
   "metadata": {},
   "source": [
    "## detroit-311.csv"
   ]
  },
  {
   "cell_type": "code",
   "execution_count": 4,
   "metadata": {
    "collapsed": true
   },
   "outputs": [],
   "source": [
    "data_311 = pd.read_csv('./data/detroit-311.csv',infer_datetime_format=True)"
   ]
  },
  {
   "cell_type": "code",
   "execution_count": 5,
   "metadata": {
    "collapsed": false
   },
   "outputs": [
    {
     "name": "stdout",
     "output_type": "stream",
     "text": [
      "<class 'pandas.core.frame.DataFrame'>\n",
      "RangeIndex: 19680 entries, 0 to 19679\n",
      "Data columns (total 15 columns):\n",
      "ticket_id                        19680 non-null int64\n",
      "city                             19680 non-null object\n",
      "issue_type                       19680 non-null object\n",
      "ticket_status                    19680 non-null object\n",
      "issue_description                15216 non-null object\n",
      "rating                           19680 non-null int64\n",
      "ticket_closed_date_time          16505 non-null object\n",
      "acknowledged_at                  17657 non-null object\n",
      "ticket_created_date_time         19680 non-null object\n",
      "ticket_last_updated_date_time    19680 non-null object\n",
      "address                          19680 non-null object\n",
      "lat                              19680 non-null float64\n",
      "lng                              19680 non-null float64\n",
      "location                         19680 non-null object\n",
      "image                            4102 non-null object\n",
      "dtypes: float64(2), int64(2), object(11)\n",
      "memory usage: 2.3+ MB\n"
     ]
    }
   ],
   "source": [
    "data_311.info()"
   ]
  },
  {
   "cell_type": "code",
   "execution_count": 6,
   "metadata": {
    "collapsed": false
   },
   "outputs": [
    {
     "data": {
      "text/html": [
       "<div>\n",
       "<table border=\"1\" class=\"dataframe\">\n",
       "  <thead>\n",
       "    <tr style=\"text-align: right;\">\n",
       "      <th></th>\n",
       "      <th>ticket_id</th>\n",
       "      <th>city</th>\n",
       "      <th>issue_type</th>\n",
       "      <th>ticket_status</th>\n",
       "      <th>issue_description</th>\n",
       "      <th>rating</th>\n",
       "      <th>ticket_closed_date_time</th>\n",
       "      <th>acknowledged_at</th>\n",
       "      <th>ticket_created_date_time</th>\n",
       "      <th>ticket_last_updated_date_time</th>\n",
       "      <th>address</th>\n",
       "      <th>lat</th>\n",
       "      <th>lng</th>\n",
       "      <th>location</th>\n",
       "      <th>image</th>\n",
       "    </tr>\n",
       "  </thead>\n",
       "  <tbody>\n",
       "    <tr>\n",
       "      <th>0</th>\n",
       "      <td>1516722</td>\n",
       "      <td>City of Detroit</td>\n",
       "      <td>Clogged Drain</td>\n",
       "      <td>Acknowledged</td>\n",
       "      <td>Two drains one on each side of street, street ...</td>\n",
       "      <td>3</td>\n",
       "      <td>NaN</td>\n",
       "      <td>03/06/2015 10:03:38 PM</td>\n",
       "      <td>03/06/2015 09:57:52 PM</td>\n",
       "      <td>04/12/2015 01:01:10 AM</td>\n",
       "      <td>13120-13130 Ilene Street Detroit, MI 48238, USA</td>\n",
       "      <td>42.383998</td>\n",
       "      <td>-83.161039</td>\n",
       "      <td>(42.3839977668, -83.1610385642)</td>\n",
       "      <td>NaN</td>\n",
       "    </tr>\n",
       "    <tr>\n",
       "      <th>1</th>\n",
       "      <td>1525361</td>\n",
       "      <td>City of Detroit</td>\n",
       "      <td>Clogged Drain</td>\n",
       "      <td>Acknowledged</td>\n",
       "      <td>standing water on lumplin</td>\n",
       "      <td>2</td>\n",
       "      <td>NaN</td>\n",
       "      <td>03/11/2015 04:23:11 PM</td>\n",
       "      <td>03/11/2015 04:14:29 PM</td>\n",
       "      <td>04/07/2015 02:04:44 PM</td>\n",
       "      <td>1485 E. Outer Drive Detroit, Michigan</td>\n",
       "      <td>42.440471</td>\n",
       "      <td>-83.080919</td>\n",
       "      <td>(42.4404708, -83.080919)</td>\n",
       "      <td>NaN</td>\n",
       "    </tr>\n",
       "    <tr>\n",
       "      <th>2</th>\n",
       "      <td>1525218</td>\n",
       "      <td>City of Detroit</td>\n",
       "      <td>Clogged Drain</td>\n",
       "      <td>Closed</td>\n",
       "      <td>CITZEN CALLED TO REPORT CLOGGED DRAINS</td>\n",
       "      <td>2</td>\n",
       "      <td>08/15/2015 12:03:43 AM</td>\n",
       "      <td>03/11/2015 03:39:05 PM</td>\n",
       "      <td>03/11/2015 03:26:20 PM</td>\n",
       "      <td>08/15/2015 12:03:44 AM</td>\n",
       "      <td>15460 Eastburn Detroit, Michigan</td>\n",
       "      <td>42.445244</td>\n",
       "      <td>-82.962038</td>\n",
       "      <td>(42.445244, -82.962038)</td>\n",
       "      <td>NaN</td>\n",
       "    </tr>\n",
       "    <tr>\n",
       "      <th>3</th>\n",
       "      <td>1525214</td>\n",
       "      <td>City of Detroit</td>\n",
       "      <td>Clogged Drain</td>\n",
       "      <td>Acknowledged</td>\n",
       "      <td>Citizen called DWSD to report clogged drain</td>\n",
       "      <td>3</td>\n",
       "      <td>NaN</td>\n",
       "      <td>03/11/2015 03:35:02 PM</td>\n",
       "      <td>03/11/2015 03:22:42 PM</td>\n",
       "      <td>06/07/2015 10:07:48 PM</td>\n",
       "      <td>17541 Mendota St Detroit, Michigan</td>\n",
       "      <td>42.421043</td>\n",
       "      <td>-83.166194</td>\n",
       "      <td>(42.421043, -83.166194)</td>\n",
       "      <td>NaN</td>\n",
       "    </tr>\n",
       "    <tr>\n",
       "      <th>4</th>\n",
       "      <td>1525142</td>\n",
       "      <td>City of Detroit</td>\n",
       "      <td>Clogged Drain</td>\n",
       "      <td>Acknowledged</td>\n",
       "      <td>@ THE CORNER OF GRIGGS &amp; MARGARETA</td>\n",
       "      <td>2</td>\n",
       "      <td>NaN</td>\n",
       "      <td>03/11/2015 03:04:59 PM</td>\n",
       "      <td>03/11/2015 02:53:23 PM</td>\n",
       "      <td>03/11/2015 03:04:59 PM</td>\n",
       "      <td>Griggs Detroit, Michigan</td>\n",
       "      <td>42.402033</td>\n",
       "      <td>-83.162874</td>\n",
       "      <td>(42.4020334, -83.1628741)</td>\n",
       "      <td>NaN</td>\n",
       "    </tr>\n",
       "  </tbody>\n",
       "</table>\n",
       "</div>"
      ],
      "text/plain": [
       "   ticket_id             city     issue_type ticket_status  \\\n",
       "0    1516722  City of Detroit  Clogged Drain  Acknowledged   \n",
       "1    1525361  City of Detroit  Clogged Drain  Acknowledged   \n",
       "2    1525218  City of Detroit  Clogged Drain        Closed   \n",
       "3    1525214  City of Detroit  Clogged Drain  Acknowledged   \n",
       "4    1525142  City of Detroit  Clogged Drain  Acknowledged   \n",
       "\n",
       "                                   issue_description  rating  \\\n",
       "0  Two drains one on each side of street, street ...       3   \n",
       "1                          standing water on lumplin       2   \n",
       "2             CITZEN CALLED TO REPORT CLOGGED DRAINS       2   \n",
       "3        Citizen called DWSD to report clogged drain       3   \n",
       "4                 @ THE CORNER OF GRIGGS & MARGARETA       2   \n",
       "\n",
       "  ticket_closed_date_time         acknowledged_at ticket_created_date_time  \\\n",
       "0                     NaN  03/06/2015 10:03:38 PM   03/06/2015 09:57:52 PM   \n",
       "1                     NaN  03/11/2015 04:23:11 PM   03/11/2015 04:14:29 PM   \n",
       "2  08/15/2015 12:03:43 AM  03/11/2015 03:39:05 PM   03/11/2015 03:26:20 PM   \n",
       "3                     NaN  03/11/2015 03:35:02 PM   03/11/2015 03:22:42 PM   \n",
       "4                     NaN  03/11/2015 03:04:59 PM   03/11/2015 02:53:23 PM   \n",
       "\n",
       "  ticket_last_updated_date_time  \\\n",
       "0        04/12/2015 01:01:10 AM   \n",
       "1        04/07/2015 02:04:44 PM   \n",
       "2        08/15/2015 12:03:44 AM   \n",
       "3        06/07/2015 10:07:48 PM   \n",
       "4        03/11/2015 03:04:59 PM   \n",
       "\n",
       "                                           address        lat        lng  \\\n",
       "0  13120-13130 Ilene Street Detroit, MI 48238, USA  42.383998 -83.161039   \n",
       "1            1485 E. Outer Drive Detroit, Michigan  42.440471 -83.080919   \n",
       "2                 15460 Eastburn Detroit, Michigan  42.445244 -82.962038   \n",
       "3               17541 Mendota St Detroit, Michigan  42.421043 -83.166194   \n",
       "4                         Griggs Detroit, Michigan  42.402033 -83.162874   \n",
       "\n",
       "                          location image  \n",
       "0  (42.3839977668, -83.1610385642)   NaN  \n",
       "1         (42.4404708, -83.080919)   NaN  \n",
       "2          (42.445244, -82.962038)   NaN  \n",
       "3          (42.421043, -83.166194)   NaN  \n",
       "4        (42.4020334, -83.1628741)   NaN  "
      ]
     },
     "execution_count": 6,
     "metadata": {},
     "output_type": "execute_result"
    }
   ],
   "source": [
    "data_311.head(5)"
   ]
  },
  {
   "cell_type": "code",
   "execution_count": 9,
   "metadata": {
    "collapsed": false
   },
   "outputs": [
    {
     "data": {
      "text/plain": [
       "Index(['ticket_id', 'city', 'issue_type', 'ticket_status', 'issue_description',\n",
       "       'rating', 'ticket_closed_date_time', 'acknowledged_at',\n",
       "       'ticket_created_date_time', 'ticket_last_updated_date_time', 'address',\n",
       "       'lat', 'lng', 'location', 'image'],\n",
       "      dtype='object')"
      ]
     },
     "execution_count": 9,
     "metadata": {},
     "output_type": "execute_result"
    }
   ],
   "source": [
    "data_311.columns"
   ]
  },
  {
   "cell_type": "code",
   "execution_count": 10,
   "metadata": {
    "collapsed": false
   },
   "outputs": [
    {
     "data": {
      "text/plain": [
       "array(['Clogged Drain', 'Tree Issue', 'Manhole Cover Issue',\n",
       "       'Water Main Break', 'Abandoned Vehicle', 'Fire Hydrant Issue',\n",
       "       'Traffic Signal Issue', 'Potholes', 'Traffic Sign Issue',\n",
       "       'Illegal Dumping / Illegal Dump Sites',\n",
       "       'Running Water in a Home or Building', 'Street Light Pole Down',\n",
       "       'Test (internal use only, public issue)', 'Graffiti',\n",
       "       'Customer Service (internal use only, private issue)',\n",
       "       'Residential Snow Removal Issue',\n",
       "       'Graffiti Abatement (internal use only, public issue)',\n",
       "       'DPW - Debris Removal',\n",
       "       'Trash Issue - Improper placement of refuse container between collections/left at curbside',\n",
       "       'Trash Issue - Bulk waste deposited more than 24 hours before designated time',\n",
       "       'Curbside Solid Waste Issue', 'Detroit Land Bank Referral',\n",
       "       'DPW - Other environmental'], dtype=object)"
      ]
     },
     "execution_count": 10,
     "metadata": {},
     "output_type": "execute_result"
    }
   ],
   "source": [
    "data_311['issue_type'].unique()"
   ]
  },
  {
   "cell_type": "code",
   "execution_count": 11,
   "metadata": {
    "collapsed": false
   },
   "outputs": [
    {
     "data": {
      "text/plain": [
       "array(['City of Detroit'], dtype=object)"
      ]
     },
     "execution_count": 11,
     "metadata": {},
     "output_type": "execute_result"
    }
   ],
   "source": [
    "data_311['city'].unique()"
   ]
  },
  {
   "cell_type": "markdown",
   "metadata": {},
   "source": [
    "## detroit-crime.csv"
   ]
  },
  {
   "cell_type": "code",
   "execution_count": 12,
   "metadata": {
    "collapsed": false
   },
   "outputs": [
    {
     "name": "stderr",
     "output_type": "stream",
     "text": [
      "/usr/lib/python3.5/site-packages/IPython/core/interactiveshell.py:2705: DtypeWarning: Columns (2) have mixed types. Specify dtype option on import or set low_memory=False.\n",
      "  interactivity=interactivity, compiler=compiler, result=result)\n"
     ]
    }
   ],
   "source": [
    "data_crime = pd.read_csv('./data/detroit-crime.csv')"
   ]
  },
  {
   "cell_type": "code",
   "execution_count": 14,
   "metadata": {
    "collapsed": false
   },
   "outputs": [
    {
     "data": {
      "text/html": [
       "<div>\n",
       "<table border=\"1\" class=\"dataframe\">\n",
       "  <thead>\n",
       "    <tr style=\"text-align: right;\">\n",
       "      <th></th>\n",
       "      <th>ROWNUM</th>\n",
       "      <th>CASEID</th>\n",
       "      <th>INCINO</th>\n",
       "      <th>CATEGORY</th>\n",
       "      <th>OFFENSEDESCRIPTION</th>\n",
       "      <th>STATEOFFENSEFILECLASS</th>\n",
       "      <th>INCIDENTDATE</th>\n",
       "      <th>HOUR</th>\n",
       "      <th>SCA</th>\n",
       "      <th>PRECINCT</th>\n",
       "      <th>COUNCIL</th>\n",
       "      <th>NEIGHBORHOOD</th>\n",
       "      <th>CENSUSTRACT</th>\n",
       "      <th>ADDRESS</th>\n",
       "      <th>LON</th>\n",
       "      <th>LAT</th>\n",
       "      <th>LOCATION</th>\n",
       "    </tr>\n",
       "  </thead>\n",
       "  <tbody>\n",
       "    <tr>\n",
       "      <th>0</th>\n",
       "      <td>53256</td>\n",
       "      <td>1953933</td>\n",
       "      <td>1506030028.1</td>\n",
       "      <td>ASSAULT</td>\n",
       "      <td>ASSAULT AND BATTERY/SIMPLE ASSAULT</td>\n",
       "      <td>13001.0</td>\n",
       "      <td>06/03/2015 12:00:00 AM</td>\n",
       "      <td>2</td>\n",
       "      <td>1007.0</td>\n",
       "      <td>10.0</td>\n",
       "      <td>City Council District 5</td>\n",
       "      <td>PETOSKEY-OTSEGO</td>\n",
       "      <td>5334.0</td>\n",
       "      <td>09100 PETOSKEY</td>\n",
       "      <td>-83.1221</td>\n",
       "      <td>42.3678</td>\n",
       "      <td>PETOSKEY\\n09100\\n(42.3676, -83.1219)</td>\n",
       "    </tr>\n",
       "    <tr>\n",
       "      <th>1</th>\n",
       "      <td>17631</td>\n",
       "      <td>1917717</td>\n",
       "      <td>1503010158.1</td>\n",
       "      <td>LARCENY</td>\n",
       "      <td>LARCENY - PARTS AND ACCESSORIES FROM VEHICLE</td>\n",
       "      <td>23006.0</td>\n",
       "      <td>03/01/2015 12:00:00 AM</td>\n",
       "      <td>9</td>\n",
       "      <td>608.0</td>\n",
       "      <td>6.0</td>\n",
       "      <td>City Council District 7</td>\n",
       "      <td>GRANDALE</td>\n",
       "      <td>5452.0</td>\n",
       "      <td>00 PLYMOUTH AND MANSFIELD</td>\n",
       "      <td>-83.2035</td>\n",
       "      <td>42.3724</td>\n",
       "      <td>00 PLYMOUTH AND MANSFIELD\\n(42.3725, -83.2033)</td>\n",
       "    </tr>\n",
       "    <tr>\n",
       "      <th>2</th>\n",
       "      <td>11207</td>\n",
       "      <td>1910955</td>\n",
       "      <td>1502080223.1</td>\n",
       "      <td>STOLEN VEHICLE</td>\n",
       "      <td>VEHICLE THEFT</td>\n",
       "      <td>24001.0</td>\n",
       "      <td>02/08/2015 12:00:00 AM</td>\n",
       "      <td>18</td>\n",
       "      <td>1105.0</td>\n",
       "      <td>11.0</td>\n",
       "      <td>City Council District 3</td>\n",
       "      <td>OUTER DRIVE VAN DYKE</td>\n",
       "      <td>5051.0</td>\n",
       "      <td>00 E 7 MILE  VAN DYKE</td>\n",
       "      <td>-83.0241</td>\n",
       "      <td>42.4338</td>\n",
       "      <td>00 E 7 MILE VAN DYKE\\n(42.4339, -83.0241)</td>\n",
       "    </tr>\n",
       "    <tr>\n",
       "      <th>3</th>\n",
       "      <td>116589</td>\n",
       "      <td>2018186</td>\n",
       "      <td>1511090188.1</td>\n",
       "      <td>WEAPONS OFFENSES</td>\n",
       "      <td>WEAPONS OFFENSE (OTHER)</td>\n",
       "      <td>52003.0</td>\n",
       "      <td>11/09/2015 12:00:00 AM</td>\n",
       "      <td>12</td>\n",
       "      <td>210.0</td>\n",
       "      <td>2.0</td>\n",
       "      <td>City Council District 6</td>\n",
       "      <td>TIREMAN</td>\n",
       "      <td>NaN</td>\n",
       "      <td>06600 BARTON</td>\n",
       "      <td>-83.1381</td>\n",
       "      <td>42.3496</td>\n",
       "      <td>BARTON\\n06600\\n(42.3494, -83.1379)</td>\n",
       "    </tr>\n",
       "    <tr>\n",
       "      <th>4</th>\n",
       "      <td>85790</td>\n",
       "      <td>1986862</td>\n",
       "      <td>1508239803.1</td>\n",
       "      <td>LARCENY</td>\n",
       "      <td>LARCENY - PARTS AND ACCESSORIES FROM VEHICLE</td>\n",
       "      <td>23006.0</td>\n",
       "      <td>08/14/2015 12:00:00 AM</td>\n",
       "      <td>7</td>\n",
       "      <td>309.0</td>\n",
       "      <td>3.0</td>\n",
       "      <td>City Council District 6</td>\n",
       "      <td>WEST CANFIELD</td>\n",
       "      <td>5204.0</td>\n",
       "      <td>00900 W WILLIS</td>\n",
       "      <td>-83.0692</td>\n",
       "      <td>42.3481</td>\n",
       "      <td>W WILLIS\\n00900\\n(42.3481, -83.0693)</td>\n",
       "    </tr>\n",
       "  </tbody>\n",
       "</table>\n",
       "</div>"
      ],
      "text/plain": [
       "   ROWNUM   CASEID        INCINO          CATEGORY  \\\n",
       "0   53256  1953933  1506030028.1           ASSAULT   \n",
       "1   17631  1917717  1503010158.1           LARCENY   \n",
       "2   11207  1910955  1502080223.1    STOLEN VEHICLE   \n",
       "3  116589  2018186  1511090188.1  WEAPONS OFFENSES   \n",
       "4   85790  1986862  1508239803.1           LARCENY   \n",
       "\n",
       "                             OFFENSEDESCRIPTION  STATEOFFENSEFILECLASS  \\\n",
       "0            ASSAULT AND BATTERY/SIMPLE ASSAULT                13001.0   \n",
       "1  LARCENY - PARTS AND ACCESSORIES FROM VEHICLE                23006.0   \n",
       "2                                 VEHICLE THEFT                24001.0   \n",
       "3                       WEAPONS OFFENSE (OTHER)                52003.0   \n",
       "4  LARCENY - PARTS AND ACCESSORIES FROM VEHICLE                23006.0   \n",
       "\n",
       "             INCIDENTDATE  HOUR     SCA  PRECINCT                  COUNCIL  \\\n",
       "0  06/03/2015 12:00:00 AM     2  1007.0      10.0  City Council District 5   \n",
       "1  03/01/2015 12:00:00 AM     9   608.0       6.0  City Council District 7   \n",
       "2  02/08/2015 12:00:00 AM    18  1105.0      11.0  City Council District 3   \n",
       "3  11/09/2015 12:00:00 AM    12   210.0       2.0  City Council District 6   \n",
       "4  08/14/2015 12:00:00 AM     7   309.0       3.0  City Council District 6   \n",
       "\n",
       "           NEIGHBORHOOD  CENSUSTRACT                    ADDRESS      LON  \\\n",
       "0       PETOSKEY-OTSEGO       5334.0             09100 PETOSKEY -83.1221   \n",
       "1              GRANDALE       5452.0  00 PLYMOUTH AND MANSFIELD -83.2035   \n",
       "2  OUTER DRIVE VAN DYKE       5051.0      00 E 7 MILE  VAN DYKE -83.0241   \n",
       "3               TIREMAN          NaN               06600 BARTON -83.1381   \n",
       "4         WEST CANFIELD       5204.0             00900 W WILLIS -83.0692   \n",
       "\n",
       "       LAT                                        LOCATION  \n",
       "0  42.3678            PETOSKEY\\n09100\\n(42.3676, -83.1219)  \n",
       "1  42.3724  00 PLYMOUTH AND MANSFIELD\\n(42.3725, -83.2033)  \n",
       "2  42.4338       00 E 7 MILE VAN DYKE\\n(42.4339, -83.0241)  \n",
       "3  42.3496              BARTON\\n06600\\n(42.3494, -83.1379)  \n",
       "4  42.3481            W WILLIS\\n00900\\n(42.3481, -83.0693)  "
      ]
     },
     "execution_count": 14,
     "metadata": {},
     "output_type": "execute_result"
    }
   ],
   "source": [
    "data_crime.head(5)"
   ]
  },
  {
   "cell_type": "code",
   "execution_count": 15,
   "metadata": {
    "collapsed": false
   },
   "outputs": [
    {
     "data": {
      "text/plain": [
       "Index(['ROWNUM', 'CASEID', 'INCINO', 'CATEGORY', 'OFFENSEDESCRIPTION',\n",
       "       'STATEOFFENSEFILECLASS', 'INCIDENTDATE', 'HOUR', 'SCA', 'PRECINCT',\n",
       "       'COUNCIL', 'NEIGHBORHOOD', 'CENSUSTRACT', 'ADDRESS', 'LON', 'LAT',\n",
       "       'LOCATION'],\n",
       "      dtype='object')"
      ]
     },
     "execution_count": 15,
     "metadata": {},
     "output_type": "execute_result"
    }
   ],
   "source": [
    "data_crime.columns"
   ]
  },
  {
   "cell_type": "markdown",
   "metadata": {},
   "source": [
    "## detroit-demolition-permits.tsv"
   ]
  },
  {
   "cell_type": "code",
   "execution_count": 17,
   "metadata": {
    "collapsed": false
   },
   "outputs": [
    {
     "ename": "CParserError",
     "evalue": "Error tokenizing data. C error: Expected 24 fields in line 23, saw 26\n",
     "output_type": "error",
     "traceback": [
      "\u001b[0;31m---------------------------------------------------------------------------\u001b[0m",
      "\u001b[0;31mCParserError\u001b[0m                              Traceback (most recent call last)",
      "\u001b[0;32m<ipython-input-17-d5677f539e29>\u001b[0m in \u001b[0;36m<module>\u001b[0;34m()\u001b[0m\n\u001b[0;32m----> 1\u001b[0;31m \u001b[0mdata_demolition_permits\u001b[0m \u001b[0;34m=\u001b[0m \u001b[0mpd\u001b[0m\u001b[0;34m.\u001b[0m\u001b[0mread_csv\u001b[0m\u001b[0;34m(\u001b[0m\u001b[0;34m'./data/detroit-demolition-permits.tsv'\u001b[0m\u001b[0;34m,\u001b[0m\u001b[0mdelimiter\u001b[0m\u001b[0;34m=\u001b[0m\u001b[0;34m\" \"\u001b[0m\u001b[0;34m)\u001b[0m\u001b[0;34m\u001b[0m\u001b[0m\n\u001b[0m",
      "\u001b[0;32m/usr/lib64/python3.5/site-packages/pandas/io/parsers.py\u001b[0m in \u001b[0;36mparser_f\u001b[0;34m(filepath_or_buffer, sep, delimiter, header, names, index_col, usecols, squeeze, prefix, mangle_dupe_cols, dtype, engine, converters, true_values, false_values, skipinitialspace, skiprows, skipfooter, nrows, na_values, keep_default_na, na_filter, verbose, skip_blank_lines, parse_dates, infer_datetime_format, keep_date_col, date_parser, dayfirst, iterator, chunksize, compression, thousands, decimal, lineterminator, quotechar, quoting, escapechar, comment, encoding, dialect, tupleize_cols, error_bad_lines, warn_bad_lines, skip_footer, doublequote, delim_whitespace, as_recarray, compact_ints, use_unsigned, low_memory, buffer_lines, memory_map, float_precision)\u001b[0m\n\u001b[1;32m    560\u001b[0m                     skip_blank_lines=skip_blank_lines)\n\u001b[1;32m    561\u001b[0m \u001b[0;34m\u001b[0m\u001b[0m\n\u001b[0;32m--> 562\u001b[0;31m         \u001b[0;32mreturn\u001b[0m \u001b[0m_read\u001b[0m\u001b[0;34m(\u001b[0m\u001b[0mfilepath_or_buffer\u001b[0m\u001b[0;34m,\u001b[0m \u001b[0mkwds\u001b[0m\u001b[0;34m)\u001b[0m\u001b[0;34m\u001b[0m\u001b[0m\n\u001b[0m\u001b[1;32m    563\u001b[0m \u001b[0;34m\u001b[0m\u001b[0m\n\u001b[1;32m    564\u001b[0m     \u001b[0mparser_f\u001b[0m\u001b[0;34m.\u001b[0m\u001b[0m__name__\u001b[0m \u001b[0;34m=\u001b[0m \u001b[0mname\u001b[0m\u001b[0;34m\u001b[0m\u001b[0m\n",
      "\u001b[0;32m/usr/lib64/python3.5/site-packages/pandas/io/parsers.py\u001b[0m in \u001b[0;36m_read\u001b[0;34m(filepath_or_buffer, kwds)\u001b[0m\n\u001b[1;32m    323\u001b[0m         \u001b[0;32mreturn\u001b[0m \u001b[0mparser\u001b[0m\u001b[0;34m\u001b[0m\u001b[0m\n\u001b[1;32m    324\u001b[0m \u001b[0;34m\u001b[0m\u001b[0m\n\u001b[0;32m--> 325\u001b[0;31m     \u001b[0;32mreturn\u001b[0m \u001b[0mparser\u001b[0m\u001b[0;34m.\u001b[0m\u001b[0mread\u001b[0m\u001b[0;34m(\u001b[0m\u001b[0;34m)\u001b[0m\u001b[0;34m\u001b[0m\u001b[0m\n\u001b[0m\u001b[1;32m    326\u001b[0m \u001b[0;34m\u001b[0m\u001b[0m\n\u001b[1;32m    327\u001b[0m _parser_defaults = {\n",
      "\u001b[0;32m/usr/lib64/python3.5/site-packages/pandas/io/parsers.py\u001b[0m in \u001b[0;36mread\u001b[0;34m(self, nrows)\u001b[0m\n\u001b[1;32m    813\u001b[0m                 \u001b[0;32mraise\u001b[0m \u001b[0mValueError\u001b[0m\u001b[0;34m(\u001b[0m\u001b[0;34m'skip_footer not supported for iteration'\u001b[0m\u001b[0;34m)\u001b[0m\u001b[0;34m\u001b[0m\u001b[0m\n\u001b[1;32m    814\u001b[0m \u001b[0;34m\u001b[0m\u001b[0m\n\u001b[0;32m--> 815\u001b[0;31m         \u001b[0mret\u001b[0m \u001b[0;34m=\u001b[0m \u001b[0mself\u001b[0m\u001b[0;34m.\u001b[0m\u001b[0m_engine\u001b[0m\u001b[0;34m.\u001b[0m\u001b[0mread\u001b[0m\u001b[0;34m(\u001b[0m\u001b[0mnrows\u001b[0m\u001b[0;34m)\u001b[0m\u001b[0;34m\u001b[0m\u001b[0m\n\u001b[0m\u001b[1;32m    816\u001b[0m \u001b[0;34m\u001b[0m\u001b[0m\n\u001b[1;32m    817\u001b[0m         \u001b[0;32mif\u001b[0m \u001b[0mself\u001b[0m\u001b[0;34m.\u001b[0m\u001b[0moptions\u001b[0m\u001b[0;34m.\u001b[0m\u001b[0mget\u001b[0m\u001b[0;34m(\u001b[0m\u001b[0;34m'as_recarray'\u001b[0m\u001b[0;34m)\u001b[0m\u001b[0;34m:\u001b[0m\u001b[0;34m\u001b[0m\u001b[0m\n",
      "\u001b[0;32m/usr/lib64/python3.5/site-packages/pandas/io/parsers.py\u001b[0m in \u001b[0;36mread\u001b[0;34m(self, nrows)\u001b[0m\n\u001b[1;32m   1312\u001b[0m     \u001b[0;32mdef\u001b[0m \u001b[0mread\u001b[0m\u001b[0;34m(\u001b[0m\u001b[0mself\u001b[0m\u001b[0;34m,\u001b[0m \u001b[0mnrows\u001b[0m\u001b[0;34m=\u001b[0m\u001b[0;32mNone\u001b[0m\u001b[0;34m)\u001b[0m\u001b[0;34m:\u001b[0m\u001b[0;34m\u001b[0m\u001b[0m\n\u001b[1;32m   1313\u001b[0m         \u001b[0;32mtry\u001b[0m\u001b[0;34m:\u001b[0m\u001b[0;34m\u001b[0m\u001b[0m\n\u001b[0;32m-> 1314\u001b[0;31m             \u001b[0mdata\u001b[0m \u001b[0;34m=\u001b[0m \u001b[0mself\u001b[0m\u001b[0;34m.\u001b[0m\u001b[0m_reader\u001b[0m\u001b[0;34m.\u001b[0m\u001b[0mread\u001b[0m\u001b[0;34m(\u001b[0m\u001b[0mnrows\u001b[0m\u001b[0;34m)\u001b[0m\u001b[0;34m\u001b[0m\u001b[0m\n\u001b[0m\u001b[1;32m   1315\u001b[0m         \u001b[0;32mexcept\u001b[0m \u001b[0mStopIteration\u001b[0m\u001b[0;34m:\u001b[0m\u001b[0;34m\u001b[0m\u001b[0m\n\u001b[1;32m   1316\u001b[0m             \u001b[0;32mif\u001b[0m \u001b[0mself\u001b[0m\u001b[0;34m.\u001b[0m\u001b[0m_first_chunk\u001b[0m\u001b[0;34m:\u001b[0m\u001b[0;34m\u001b[0m\u001b[0m\n",
      "\u001b[0;32mpandas/parser.pyx\u001b[0m in \u001b[0;36mpandas.parser.TextReader.read (pandas/parser.c:8748)\u001b[0;34m()\u001b[0m\n",
      "\u001b[0;32mpandas/parser.pyx\u001b[0m in \u001b[0;36mpandas.parser.TextReader._read_low_memory (pandas/parser.c:9003)\u001b[0;34m()\u001b[0m\n",
      "\u001b[0;32mpandas/parser.pyx\u001b[0m in \u001b[0;36mpandas.parser.TextReader._read_rows (pandas/parser.c:9731)\u001b[0;34m()\u001b[0m\n",
      "\u001b[0;32mpandas/parser.pyx\u001b[0m in \u001b[0;36mpandas.parser.TextReader._tokenize_rows (pandas/parser.c:9602)\u001b[0;34m()\u001b[0m\n",
      "\u001b[0;32mpandas/parser.pyx\u001b[0m in \u001b[0;36mpandas.parser.raise_parser_error (pandas/parser.c:23325)\u001b[0;34m()\u001b[0m\n",
      "\u001b[0;31mCParserError\u001b[0m: Error tokenizing data. C error: Expected 24 fields in line 23, saw 26\n"
     ]
    }
   ],
   "source": [
    "data_demolition_permits = pd.read_csv('./data/detroit-demolition-permits.tsv',delimiter=\" \", )"
   ]
  },
  {
   "cell_type": "code",
   "execution_count": null,
   "metadata": {
    "collapsed": true
   },
   "outputs": [],
   "source": []
  }
 ],
 "metadata": {
  "kernelspec": {
   "display_name": "Python 3",
   "language": "python",
   "name": "python3"
  },
  "language_info": {
   "codemirror_mode": {
    "name": "ipython",
    "version": 3
   },
   "file_extension": ".py",
   "mimetype": "text/x-python",
   "name": "python",
   "nbconvert_exporter": "python",
   "pygments_lexer": "ipython3",
   "version": "3.5.1"
  }
 },
 "nbformat": 4,
 "nbformat_minor": 0
}
