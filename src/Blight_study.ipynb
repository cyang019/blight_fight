{
 "cells": [
  {
   "cell_type": "code",
   "execution_count": 24,
   "metadata": {
    "collapsed": true
   },
   "outputs": [],
   "source": [
    "import numpy as np\n",
    "import pandas as pd\n",
    "import matplotlib.pyplot as plt\n",
    "import import_data\n",
    "\n",
    "%matplotlib inline"
   ]
  },
  {
   "cell_type": "markdown",
   "metadata": {},
   "source": [
    "## detroit-311.csv"
   ]
  },
  {
   "cell_type": "code",
   "execution_count": 2,
   "metadata": {
    "collapsed": true
   },
   "outputs": [],
   "source": [
    "data_311 = pd.read_csv('../data/detroit-311.csv')"
   ]
  },
  {
   "cell_type": "code",
   "execution_count": 3,
   "metadata": {
    "collapsed": false
   },
   "outputs": [
    {
     "data": {
      "text/html": [
       "<div>\n",
       "<table border=\"1\" class=\"dataframe\">\n",
       "  <thead>\n",
       "    <tr style=\"text-align: right;\">\n",
       "      <th></th>\n",
       "      <th>ticket_id</th>\n",
       "      <th>rating</th>\n",
       "      <th>lat</th>\n",
       "      <th>lng</th>\n",
       "    </tr>\n",
       "  </thead>\n",
       "  <tbody>\n",
       "    <tr>\n",
       "      <th>count</th>\n",
       "      <td>1.968000e+04</td>\n",
       "      <td>19680.000000</td>\n",
       "      <td>19680.000000</td>\n",
       "      <td>19680.000000</td>\n",
       "    </tr>\n",
       "    <tr>\n",
       "      <th>mean</th>\n",
       "      <td>1.699224e+06</td>\n",
       "      <td>2.692530</td>\n",
       "      <td>42.386310</td>\n",
       "      <td>-83.109313</td>\n",
       "    </tr>\n",
       "    <tr>\n",
       "      <th>std</th>\n",
       "      <td>1.721798e+05</td>\n",
       "      <td>0.801268</td>\n",
       "      <td>0.038308</td>\n",
       "      <td>0.100192</td>\n",
       "    </tr>\n",
       "    <tr>\n",
       "      <th>min</th>\n",
       "      <td>1.184398e+06</td>\n",
       "      <td>1.000000</td>\n",
       "      <td>41.879952</td>\n",
       "      <td>-86.550059</td>\n",
       "    </tr>\n",
       "    <tr>\n",
       "      <th>25%</th>\n",
       "      <td>1.591936e+06</td>\n",
       "      <td>2.000000</td>\n",
       "      <td>42.355576</td>\n",
       "      <td>-83.191768</td>\n",
       "    </tr>\n",
       "    <tr>\n",
       "      <th>50%</th>\n",
       "      <td>1.705228e+06</td>\n",
       "      <td>3.000000</td>\n",
       "      <td>42.387895</td>\n",
       "      <td>-83.112410</td>\n",
       "    </tr>\n",
       "    <tr>\n",
       "      <th>75%</th>\n",
       "      <td>1.838305e+06</td>\n",
       "      <td>3.000000</td>\n",
       "      <td>42.419723</td>\n",
       "      <td>-83.037698</td>\n",
       "    </tr>\n",
       "    <tr>\n",
       "      <th>max</th>\n",
       "      <td>1.975499e+06</td>\n",
       "      <td>19.000000</td>\n",
       "      <td>42.449849</td>\n",
       "      <td>-82.911434</td>\n",
       "    </tr>\n",
       "  </tbody>\n",
       "</table>\n",
       "</div>"
      ],
      "text/plain": [
       "          ticket_id        rating           lat           lng\n",
       "count  1.968000e+04  19680.000000  19680.000000  19680.000000\n",
       "mean   1.699224e+06      2.692530     42.386310    -83.109313\n",
       "std    1.721798e+05      0.801268      0.038308      0.100192\n",
       "min    1.184398e+06      1.000000     41.879952    -86.550059\n",
       "25%    1.591936e+06      2.000000     42.355576    -83.191768\n",
       "50%    1.705228e+06      3.000000     42.387895    -83.112410\n",
       "75%    1.838305e+06      3.000000     42.419723    -83.037698\n",
       "max    1.975499e+06     19.000000     42.449849    -82.911434"
      ]
     },
     "execution_count": 3,
     "metadata": {},
     "output_type": "execute_result"
    }
   ],
   "source": [
    "data_311.describe()"
   ]
  },
  {
   "cell_type": "code",
   "execution_count": 4,
   "metadata": {
    "collapsed": false
   },
   "outputs": [
    {
     "name": "stdout",
     "output_type": "stream",
     "text": [
      "<class 'pandas.core.frame.DataFrame'>\n",
      "RangeIndex: 19680 entries, 0 to 19679\n",
      "Data columns (total 15 columns):\n",
      "ticket_id                        19680 non-null int64\n",
      "city                             19680 non-null object\n",
      "issue_type                       19680 non-null object\n",
      "ticket_status                    19680 non-null object\n",
      "issue_description                15216 non-null object\n",
      "rating                           19680 non-null int64\n",
      "ticket_closed_date_time          16505 non-null object\n",
      "acknowledged_at                  17657 non-null object\n",
      "ticket_created_date_time         19680 non-null object\n",
      "ticket_last_updated_date_time    19680 non-null object\n",
      "address                          19680 non-null object\n",
      "lat                              19680 non-null float64\n",
      "lng                              19680 non-null float64\n",
      "location                         19680 non-null object\n",
      "image                            4102 non-null object\n",
      "dtypes: float64(2), int64(2), object(11)\n",
      "memory usage: 2.3+ MB\n"
     ]
    }
   ],
   "source": [
    "data_311.info()"
   ]
  },
  {
   "cell_type": "code",
   "execution_count": 15,
   "metadata": {
    "collapsed": false
   },
   "outputs": [
    {
     "data": {
      "text/html": [
       "<div>\n",
       "<table border=\"1\" class=\"dataframe\">\n",
       "  <thead>\n",
       "    <tr style=\"text-align: right;\">\n",
       "      <th></th>\n",
       "      <th>ticket_id</th>\n",
       "      <th>city</th>\n",
       "      <th>issue_type</th>\n",
       "      <th>ticket_status</th>\n",
       "      <th>issue_description</th>\n",
       "      <th>rating</th>\n",
       "      <th>ticket_closed_date_time</th>\n",
       "      <th>acknowledged_at</th>\n",
       "      <th>ticket_created_date_time</th>\n",
       "      <th>ticket_last_updated_date_time</th>\n",
       "      <th>address</th>\n",
       "      <th>lat</th>\n",
       "      <th>lng</th>\n",
       "      <th>location</th>\n",
       "      <th>image</th>\n",
       "    </tr>\n",
       "  </thead>\n",
       "  <tbody>\n",
       "    <tr>\n",
       "      <th>20</th>\n",
       "      <td>1529617</td>\n",
       "      <td>City of Detroit</td>\n",
       "      <td>Clogged Drain</td>\n",
       "      <td>Acknowledged</td>\n",
       "      <td>NaN</td>\n",
       "      <td>2</td>\n",
       "      <td>NaN</td>\n",
       "      <td>03/13/2015 02:17:57 PM</td>\n",
       "      <td>03/13/2015 02:05:15 PM</td>\n",
       "      <td>03/13/2015 02:17:57 PM</td>\n",
       "      <td>17010 W Warren Detroit, Michigan</td>\n",
       "      <td>42.343693</td>\n",
       "      <td>-83.212805</td>\n",
       "      <td>(42.343693, -83.212805)</td>\n",
       "      <td>NaN</td>\n",
       "    </tr>\n",
       "    <tr>\n",
       "      <th>21</th>\n",
       "      <td>1529599</td>\n",
       "      <td>City of Detroit</td>\n",
       "      <td>Clogged Drain</td>\n",
       "      <td>Acknowledged</td>\n",
       "      <td>WATER WON'T GO DOWN COMPLAINTS OF WATER GETTIN...</td>\n",
       "      <td>3</td>\n",
       "      <td>NaN</td>\n",
       "      <td>03/13/2015 02:01:47 PM</td>\n",
       "      <td>03/13/2015 01:58:24 PM</td>\n",
       "      <td>04/13/2015 01:37:51 PM</td>\n",
       "      <td>3972  Coplin Detroit, Michigan</td>\n",
       "      <td>42.386467</td>\n",
       "      <td>-82.959047</td>\n",
       "      <td>(42.386467, -82.959047)</td>\n",
       "      <td>NaN</td>\n",
       "    </tr>\n",
       "    <tr>\n",
       "      <th>22</th>\n",
       "      <td>1529310</td>\n",
       "      <td>City of Detroit</td>\n",
       "      <td>Clogged Drain</td>\n",
       "      <td>Acknowledged</td>\n",
       "      <td>LARGE POOL OF WATER WON'T DRAIN GARBAGE ALSO R...</td>\n",
       "      <td>2</td>\n",
       "      <td>NaN</td>\n",
       "      <td>03/13/2015 11:27:38 AM</td>\n",
       "      <td>03/13/2015 11:18:07 AM</td>\n",
       "      <td>03/13/2015 11:27:38 AM</td>\n",
       "      <td>11705   St Louis Detroit, Michigan</td>\n",
       "      <td>42.410084</td>\n",
       "      <td>-83.039413</td>\n",
       "      <td>(42.4100843, -83.039413)</td>\n",
       "      <td>NaN</td>\n",
       "    </tr>\n",
       "    <tr>\n",
       "      <th>23</th>\n",
       "      <td>1529300</td>\n",
       "      <td>City of Detroit</td>\n",
       "      <td>Clogged Drain</td>\n",
       "      <td>Acknowledged</td>\n",
       "      <td>Citizen called DWSD to report blocked street d...</td>\n",
       "      <td>2</td>\n",
       "      <td>NaN</td>\n",
       "      <td>03/13/2015 11:27:32 AM</td>\n",
       "      <td>03/13/2015 11:12:53 AM</td>\n",
       "      <td>03/13/2015 11:27:32 AM</td>\n",
       "      <td>15410 Eastwood St Detroit, Michigan</td>\n",
       "      <td>42.433706</td>\n",
       "      <td>-82.962640</td>\n",
       "      <td>(42.433706, -82.9626399)</td>\n",
       "      <td>NaN</td>\n",
       "    </tr>\n",
       "    <tr>\n",
       "      <th>24</th>\n",
       "      <td>1534144</td>\n",
       "      <td>City of Detroit</td>\n",
       "      <td>Clogged Drain</td>\n",
       "      <td>Acknowledged</td>\n",
       "      <td>CURRENTLY THE STREET IS FLOODED BECAUSE THE DR...</td>\n",
       "      <td>2</td>\n",
       "      <td>NaN</td>\n",
       "      <td>03/16/2015 03:22:56 PM</td>\n",
       "      <td>03/16/2015 03:13:43 PM</td>\n",
       "      <td>04/27/2015 03:16:41 PM</td>\n",
       "      <td>20316 Kingsville Detroit, Michigan</td>\n",
       "      <td>42.427805</td>\n",
       "      <td>-82.932397</td>\n",
       "      <td>(42.427805, -82.932397)</td>\n",
       "      <td>NaN</td>\n",
       "    </tr>\n",
       "  </tbody>\n",
       "</table>\n",
       "</div>"
      ],
      "text/plain": [
       "    ticket_id             city     issue_type ticket_status  \\\n",
       "20    1529617  City of Detroit  Clogged Drain  Acknowledged   \n",
       "21    1529599  City of Detroit  Clogged Drain  Acknowledged   \n",
       "22    1529310  City of Detroit  Clogged Drain  Acknowledged   \n",
       "23    1529300  City of Detroit  Clogged Drain  Acknowledged   \n",
       "24    1534144  City of Detroit  Clogged Drain  Acknowledged   \n",
       "\n",
       "                                    issue_description  rating  \\\n",
       "20                                                NaN       2   \n",
       "21  WATER WON'T GO DOWN COMPLAINTS OF WATER GETTIN...       3   \n",
       "22  LARGE POOL OF WATER WON'T DRAIN GARBAGE ALSO R...       2   \n",
       "23  Citizen called DWSD to report blocked street d...       2   \n",
       "24  CURRENTLY THE STREET IS FLOODED BECAUSE THE DR...       2   \n",
       "\n",
       "   ticket_closed_date_time         acknowledged_at ticket_created_date_time  \\\n",
       "20                     NaN  03/13/2015 02:17:57 PM   03/13/2015 02:05:15 PM   \n",
       "21                     NaN  03/13/2015 02:01:47 PM   03/13/2015 01:58:24 PM   \n",
       "22                     NaN  03/13/2015 11:27:38 AM   03/13/2015 11:18:07 AM   \n",
       "23                     NaN  03/13/2015 11:27:32 AM   03/13/2015 11:12:53 AM   \n",
       "24                     NaN  03/16/2015 03:22:56 PM   03/16/2015 03:13:43 PM   \n",
       "\n",
       "   ticket_last_updated_date_time                              address  \\\n",
       "20        03/13/2015 02:17:57 PM     17010 W Warren Detroit, Michigan   \n",
       "21        04/13/2015 01:37:51 PM       3972  Coplin Detroit, Michigan   \n",
       "22        03/13/2015 11:27:38 AM   11705   St Louis Detroit, Michigan   \n",
       "23        03/13/2015 11:27:32 AM  15410 Eastwood St Detroit, Michigan   \n",
       "24        04/27/2015 03:16:41 PM   20316 Kingsville Detroit, Michigan   \n",
       "\n",
       "          lat        lng                  location image  \n",
       "20  42.343693 -83.212805   (42.343693, -83.212805)   NaN  \n",
       "21  42.386467 -82.959047   (42.386467, -82.959047)   NaN  \n",
       "22  42.410084 -83.039413  (42.4100843, -83.039413)   NaN  \n",
       "23  42.433706 -82.962640  (42.433706, -82.9626399)   NaN  \n",
       "24  42.427805 -82.932397   (42.427805, -82.932397)   NaN  "
      ]
     },
     "execution_count": 15,
     "metadata": {},
     "output_type": "execute_result"
    }
   ],
   "source": [
    "data_311.loc[20:24,:]"
   ]
  },
  {
   "cell_type": "code",
   "execution_count": 16,
   "metadata": {
    "collapsed": false
   },
   "outputs": [
    {
     "data": {
      "text/plain": [
       "array(['Clogged Drain', 'Tree Issue', 'Manhole Cover Issue',\n",
       "       'Water Main Break', 'Abandoned Vehicle', 'Fire Hydrant Issue',\n",
       "       'Traffic Signal Issue', 'Potholes', 'Traffic Sign Issue',\n",
       "       'Illegal Dumping / Illegal Dump Sites',\n",
       "       'Running Water in a Home or Building', 'Street Light Pole Down',\n",
       "       'Test (internal use only, public issue)', 'Graffiti',\n",
       "       'Customer Service (internal use only, private issue)',\n",
       "       'Residential Snow Removal Issue',\n",
       "       'Graffiti Abatement (internal use only, public issue)',\n",
       "       'DPW - Debris Removal',\n",
       "       'Trash Issue - Improper placement of refuse container between collections/left at curbside',\n",
       "       'Trash Issue - Bulk waste deposited more than 24 hours before designated time',\n",
       "       'Curbside Solid Waste Issue', 'Detroit Land Bank Referral',\n",
       "       'DPW - Other environmental'], dtype=object)"
      ]
     },
     "execution_count": 16,
     "metadata": {},
     "output_type": "execute_result"
    }
   ],
   "source": [
    "data_311[\"issue_type\"].unique()"
   ]
  },
  {
   "cell_type": "markdown",
   "metadata": {
    "collapsed": false
   },
   "source": [
    "## detroit-demolition-permits.tsv"
   ]
  },
  {
   "cell_type": "code",
   "execution_count": 5,
   "metadata": {
    "collapsed": false
   },
   "outputs": [],
   "source": [
    "permits = pd.read_csv('../data/detroit-demolition-permits.tsv',delimiter=\"\\t\")"
   ]
  },
  {
   "cell_type": "code",
   "execution_count": 6,
   "metadata": {
    "collapsed": false
   },
   "outputs": [
    {
     "data": {
      "text/plain": [
       "Index(['PERMIT_NO', 'PERMIT_APPLIED', 'PERMIT_ISSUED', 'PERMIT_EXPIRES',\n",
       "       'SITE_ADDRESS', 'BETWEEN1', 'PARCEL_NO', 'LOT_NUMBER', 'SUBDIVISION',\n",
       "       'CASE_TYPE', 'CASE_DESCRIPTION', 'LEGAL_USE', 'ESTIMATED_COST',\n",
       "       'PARCEL_SIZE', 'PARCEL_CLUSTER_SECTOR', 'STORIES', 'PARCEL_FLOOR_AREA',\n",
       "       'PARCEL_GROUND_AREA', 'PRC_AKA_ADDRESS', 'BLD_PERMIT_TYPE',\n",
       "       'PERMIT_DESCRIPTION', 'BLD_PERMIT_DESC', 'BLD_TYPE_USE', 'RESIDENTIAL',\n",
       "       'DESCRIPTION', 'BLD_TYPE_CONST_COD', 'BLD_ZONING_DIST', 'BLD_USE_GROUP',\n",
       "       'BLD_BASEMENT', 'FEE_TYPE', 'CSM_CASENO', 'CSF_CREATED_BY', 'SEQ_NO',\n",
       "       'PCF_AMT_PD', 'PCF_AMT_DUE', 'PCF_UPDATED', 'OWNER_LAST_NAME',\n",
       "       'OWNER_FIRST_NAME', 'OWNER_ADDRESS1', 'OWNER_ADDRESS2', 'OWNER_CITY',\n",
       "       'OWNER_STATE', 'OWNER_ZIP', 'CONTRACTOR_LAST_NAME',\n",
       "       'CONTRACTOR_FIRST_NAME', 'CONTRACTOR_ADDRESS1', 'CONTRACTOR_ADDRESS2',\n",
       "       'CONTRACTOR_CITY', 'CONTRACTOR_STATE', 'CONTRACTOR_ZIP',\n",
       "       'CONDITION_FOR_APPROVAL', 'site_location', 'owner_location',\n",
       "       'contractor_location', 'geom'],\n",
       "      dtype='object')"
      ]
     },
     "execution_count": 6,
     "metadata": {},
     "output_type": "execute_result"
    }
   ],
   "source": [
    "permits.columns"
   ]
  },
  {
   "cell_type": "code",
   "execution_count": 7,
   "metadata": {
    "collapsed": false
   },
   "outputs": [],
   "source": [
    "useful_columns = ['PERMIT_NO','SITE_ADDRESS',\n",
    "                  'PARCEL_SIZE','PARCEL_CLUSTER_SECTOR','PARCEL_GROUND_AREA',\n",
    "                  'site_location','owner_location','contractor_location']"
   ]
  },
  {
   "cell_type": "code",
   "execution_count": 8,
   "metadata": {
    "collapsed": false
   },
   "outputs": [],
   "source": [
    "permits_part1 = permits.loc[:,useful_columns]"
   ]
  },
  {
   "cell_type": "code",
   "execution_count": 14,
   "metadata": {
    "collapsed": false
   },
   "outputs": [
    {
     "data": {
      "text/html": [
       "<div>\n",
       "<table border=\"1\" class=\"dataframe\">\n",
       "  <thead>\n",
       "    <tr style=\"text-align: right;\">\n",
       "      <th></th>\n",
       "      <th>PERMIT_NO</th>\n",
       "      <th>SITE_ADDRESS</th>\n",
       "      <th>PARCEL_SIZE</th>\n",
       "      <th>PARCEL_CLUSTER_SECTOR</th>\n",
       "      <th>PARCEL_GROUND_AREA</th>\n",
       "      <th>site_location</th>\n",
       "      <th>owner_location</th>\n",
       "      <th>contractor_location</th>\n",
       "    </tr>\n",
       "  </thead>\n",
       "  <tbody>\n",
       "    <tr>\n",
       "      <th>10</th>\n",
       "      <td>BLD2015-03900</td>\n",
       "      <td>5576  ALTER</td>\n",
       "      <td>4617.0</td>\n",
       "      <td>3.0</td>\n",
       "      <td>855.0</td>\n",
       "      <td>5576 ALTER\\nDetroit, MI\\n(42.401202, -82.957525)</td>\n",
       "      <td>65 CADILLAC\\nDETROIT, MI\\n(42.331741326000042,...</td>\n",
       "      <td>13500 FOLEY\\nDETROIT, MI\\n(42.379332, -83.177501)</td>\n",
       "    </tr>\n",
       "    <tr>\n",
       "      <th>11</th>\n",
       "      <td>BLD2015-03673</td>\n",
       "      <td>3109  BASSETT</td>\n",
       "      <td>4356.0</td>\n",
       "      <td>5.0</td>\n",
       "      <td>749.0</td>\n",
       "      <td>3109 BASSETT\\nDetroit, MI\\n(42.262621, -83.155...</td>\n",
       "      <td>65 CADILLAC\\nDETROIT, MI\\n(42.331741326000042,...</td>\n",
       "      <td>13500 FOLEY\\nDETROIT, MI\\n(42.379332, -83.177501)</td>\n",
       "    </tr>\n",
       "    <tr>\n",
       "      <th>12</th>\n",
       "      <td>BLD2015-03824</td>\n",
       "      <td>471  ASHLAND</td>\n",
       "      <td>3441.0</td>\n",
       "      <td>3.0</td>\n",
       "      <td>912.0</td>\n",
       "      <td>471 ASHLAND\\nDetroit, MI\\n(42.36796, -82.935829)</td>\n",
       "      <td>65 CADILLAC\\nDETROIT, MI\\n(42.331741326000042,...</td>\n",
       "      <td>13500 FOLEY\\nDETROIT, MI\\n(42.379332, -83.177501)</td>\n",
       "    </tr>\n",
       "    <tr>\n",
       "      <th>13</th>\n",
       "      <td>BLD2015-03977</td>\n",
       "      <td>5807  BERKSHIRE</td>\n",
       "      <td>4487.0</td>\n",
       "      <td>3.0</td>\n",
       "      <td>728.0</td>\n",
       "      <td>5807 BERKSHIRE\\nDetroit, MI\\n(42.406569, -82.9...</td>\n",
       "      <td>65 CADILLAC\\nDETROIT, MI\\n(42.331741326000042,...</td>\n",
       "      <td>13500 FOLEY\\nDETROIT, MI\\n(42.379332, -83.177501)</td>\n",
       "    </tr>\n",
       "    <tr>\n",
       "      <th>14</th>\n",
       "      <td>BLD2015-03819</td>\n",
       "      <td>478  ALGONQUIN</td>\n",
       "      <td>NaN</td>\n",
       "      <td>3.0</td>\n",
       "      <td>NaN</td>\n",
       "      <td>478 ALGONQUIN\\nDetroit, MI\\n(42.362541, -82.95...</td>\n",
       "      <td>65 CADILLAC\\nDETROIT, MI\\n(42.331741326000042,...</td>\n",
       "      <td>13500 FOLEY\\nDETROIT, MI\\n(42.379332, -83.177501)</td>\n",
       "    </tr>\n",
       "  </tbody>\n",
       "</table>\n",
       "</div>"
      ],
      "text/plain": [
       "        PERMIT_NO     SITE_ADDRESS  PARCEL_SIZE  PARCEL_CLUSTER_SECTOR  \\\n",
       "10  BLD2015-03900      5576  ALTER       4617.0                    3.0   \n",
       "11  BLD2015-03673    3109  BASSETT       4356.0                    5.0   \n",
       "12  BLD2015-03824     471  ASHLAND       3441.0                    3.0   \n",
       "13  BLD2015-03977  5807  BERKSHIRE       4487.0                    3.0   \n",
       "14  BLD2015-03819   478  ALGONQUIN          NaN                    3.0   \n",
       "\n",
       "    PARCEL_GROUND_AREA                                      site_location  \\\n",
       "10               855.0   5576 ALTER\\nDetroit, MI\\n(42.401202, -82.957525)   \n",
       "11               749.0  3109 BASSETT\\nDetroit, MI\\n(42.262621, -83.155...   \n",
       "12               912.0   471 ASHLAND\\nDetroit, MI\\n(42.36796, -82.935829)   \n",
       "13               728.0  5807 BERKSHIRE\\nDetroit, MI\\n(42.406569, -82.9...   \n",
       "14                 NaN  478 ALGONQUIN\\nDetroit, MI\\n(42.362541, -82.95...   \n",
       "\n",
       "                                       owner_location  \\\n",
       "10  65 CADILLAC\\nDETROIT, MI\\n(42.331741326000042,...   \n",
       "11  65 CADILLAC\\nDETROIT, MI\\n(42.331741326000042,...   \n",
       "12  65 CADILLAC\\nDETROIT, MI\\n(42.331741326000042,...   \n",
       "13  65 CADILLAC\\nDETROIT, MI\\n(42.331741326000042,...   \n",
       "14  65 CADILLAC\\nDETROIT, MI\\n(42.331741326000042,...   \n",
       "\n",
       "                                  contractor_location  \n",
       "10  13500 FOLEY\\nDETROIT, MI\\n(42.379332, -83.177501)  \n",
       "11  13500 FOLEY\\nDETROIT, MI\\n(42.379332, -83.177501)  \n",
       "12  13500 FOLEY\\nDETROIT, MI\\n(42.379332, -83.177501)  \n",
       "13  13500 FOLEY\\nDETROIT, MI\\n(42.379332, -83.177501)  \n",
       "14  13500 FOLEY\\nDETROIT, MI\\n(42.379332, -83.177501)  "
      ]
     },
     "execution_count": 14,
     "metadata": {},
     "output_type": "execute_result"
    }
   ],
   "source": [
    "permits_part1.loc[10:14,:]"
   ]
  },
  {
   "cell_type": "markdown",
   "metadata": {
    "collapsed": true
   },
   "source": [
    "## detroit-crime.csv"
   ]
  },
  {
   "cell_type": "code",
   "execution_count": 17,
   "metadata": {
    "collapsed": false
   },
   "outputs": [
    {
     "name": "stderr",
     "output_type": "stream",
     "text": [
      "/Library/Frameworks/Python.framework/Versions/3.4/lib/python3.4/site-packages/IPython/core/interactiveshell.py:2723: DtypeWarning: Columns (2) have mixed types. Specify dtype option on import or set low_memory=False.\n",
      "  interactivity=interactivity, compiler=compiler, result=result)\n"
     ]
    }
   ],
   "source": [
    "data_crime = pd.read_csv(\"../data/detroit-crime.csv\")"
   ]
  },
  {
   "cell_type": "code",
   "execution_count": 18,
   "metadata": {
    "collapsed": false
   },
   "outputs": [
    {
     "data": {
      "text/html": [
       "<div>\n",
       "<table border=\"1\" class=\"dataframe\">\n",
       "  <thead>\n",
       "    <tr style=\"text-align: right;\">\n",
       "      <th></th>\n",
       "      <th>ROWNUM</th>\n",
       "      <th>CASEID</th>\n",
       "      <th>INCINO</th>\n",
       "      <th>CATEGORY</th>\n",
       "      <th>OFFENSEDESCRIPTION</th>\n",
       "      <th>STATEOFFENSEFILECLASS</th>\n",
       "      <th>INCIDENTDATE</th>\n",
       "      <th>HOUR</th>\n",
       "      <th>SCA</th>\n",
       "      <th>PRECINCT</th>\n",
       "      <th>COUNCIL</th>\n",
       "      <th>NEIGHBORHOOD</th>\n",
       "      <th>CENSUSTRACT</th>\n",
       "      <th>ADDRESS</th>\n",
       "      <th>LON</th>\n",
       "      <th>LAT</th>\n",
       "      <th>LOCATION</th>\n",
       "    </tr>\n",
       "  </thead>\n",
       "  <tbody>\n",
       "    <tr>\n",
       "      <th>33</th>\n",
       "      <td>52341</td>\n",
       "      <td>1953023</td>\n",
       "      <td>1505310318.1</td>\n",
       "      <td>ASSAULT</td>\n",
       "      <td>ASSAULT AND BATTERY/SIMPLE ASSAULT</td>\n",
       "      <td>13001.0</td>\n",
       "      <td>05/31/2015 12:00:00 AM</td>\n",
       "      <td>22</td>\n",
       "      <td>1102.0</td>\n",
       "      <td>11.0</td>\n",
       "      <td>City Council District 3</td>\n",
       "      <td>PERSHING</td>\n",
       "      <td>5069.0</td>\n",
       "      <td>19600 WEXFORD</td>\n",
       "      <td>-83.0655</td>\n",
       "      <td>42.4390</td>\n",
       "      <td>WEXFORD\\n19600\\n(42.4391, -83.0657)</td>\n",
       "    </tr>\n",
       "    <tr>\n",
       "      <th>34</th>\n",
       "      <td>94946</td>\n",
       "      <td>1996106</td>\n",
       "      <td>1509150272.1</td>\n",
       "      <td>TRAFFIC VIOLATIONS-MOTORCYCLE VIOLATIONS</td>\n",
       "      <td>MISCELLANEOUS - IMPOUNDED VEHICLE</td>\n",
       "      <td>99009.0</td>\n",
       "      <td>09/15/2015 12:00:00 AM</td>\n",
       "      <td>15</td>\n",
       "      <td>204.0</td>\n",
       "      <td>2.0</td>\n",
       "      <td>City Council District 1</td>\n",
       "      <td>PLYMOUTH-HUBBELL</td>\n",
       "      <td>5353.0</td>\n",
       "      <td>00 HUBBELL/ FULLERTON</td>\n",
       "      <td>-83.1881</td>\n",
       "      <td>42.3801</td>\n",
       "      <td>00 HUBBELL/ FULLERTON\\n(42.3798, -83.188)</td>\n",
       "    </tr>\n",
       "    <tr>\n",
       "      <th>35</th>\n",
       "      <td>29317</td>\n",
       "      <td>1929620</td>\n",
       "      <td>1504020149.1</td>\n",
       "      <td>TRAFFIC VIOLATIONS-MOTORCYCLE VIOLATIONS</td>\n",
       "      <td>MISCELLANEOUS - GENERAL NON-CRIMINAL</td>\n",
       "      <td>99009.0</td>\n",
       "      <td>03/01/2015 12:00:00 AM</td>\n",
       "      <td>10</td>\n",
       "      <td>311.0</td>\n",
       "      <td>3.0</td>\n",
       "      <td>City Council District 6</td>\n",
       "      <td>NECKLACE DISTRICT</td>\n",
       "      <td>5207.0</td>\n",
       "      <td>00 CASS/MICHIGAN</td>\n",
       "      <td>-83.0525</td>\n",
       "      <td>42.3315</td>\n",
       "      <td>00 CASS/MICHIGAN\\n(42.3316, -83.0524)</td>\n",
       "    </tr>\n",
       "    <tr>\n",
       "      <th>36</th>\n",
       "      <td>67074</td>\n",
       "      <td>1967934</td>\n",
       "      <td>1507080243.1</td>\n",
       "      <td>TRAFFIC VIOLATIONS-MOTORCYCLE VIOLATIONS</td>\n",
       "      <td>MISCELLANEOUS - GENERAL NON-CRIMINAL</td>\n",
       "      <td>99009.0</td>\n",
       "      <td>07/05/2015 12:00:00 AM</td>\n",
       "      <td>17</td>\n",
       "      <td>603.0</td>\n",
       "      <td>6.0</td>\n",
       "      <td>City Council District 1</td>\n",
       "      <td>CASTLE ROUGE</td>\n",
       "      <td>5440.0</td>\n",
       "      <td>23800 FULLERTON</td>\n",
       "      <td>-83.2738</td>\n",
       "      <td>42.3791</td>\n",
       "      <td>FULLERTON\\n23800\\n(42.3792, -83.2739)</td>\n",
       "    </tr>\n",
       "  </tbody>\n",
       "</table>\n",
       "</div>"
      ],
      "text/plain": [
       "    ROWNUM   CASEID        INCINO                                  CATEGORY  \\\n",
       "33   52341  1953023  1505310318.1                                   ASSAULT   \n",
       "34   94946  1996106  1509150272.1  TRAFFIC VIOLATIONS-MOTORCYCLE VIOLATIONS   \n",
       "35   29317  1929620  1504020149.1  TRAFFIC VIOLATIONS-MOTORCYCLE VIOLATIONS   \n",
       "36   67074  1967934  1507080243.1  TRAFFIC VIOLATIONS-MOTORCYCLE VIOLATIONS   \n",
       "\n",
       "                      OFFENSEDESCRIPTION  STATEOFFENSEFILECLASS  \\\n",
       "33    ASSAULT AND BATTERY/SIMPLE ASSAULT                13001.0   \n",
       "34     MISCELLANEOUS - IMPOUNDED VEHICLE                99009.0   \n",
       "35  MISCELLANEOUS - GENERAL NON-CRIMINAL                99009.0   \n",
       "36  MISCELLANEOUS - GENERAL NON-CRIMINAL                99009.0   \n",
       "\n",
       "              INCIDENTDATE  HOUR     SCA  PRECINCT                  COUNCIL  \\\n",
       "33  05/31/2015 12:00:00 AM    22  1102.0      11.0  City Council District 3   \n",
       "34  09/15/2015 12:00:00 AM    15   204.0       2.0  City Council District 1   \n",
       "35  03/01/2015 12:00:00 AM    10   311.0       3.0  City Council District 6   \n",
       "36  07/05/2015 12:00:00 AM    17   603.0       6.0  City Council District 1   \n",
       "\n",
       "         NEIGHBORHOOD  CENSUSTRACT                ADDRESS      LON      LAT  \\\n",
       "33           PERSHING       5069.0          19600 WEXFORD -83.0655  42.4390   \n",
       "34   PLYMOUTH-HUBBELL       5353.0  00 HUBBELL/ FULLERTON -83.1881  42.3801   \n",
       "35  NECKLACE DISTRICT       5207.0       00 CASS/MICHIGAN -83.0525  42.3315   \n",
       "36       CASTLE ROUGE       5440.0        23800 FULLERTON -83.2738  42.3791   \n",
       "\n",
       "                                     LOCATION  \n",
       "33        WEXFORD\\n19600\\n(42.4391, -83.0657)  \n",
       "34  00 HUBBELL/ FULLERTON\\n(42.3798, -83.188)  \n",
       "35      00 CASS/MICHIGAN\\n(42.3316, -83.0524)  \n",
       "36      FULLERTON\\n23800\\n(42.3792, -83.2739)  "
      ]
     },
     "execution_count": 18,
     "metadata": {},
     "output_type": "execute_result"
    }
   ],
   "source": [
    "data_crime.loc[33:36,:]"
   ]
  },
  {
   "cell_type": "markdown",
   "metadata": {},
   "source": [
    "## detroit-blight-violations.csv"
   ]
  },
  {
   "cell_type": "code",
   "execution_count": 19,
   "metadata": {
    "collapsed": false
   },
   "outputs": [
    {
     "name": "stderr",
     "output_type": "stream",
     "text": [
      "/Library/Frameworks/Python.framework/Versions/3.4/lib/python3.4/site-packages/IPython/core/interactiveshell.py:2723: DtypeWarning: Columns (6,10,11,12) have mixed types. Specify dtype option on import or set low_memory=False.\n",
      "  interactivity=interactivity, compiler=compiler, result=result)\n"
     ]
    }
   ],
   "source": [
    "data_bv = pd.read_csv(\"../data/detroit-blight-violations.csv\")"
   ]
  },
  {
   "cell_type": "code",
   "execution_count": 20,
   "metadata": {
    "collapsed": false
   },
   "outputs": [
    {
     "data": {
      "text/html": [
       "<div>\n",
       "<table border=\"1\" class=\"dataframe\">\n",
       "  <thead>\n",
       "    <tr style=\"text-align: right;\">\n",
       "      <th></th>\n",
       "      <th>TicketID</th>\n",
       "      <th>TicketNumber</th>\n",
       "      <th>AgencyName</th>\n",
       "      <th>ViolName</th>\n",
       "      <th>ViolationStreetNumber</th>\n",
       "      <th>ViolationStreetName</th>\n",
       "      <th>MailingStreetNumber</th>\n",
       "      <th>MailingStreetName</th>\n",
       "      <th>MailingCity</th>\n",
       "      <th>MailingState</th>\n",
       "      <th>...</th>\n",
       "      <th>AdminFee</th>\n",
       "      <th>LateFee</th>\n",
       "      <th>StateFee</th>\n",
       "      <th>CleanUpCost</th>\n",
       "      <th>JudgmentAmt</th>\n",
       "      <th>PaymentStatus</th>\n",
       "      <th>Void</th>\n",
       "      <th>ViolationCategory</th>\n",
       "      <th>ViolationAddress</th>\n",
       "      <th>MailingAddress</th>\n",
       "    </tr>\n",
       "  </thead>\n",
       "  <tbody>\n",
       "    <tr>\n",
       "      <th>52</th>\n",
       "      <td>23671</td>\n",
       "      <td>05000076DAH</td>\n",
       "      <td>Department of Public Works</td>\n",
       "      <td>RUSSELL-NEAVINS, HELEN</td>\n",
       "      <td>3871</td>\n",
       "      <td>LOVETT</td>\n",
       "      <td>23792</td>\n",
       "      <td>COUZENS</td>\n",
       "      <td>HAZEL PARK</td>\n",
       "      <td>MI</td>\n",
       "      <td>...</td>\n",
       "      <td>$20.00</td>\n",
       "      <td>$10.00</td>\n",
       "      <td>$10.00</td>\n",
       "      <td>$0.00</td>\n",
       "      <td>$140.00</td>\n",
       "      <td>NO PAYMENT APPLIED</td>\n",
       "      <td>0.0</td>\n",
       "      <td>0</td>\n",
       "      <td>3871 LOVETT\\nDetroit, MI\\n(42.33467089200008, ...</td>\n",
       "      <td>23792 COUZENS\\nHAZEL PARK, MI 48030\\n(42.46780...</td>\n",
       "    </tr>\n",
       "    <tr>\n",
       "      <th>53</th>\n",
       "      <td>23672</td>\n",
       "      <td>05000077DAH</td>\n",
       "      <td>Department of Public Works</td>\n",
       "      <td>HURT, ZETTIE</td>\n",
       "      <td>3542</td>\n",
       "      <td>23RD</td>\n",
       "      <td>3548</td>\n",
       "      <td>23RD</td>\n",
       "      <td>DETROIT</td>\n",
       "      <td>MI</td>\n",
       "      <td>...</td>\n",
       "      <td>$20.00</td>\n",
       "      <td>$350.00</td>\n",
       "      <td>$10.00</td>\n",
       "      <td>$0.00</td>\n",
       "      <td>$3880.00</td>\n",
       "      <td>NO PAYMENT APPLIED</td>\n",
       "      <td>0.0</td>\n",
       "      <td>0</td>\n",
       "      <td>3542 23RD\\nDetroit, MI\\n(42.33590729100007, -8...</td>\n",
       "      <td>3548 23RD\\nDETROIT, MI 48208\\n(42.335987950000...</td>\n",
       "    </tr>\n",
       "    <tr>\n",
       "      <th>54</th>\n",
       "      <td>23717</td>\n",
       "      <td>05000078DAH</td>\n",
       "      <td>Department of Public Works</td>\n",
       "      <td>WILLIAMS STREET COGIC,</td>\n",
       "      <td>3542</td>\n",
       "      <td>TILLMAN</td>\n",
       "      <td>3595</td>\n",
       "      <td>JEFFRIES</td>\n",
       "      <td>DETROIT</td>\n",
       "      <td>MI</td>\n",
       "      <td>...</td>\n",
       "      <td>$20.00</td>\n",
       "      <td>$50.00</td>\n",
       "      <td>$10.00</td>\n",
       "      <td>$0.00</td>\n",
       "      <td>$580.00</td>\n",
       "      <td>PAID IN FULL</td>\n",
       "      <td>0.0</td>\n",
       "      <td>0</td>\n",
       "      <td>3542 TILLMAN\\nDetroit, MI\\n(42.336247214000025...</td>\n",
       "      <td>3595 JEFFRIES\\nDETROIT, MI 48208\\n(42.38270662...</td>\n",
       "    </tr>\n",
       "    <tr>\n",
       "      <th>55</th>\n",
       "      <td>24341</td>\n",
       "      <td>05000079DAH</td>\n",
       "      <td>Department of Public Works</td>\n",
       "      <td>Israel Missionary Baptist Chur, 0000</td>\n",
       "      <td>5280</td>\n",
       "      <td>GATESHEAD</td>\n",
       "      <td>3748</td>\n",
       "      <td>E Forest</td>\n",
       "      <td>Detroit</td>\n",
       "      <td>MI</td>\n",
       "      <td>...</td>\n",
       "      <td>$20.00</td>\n",
       "      <td>$10.00</td>\n",
       "      <td>$10.00</td>\n",
       "      <td>$0.00</td>\n",
       "      <td>$140.00</td>\n",
       "      <td>PAID IN FULL</td>\n",
       "      <td>0.0</td>\n",
       "      <td>0</td>\n",
       "      <td>5280 GATESHEAD\\nDetroit, MI\\n(42.4159758970000...</td>\n",
       "      <td>3748 E Forest\\nDetroit, MI 48207\\n(42.36818270...</td>\n",
       "    </tr>\n",
       "    <tr>\n",
       "      <th>56</th>\n",
       "      <td>24345</td>\n",
       "      <td>05000080DAH</td>\n",
       "      <td>Department of Public Works</td>\n",
       "      <td>Hadeed, Nabhan</td>\n",
       "      <td>5003</td>\n",
       "      <td>ASHLEY</td>\n",
       "      <td>5003</td>\n",
       "      <td>Ashley</td>\n",
       "      <td>Detroit</td>\n",
       "      <td>MI</td>\n",
       "      <td>...</td>\n",
       "      <td>$20.00</td>\n",
       "      <td>$10.00</td>\n",
       "      <td>$10.00</td>\n",
       "      <td>$0.00</td>\n",
       "      <td>$140.00</td>\n",
       "      <td>NO PAYMENT APPLIED</td>\n",
       "      <td>0.0</td>\n",
       "      <td>0</td>\n",
       "      <td>5003 ASHLEY\\nDetroit, MI\\n(42.41401356100005, ...</td>\n",
       "      <td>5003 Ashley\\nDetroit, MI 48236\\n(42.4140135610...</td>\n",
       "    </tr>\n",
       "  </tbody>\n",
       "</table>\n",
       "<p>5 rows × 31 columns</p>\n",
       "</div>"
      ],
      "text/plain": [
       "    TicketID TicketNumber                  AgencyName  \\\n",
       "52     23671  05000076DAH  Department of Public Works   \n",
       "53     23672  05000077DAH  Department of Public Works   \n",
       "54     23717  05000078DAH  Department of Public Works   \n",
       "55     24341  05000079DAH  Department of Public Works   \n",
       "56     24345  05000080DAH  Department of Public Works   \n",
       "\n",
       "                                 ViolName  ViolationStreetNumber  \\\n",
       "52                RUSSELL-NEAVINS, HELEN                    3871   \n",
       "53                          HURT, ZETTIE                    3542   \n",
       "54           WILLIAMS STREET COGIC,                         3542   \n",
       "55  Israel Missionary Baptist Chur, 0000                    5280   \n",
       "56                        Hadeed, Nabhan                    5003   \n",
       "\n",
       "   ViolationStreetName MailingStreetNumber MailingStreetName MailingCity  \\\n",
       "52    LOVETT                         23792           COUZENS  HAZEL PARK   \n",
       "53    23RD                            3548              23RD     DETROIT   \n",
       "54    TILLMAN                         3595          JEFFRIES     DETROIT   \n",
       "55    GATESHEAD                       3748          E Forest     Detroit   \n",
       "56    ASHLEY                          5003            Ashley     Detroit   \n",
       "\n",
       "   MailingState                        ...                         AdminFee  \\\n",
       "52           MI                        ...                           $20.00   \n",
       "53           MI                        ...                           $20.00   \n",
       "54           MI                        ...                           $20.00   \n",
       "55           MI                        ...                           $20.00   \n",
       "56           MI                        ...                           $20.00   \n",
       "\n",
       "    LateFee StateFee CleanUpCost JudgmentAmt       PaymentStatus Void  \\\n",
       "52   $10.00   $10.00       $0.00     $140.00  NO PAYMENT APPLIED  0.0   \n",
       "53  $350.00   $10.00       $0.00    $3880.00  NO PAYMENT APPLIED  0.0   \n",
       "54   $50.00   $10.00       $0.00     $580.00        PAID IN FULL  0.0   \n",
       "55   $10.00   $10.00       $0.00     $140.00        PAID IN FULL  0.0   \n",
       "56   $10.00   $10.00       $0.00     $140.00  NO PAYMENT APPLIED  0.0   \n",
       "\n",
       "   ViolationCategory                                   ViolationAddress  \\\n",
       "52                 0  3871 LOVETT\\nDetroit, MI\\n(42.33467089200008, ...   \n",
       "53                 0  3542 23RD\\nDetroit, MI\\n(42.33590729100007, -8...   \n",
       "54                 0  3542 TILLMAN\\nDetroit, MI\\n(42.336247214000025...   \n",
       "55                 0  5280 GATESHEAD\\nDetroit, MI\\n(42.4159758970000...   \n",
       "56                 0  5003 ASHLEY\\nDetroit, MI\\n(42.41401356100005, ...   \n",
       "\n",
       "                                       MailingAddress  \n",
       "52  23792 COUZENS\\nHAZEL PARK, MI 48030\\n(42.46780...  \n",
       "53  3548 23RD\\nDETROIT, MI 48208\\n(42.335987950000...  \n",
       "54  3595 JEFFRIES\\nDETROIT, MI 48208\\n(42.38270662...  \n",
       "55  3748 E Forest\\nDetroit, MI 48207\\n(42.36818270...  \n",
       "56  5003 Ashley\\nDetroit, MI 48236\\n(42.4140135610...  \n",
       "\n",
       "[5 rows x 31 columns]"
      ]
     },
     "execution_count": 20,
     "metadata": {},
     "output_type": "execute_result"
    }
   ],
   "source": [
    "data_bv.loc[52:56,:]"
   ]
  },
  {
   "cell_type": "code",
   "execution_count": 21,
   "metadata": {
    "collapsed": false
   },
   "outputs": [
    {
     "data": {
      "text/plain": [
       "Index(['TicketID', 'TicketNumber', 'AgencyName', 'ViolName',\n",
       "       'ViolationStreetNumber', 'ViolationStreetName', 'MailingStreetNumber',\n",
       "       'MailingStreetName', 'MailingCity', 'MailingState', 'MailingZipCode',\n",
       "       'NonUsAddressCode', 'Country', 'TicketIssuedDT', 'TicketIssuedTime',\n",
       "       'HearingDT', 'CourtTime', 'ViolationCode', 'ViolDescription',\n",
       "       'Disposition', 'FineAmt', 'AdminFee', 'LateFee', 'StateFee',\n",
       "       'CleanUpCost', 'JudgmentAmt', 'PaymentStatus', 'Void',\n",
       "       'ViolationCategory', 'ViolationAddress', 'MailingAddress'],\n",
       "      dtype='object')"
      ]
     },
     "execution_count": 21,
     "metadata": {},
     "output_type": "execute_result"
    }
   ],
   "source": [
    "data_bv.columns"
   ]
  },
  {
   "cell_type": "code",
   "execution_count": 22,
   "metadata": {
    "collapsed": false
   },
   "outputs": [
    {
     "data": {
      "text/plain": [
       "array([nan, 'US', 'Canada', 'Ireland', 'Taiwan', 'Kuwait', 'Singapore',\n",
       "       'South Africa', 'United Kingdom', 'India', 'Australia', 'Germany',\n",
       "       'Japan', 'Nigeria', 'Ukraine', 'Israel', 'United States of America',\n",
       "       'Hong Kong', 'China', 'Central African Republic', 'Djibouti',\n",
       "       'France', 'United Arab Emirates', 'Poland', 'Saudi Arabia', 'Oman',\n",
       "       'Malaysia', 'Mexico', 'Netherlands', 'Italy',\n",
       "       'Northern Mariana Islands'], dtype=object)"
      ]
     },
     "execution_count": 22,
     "metadata": {},
     "output_type": "execute_result"
    }
   ],
   "source": [
    "data_bv['Country'].unique()"
   ]
  },
  {
   "cell_type": "code",
   "execution_count": 23,
   "metadata": {
    "collapsed": false
   },
   "outputs": [
    {
     "data": {
      "text/plain": [
       "array([0, 1])"
      ]
     },
     "execution_count": 23,
     "metadata": {},
     "output_type": "execute_result"
    }
   ],
   "source": [
    "data_bv['ViolationCategory'].unique()"
   ]
  },
  {
   "cell_type": "markdown",
   "metadata": {},
   "source": [
    "## Visualization"
   ]
  },
  {
   "cell_type": "code",
   "execution_count": 25,
   "metadata": {
    "collapsed": true
   },
   "outputs": [],
   "source": [
    "from mpl_toolkits.basemap import Basemap"
   ]
  },
  {
   "cell_type": "code",
   "execution_count": 56,
   "metadata": {
    "collapsed": false
   },
   "outputs": [
    {
     "data": {
      "image/png": "[encoded data removed]",
      "text/plain": [
       "<matplotlib.figure.Figure at 0x112826160>"
      ]
     },
     "metadata": {},
     "output_type": "display_data"
    }
   ],
   "source": [
    "#fig, ax = plt.subplots(111, figsize=(10,10))\n",
    "fig = plt.figure(figsize=(8,8))\n",
    "ax = fig.add_subplot()\n",
    "ax = Basemap(llcrnrlon=-83.304482,llcrnrlat=42.220958,\n",
    "              urcrnrlon=-82.879274,urcrnrlat=42.469421,\n",
    "              resolution='h', projection='tmerc', \n",
    "              lat_0 = 42.3314, lon_0 = -83.0458)\n",
    "\n",
    "ax.drawmapboundary(fill_color='aqua')\n",
    "ax.fillcontinents(color='#99d8c9',lake_color='aqua')\n",
    "#map.drawcoastlines()\n",
    "\n",
    "#map.drawcounties()\n",
    "ax.readshapefile('./Detroit_City_Boundaries/zipcode', 'zipcode')\n",
    "ax.plot(x=42.3801,y=-83.1881,latlon=True, markersize=200,marker='o')\n",
    "plt.show()\n"
   ]
  },
  {
   "cell_type": "code",
   "execution_count": 46,
   "metadata": {
    "collapsed": false
   },
   "outputs": [
    {
     "data": {
      "text/plain": [
       "dtype('float64')"
      ]
     },
     "execution_count": 46,
     "metadata": {},
     "output_type": "execute_result"
    }
   ],
   "source": [
    "data_crime['LON'].dtype"
   ]
  },
  {
   "cell_type": "code",
   "execution_count": 52,
   "metadata": {
    "collapsed": true
   },
   "outputs": [],
   "source": [
    "plt.plot?"
   ]
  },
  {
   "cell_type": "code",
   "execution_count": null,
   "metadata": {
    "collapsed": true
   },
   "outputs": [],
   "source": []
  }
 ],
 "metadata": {
  "kernelspec": {
   "display_name": "Python 3",
   "language": "python",
   "name": "python3"
  },
  "language_info": {
   "codemirror_mode": {
    "name": "ipython",
    "version": 3
   },
   "file_extension": ".py",
   "mimetype": "text/x-python",
   "name": "python",
   "nbconvert_exporter": "python",
   "pygments_lexer": "ipython3",
   "version": "3.4.3"
  }
 },
 "nbformat": 4,
 "nbformat_minor": 0
}
