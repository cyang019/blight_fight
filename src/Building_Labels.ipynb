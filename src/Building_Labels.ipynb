{
 "cells": [
  {
   "cell_type": "markdown",
   "metadata": {},
   "source": [
    "# Step 2: Building Labels"
   ]
  },
  {
   "cell_type": "code",
   "execution_count": 20,
   "metadata": {
    "collapsed": true
   },
   "outputs": [],
   "source": [
    "import numpy as np\n",
    "import pandas as pd\n",
    "import matplotlib.pyplot as plt\n",
    "%matplotlib inline"
   ]
  },
  {
   "cell_type": "code",
   "execution_count": 21,
   "metadata": {
    "collapsed": true
   },
   "outputs": [],
   "source": [
    "buildings = pd.read_csv('../data/buildings.csv')\n",
    "permits = pd.read_csv('../data/permits.csv')"
   ]
  },
  {
   "cell_type": "code",
   "execution_count": 22,
   "metadata": {
    "collapsed": false
   },
   "outputs": [
    {
     "data": {
      "text/plain": [
       "(6315, 57)"
      ]
     },
     "execution_count": 22,
     "metadata": {},
     "output_type": "execute_result"
    }
   ],
   "source": [
    "permits.shape"
   ]
  },
  {
   "cell_type": "code",
   "execution_count": 23,
   "metadata": {
    "collapsed": false
   },
   "outputs": [
    {
     "data": {
      "text/plain": [
       "(200055, 9)"
      ]
     },
     "execution_count": 23,
     "metadata": {},
     "output_type": "execute_result"
    }
   ],
   "source": [
    "buildings.shape"
   ]
  },
  {
   "cell_type": "code",
   "execution_count": 24,
   "metadata": {
    "collapsed": false
   },
   "outputs": [
    {
     "data": {
      "text/html": [
       "<div>\n",
       "<table border=\"1\" class=\"dataframe\">\n",
       "  <thead>\n",
       "    <tr style=\"text-align: right;\">\n",
       "      <th></th>\n",
       "      <th>PERMIT_NO</th>\n",
       "      <th>PERMIT_APPLIED</th>\n",
       "      <th>PERMIT_ISSUED</th>\n",
       "      <th>PERMIT_EXPIRES</th>\n",
       "      <th>SITE_ADDRESS</th>\n",
       "      <th>BETWEEN1</th>\n",
       "      <th>PARCEL_NO</th>\n",
       "      <th>LOT_NUMBER</th>\n",
       "      <th>SUBDIVISION</th>\n",
       "      <th>CASE_TYPE</th>\n",
       "      <th>...</th>\n",
       "      <th>CONTRACTOR_CITY</th>\n",
       "      <th>CONTRACTOR_STATE</th>\n",
       "      <th>CONTRACTOR_ZIP</th>\n",
       "      <th>CONDITION_FOR_APPROVAL</th>\n",
       "      <th>owner_location</th>\n",
       "      <th>contractor_location</th>\n",
       "      <th>geom</th>\n",
       "      <th>addr</th>\n",
       "      <th>lon</th>\n",
       "      <th>lat</th>\n",
       "    </tr>\n",
       "  </thead>\n",
       "  <tbody>\n",
       "    <tr>\n",
       "      <th>0</th>\n",
       "      <td>BLD2015-03955</td>\n",
       "      <td>8/28/15</td>\n",
       "      <td>8/28/15</td>\n",
       "      <td>NaN</td>\n",
       "      <td>4331  BARHAM</td>\n",
       "      <td>BETWEEN VOIGHT AND WAVENEY</td>\n",
       "      <td>2165525-6</td>\n",
       "      <td>S15</td>\n",
       "      <td>NaN</td>\n",
       "      <td>BLD</td>\n",
       "      <td>...</td>\n",
       "      <td>DETROIT</td>\n",
       "      <td>NaN</td>\n",
       "      <td>48227.0</td>\n",
       "      <td>NaN</td>\n",
       "      <td>65 CADILLAC\\nDETROIT, MI\\n(42.331741326000042,...</td>\n",
       "      <td>13500 FOLEY\\nDETROIT, MI\\n(42.379332, -83.177501)</td>\n",
       "      <td>NaN</td>\n",
       "      <td>4331 barham</td>\n",
       "      <td>-82.9474</td>\n",
       "      <td>42.394106</td>\n",
       "    </tr>\n",
       "  </tbody>\n",
       "</table>\n",
       "<p>1 rows × 57 columns</p>\n",
       "</div>"
      ],
      "text/plain": [
       "       PERMIT_NO PERMIT_APPLIED PERMIT_ISSUED PERMIT_EXPIRES  SITE_ADDRESS  \\\n",
       "0  BLD2015-03955        8/28/15       8/28/15            NaN  4331  BARHAM   \n",
       "\n",
       "                     BETWEEN1  PARCEL_NO LOT_NUMBER SUBDIVISION CASE_TYPE  \\\n",
       "0  BETWEEN VOIGHT AND WAVENEY  2165525-6        S15         NaN       BLD   \n",
       "\n",
       "     ...     CONTRACTOR_CITY CONTRACTOR_STATE CONTRACTOR_ZIP  \\\n",
       "0    ...             DETROIT              NaN        48227.0   \n",
       "\n",
       "   CONDITION_FOR_APPROVAL                                     owner_location  \\\n",
       "0                     NaN  65 CADILLAC\\nDETROIT, MI\\n(42.331741326000042,...   \n",
       "\n",
       "                                 contractor_location  geom         addr  \\\n",
       "0  13500 FOLEY\\nDETROIT, MI\\n(42.379332, -83.177501)   NaN  4331 barham   \n",
       "\n",
       "       lon        lat  \n",
       "0 -82.9474  42.394106  \n",
       "\n",
       "[1 rows x 57 columns]"
      ]
     },
     "execution_count": 24,
     "metadata": {},
     "output_type": "execute_result"
    }
   ],
   "source": [
    "permits.head(1)"
   ]
  },
  {
   "cell_type": "code",
   "execution_count": 25,
   "metadata": {
    "collapsed": true
   },
   "outputs": [],
   "source": [
    "permits = permits[['addr','lon','lat','BLD_PERMIT_TYPE']]  #select only relevant columns"
   ]
  },
  {
   "cell_type": "code",
   "execution_count": 26,
   "metadata": {
    "collapsed": false
   },
   "outputs": [
    {
     "data": {
      "text/plain": [
       "array(['Dismantle', 'DISM'], dtype=object)"
      ]
     },
     "execution_count": 26,
     "metadata": {},
     "output_type": "execute_result"
    }
   ],
   "source": [
    "permits['BLD_PERMIT_TYPE'].unique()"
   ]
  },
  {
   "cell_type": "markdown",
   "metadata": {},
   "source": [
    "Any buildings showing up in permits are blighted"
   ]
  },
  {
   "cell_type": "code",
   "execution_count": 27,
   "metadata": {
    "collapsed": false
   },
   "outputs": [],
   "source": [
    "buildings['blighted'] = False\n",
    "permits['by_addr'] = False   # if permits assigned to buildings by address"
   ]
  },
  {
   "cell_type": "code",
   "execution_count": 28,
   "metadata": {
    "collapsed": false
   },
   "outputs": [
    {
     "data": {
      "text/html": [
       "<div>\n",
       "<table border=\"1\" class=\"dataframe\">\n",
       "  <thead>\n",
       "    <tr style=\"text-align: right;\">\n",
       "      <th></th>\n",
       "      <th>addr</th>\n",
       "      <th>lon</th>\n",
       "      <th>lat</th>\n",
       "      <th>BLD_PERMIT_TYPE</th>\n",
       "      <th>by_addr</th>\n",
       "    </tr>\n",
       "  </thead>\n",
       "  <tbody>\n",
       "    <tr>\n",
       "      <th>0</th>\n",
       "      <td>4331 barham</td>\n",
       "      <td>-82.9474</td>\n",
       "      <td>42.394106</td>\n",
       "      <td>Dismantle</td>\n",
       "      <td>False</td>\n",
       "    </tr>\n",
       "  </tbody>\n",
       "</table>\n",
       "</div>"
      ],
      "text/plain": [
       "          addr      lon        lat BLD_PERMIT_TYPE by_addr\n",
       "0  4331 barham -82.9474  42.394106       Dismantle   False"
      ]
     },
     "execution_count": 28,
     "metadata": {},
     "output_type": "execute_result"
    }
   ],
   "source": [
    "permits.head(1)    "
   ]
  },
  {
   "cell_type": "code",
   "execution_count": 95,
   "metadata": {
    "collapsed": false
   },
   "outputs": [
    {
     "ename": "ValueError",
     "evalue": "keep must be either \"first\", \"last\" or False",
     "output_type": "error",
     "traceback": [
      "\u001b[0;31m---------------------------------------------------------------------------\u001b[0m",
      "\u001b[0;31mValueError\u001b[0m                                Traceback (most recent call last)",
      "\u001b[0;32m<ipython-input-95-e07c9cda72b4>\u001b[0m in \u001b[0;36m<module>\u001b[0;34m()\u001b[0m\n\u001b[0;32m----> 1\u001b[0;31m \u001b[0mpermits\u001b[0m\u001b[0;34m.\u001b[0m\u001b[0mdrop_duplicates\u001b[0m\u001b[0;34m(\u001b[0m\u001b[0;34m'lon'\u001b[0m\u001b[0;34m,\u001b[0m\u001b[0;34m'lat'\u001b[0m\u001b[0;34m,\u001b[0m \u001b[0minplace\u001b[0m\u001b[0;34m=\u001b[0m\u001b[0;32mTrue\u001b[0m\u001b[0;34m)\u001b[0m\u001b[0;34m\u001b[0m\u001b[0m\n\u001b[0m",
      "\u001b[0;32m/Library/Frameworks/Python.framework/Versions/3.4/lib/python3.4/site-packages/pandas/util/decorators.py\u001b[0m in \u001b[0;36mwrapper\u001b[0;34m(*args, **kwargs)\u001b[0m\n\u001b[1;32m     89\u001b[0m                 \u001b[0;32melse\u001b[0m\u001b[0;34m:\u001b[0m\u001b[0;34m\u001b[0m\u001b[0m\n\u001b[1;32m     90\u001b[0m                     \u001b[0mkwargs\u001b[0m\u001b[0;34m[\u001b[0m\u001b[0mnew_arg_name\u001b[0m\u001b[0;34m]\u001b[0m \u001b[0;34m=\u001b[0m \u001b[0mnew_arg_value\u001b[0m\u001b[0;34m\u001b[0m\u001b[0m\n\u001b[0;32m---> 91\u001b[0;31m             \u001b[0;32mreturn\u001b[0m \u001b[0mfunc\u001b[0m\u001b[0;34m(\u001b[0m\u001b[0;34m*\u001b[0m\u001b[0margs\u001b[0m\u001b[0;34m,\u001b[0m \u001b[0;34m**\u001b[0m\u001b[0mkwargs\u001b[0m\u001b[0;34m)\u001b[0m\u001b[0;34m\u001b[0m\u001b[0m\n\u001b[0m\u001b[1;32m     92\u001b[0m         \u001b[0;32mreturn\u001b[0m \u001b[0mwrapper\u001b[0m\u001b[0;34m\u001b[0m\u001b[0m\n\u001b[1;32m     93\u001b[0m     \u001b[0;32mreturn\u001b[0m \u001b[0m_deprecate_kwarg\u001b[0m\u001b[0;34m\u001b[0m\u001b[0m\n",
      "\u001b[0;32m/Library/Frameworks/Python.framework/Versions/3.4/lib/python3.4/site-packages/pandas/core/frame.py\u001b[0m in \u001b[0;36mdrop_duplicates\u001b[0;34m(self, subset, keep, inplace)\u001b[0m\n\u001b[1;32m   3056\u001b[0m         \u001b[0mdeduplicated\u001b[0m \u001b[0;34m:\u001b[0m \u001b[0mDataFrame\u001b[0m\u001b[0;34m\u001b[0m\u001b[0m\n\u001b[1;32m   3057\u001b[0m         \"\"\"\n\u001b[0;32m-> 3058\u001b[0;31m         \u001b[0mduplicated\u001b[0m \u001b[0;34m=\u001b[0m \u001b[0mself\u001b[0m\u001b[0;34m.\u001b[0m\u001b[0mduplicated\u001b[0m\u001b[0;34m(\u001b[0m\u001b[0msubset\u001b[0m\u001b[0;34m,\u001b[0m \u001b[0mkeep\u001b[0m\u001b[0;34m=\u001b[0m\u001b[0mkeep\u001b[0m\u001b[0;34m)\u001b[0m\u001b[0;34m\u001b[0m\u001b[0m\n\u001b[0m\u001b[1;32m   3059\u001b[0m \u001b[0;34m\u001b[0m\u001b[0m\n\u001b[1;32m   3060\u001b[0m         \u001b[0;32mif\u001b[0m \u001b[0minplace\u001b[0m\u001b[0;34m:\u001b[0m\u001b[0;34m\u001b[0m\u001b[0m\n",
      "\u001b[0;32m/Library/Frameworks/Python.framework/Versions/3.4/lib/python3.4/site-packages/pandas/util/decorators.py\u001b[0m in \u001b[0;36mwrapper\u001b[0;34m(*args, **kwargs)\u001b[0m\n\u001b[1;32m     89\u001b[0m                 \u001b[0;32melse\u001b[0m\u001b[0;34m:\u001b[0m\u001b[0;34m\u001b[0m\u001b[0m\n\u001b[1;32m     90\u001b[0m                     \u001b[0mkwargs\u001b[0m\u001b[0;34m[\u001b[0m\u001b[0mnew_arg_name\u001b[0m\u001b[0;34m]\u001b[0m \u001b[0;34m=\u001b[0m \u001b[0mnew_arg_value\u001b[0m\u001b[0;34m\u001b[0m\u001b[0m\n\u001b[0;32m---> 91\u001b[0;31m             \u001b[0;32mreturn\u001b[0m \u001b[0mfunc\u001b[0m\u001b[0;34m(\u001b[0m\u001b[0;34m*\u001b[0m\u001b[0margs\u001b[0m\u001b[0;34m,\u001b[0m \u001b[0;34m**\u001b[0m\u001b[0mkwargs\u001b[0m\u001b[0;34m)\u001b[0m\u001b[0;34m\u001b[0m\u001b[0m\n\u001b[0m\u001b[1;32m     92\u001b[0m         \u001b[0;32mreturn\u001b[0m \u001b[0mwrapper\u001b[0m\u001b[0;34m\u001b[0m\u001b[0m\n\u001b[1;32m     93\u001b[0m     \u001b[0;32mreturn\u001b[0m \u001b[0m_deprecate_kwarg\u001b[0m\u001b[0;34m\u001b[0m\u001b[0m\n",
      "\u001b[0;32m/Library/Frameworks/Python.framework/Versions/3.4/lib/python3.4/site-packages/pandas/core/frame.py\u001b[0m in \u001b[0;36mduplicated\u001b[0;34m(self, subset, keep)\u001b[0m\n\u001b[1;32m   3109\u001b[0m \u001b[0;34m\u001b[0m\u001b[0m\n\u001b[1;32m   3110\u001b[0m         \u001b[0mids\u001b[0m \u001b[0;34m=\u001b[0m \u001b[0mget_group_index\u001b[0m\u001b[0;34m(\u001b[0m\u001b[0mlabels\u001b[0m\u001b[0;34m,\u001b[0m \u001b[0mshape\u001b[0m\u001b[0;34m,\u001b[0m \u001b[0msort\u001b[0m\u001b[0;34m=\u001b[0m\u001b[0;32mFalse\u001b[0m\u001b[0;34m,\u001b[0m \u001b[0mxnull\u001b[0m\u001b[0;34m=\u001b[0m\u001b[0;32mFalse\u001b[0m\u001b[0;34m)\u001b[0m\u001b[0;34m\u001b[0m\u001b[0m\n\u001b[0;32m-> 3111\u001b[0;31m         \u001b[0;32mreturn\u001b[0m \u001b[0mSeries\u001b[0m\u001b[0;34m(\u001b[0m\u001b[0mduplicated_int64\u001b[0m\u001b[0;34m(\u001b[0m\u001b[0mids\u001b[0m\u001b[0;34m,\u001b[0m \u001b[0mkeep\u001b[0m\u001b[0;34m)\u001b[0m\u001b[0;34m,\u001b[0m \u001b[0mindex\u001b[0m\u001b[0;34m=\u001b[0m\u001b[0mself\u001b[0m\u001b[0;34m.\u001b[0m\u001b[0mindex\u001b[0m\u001b[0;34m)\u001b[0m\u001b[0;34m\u001b[0m\u001b[0m\n\u001b[0m\u001b[1;32m   3112\u001b[0m \u001b[0;34m\u001b[0m\u001b[0m\n\u001b[1;32m   3113\u001b[0m     \u001b[0;31m# ----------------------------------------------------------------------\u001b[0m\u001b[0;34m\u001b[0m\u001b[0;34m\u001b[0m\u001b[0m\n",
      "\u001b[0;32mpandas/hashtable.pyx\u001b[0m in \u001b[0;36mpandas.hashtable.duplicated_int64 (pandas/hashtable.c:20061)\u001b[0;34m()\u001b[0m\n",
      "\u001b[0;31mValueError\u001b[0m: keep must be either \"first\", \"last\" or False"
     ]
    }
   ],
   "source": [
    "permits.drop_duplicates('lon','lat')"
   ]
  },
  {
   "cell_type": "code",
   "execution_count": null,
   "metadata": {
    "collapsed": true
   },
   "outputs": [],
   "source": []
  },
  {
   "cell_type": "code",
   "execution_count": null,
   "metadata": {
    "collapsed": true
   },
   "outputs": [],
   "source": []
  },
  {
   "cell_type": "markdown",
   "metadata": {},
   "source": [
    "### Assign By Address"
   ]
  },
  {
   "cell_type": "code",
   "execution_count": 29,
   "metadata": {
    "collapsed": false
   },
   "outputs": [],
   "source": [
    "buildings['blighted'] = buildings['addr'].apply(lambda x: x in permits['addr'].values.tolist())"
   ]
  },
  {
   "cell_type": "code",
   "execution_count": 30,
   "metadata": {
    "collapsed": false
   },
   "outputs": [
    {
     "data": {
      "text/plain": [
       "False    197555\n",
       "True       2500\n",
       "Name: blighted, dtype: int64"
      ]
     },
     "execution_count": 30,
     "metadata": {},
     "output_type": "execute_result"
    }
   ],
   "source": [
    "buildings['blighted'].value_counts()"
   ]
  },
  {
   "cell_type": "code",
   "execution_count": 31,
   "metadata": {
    "collapsed": false
   },
   "outputs": [],
   "source": [
    "blighted_by_addr = buildings[buildings['blighted']==True] # list of address\n",
    "permits['by_addr'] = permits['addr'].apply(lambda x: x in blighted_by_addr['addr'].values.tolist())"
   ]
  },
  {
   "cell_type": "code",
   "execution_count": 32,
   "metadata": {
    "collapsed": false
   },
   "outputs": [
    {
     "data": {
      "text/plain": [
       "False    3673\n",
       "True     2642\n",
       "Name: by_addr, dtype: int64"
      ]
     },
     "execution_count": 32,
     "metadata": {},
     "output_type": "execute_result"
    }
   ],
   "source": [
    "permits['by_addr'].value_counts()"
   ]
  },
  {
   "cell_type": "markdown",
   "metadata": {},
   "source": [
    "The above numbers reflect that permits sometimes are assigned to the same address (and same coordinates):"
   ]
  },
  {
   "cell_type": "code",
   "execution_count": 33,
   "metadata": {
    "collapsed": false
   },
   "outputs": [
    {
     "data": {
      "text/html": [
       "<div>\n",
       "<table border=\"1\" class=\"dataframe\">\n",
       "  <thead>\n",
       "    <tr style=\"text-align: right;\">\n",
       "      <th></th>\n",
       "      <th>addr</th>\n",
       "      <th>lon</th>\n",
       "      <th>lat</th>\n",
       "      <th>BLD_PERMIT_TYPE</th>\n",
       "      <th>by_addr</th>\n",
       "    </tr>\n",
       "  </thead>\n",
       "  <tbody>\n",
       "    <tr>\n",
       "      <th>5055</th>\n",
       "      <td>1000 14th</td>\n",
       "      <td>-83.071221</td>\n",
       "      <td>42.322086</td>\n",
       "      <td>DISM</td>\n",
       "      <td>True</td>\n",
       "    </tr>\n",
       "    <tr>\n",
       "      <th>5056</th>\n",
       "      <td>1000 14th</td>\n",
       "      <td>-83.071221</td>\n",
       "      <td>42.322086</td>\n",
       "      <td>DISM</td>\n",
       "      <td>True</td>\n",
       "    </tr>\n",
       "    <tr>\n",
       "      <th>1964</th>\n",
       "      <td>1000 baldwin</td>\n",
       "      <td>-82.999423</td>\n",
       "      <td>42.352188</td>\n",
       "      <td>DISM</td>\n",
       "      <td>True</td>\n",
       "    </tr>\n",
       "    <tr>\n",
       "      <th>6021</th>\n",
       "      <td>1000 scotten</td>\n",
       "      <td>-83.090194</td>\n",
       "      <td>42.315778</td>\n",
       "      <td>DISM</td>\n",
       "      <td>True</td>\n",
       "    </tr>\n",
       "    <tr>\n",
       "      <th>6022</th>\n",
       "      <td>1000 scotten</td>\n",
       "      <td>-83.090194</td>\n",
       "      <td>42.315778</td>\n",
       "      <td>DISM</td>\n",
       "      <td>True</td>\n",
       "    </tr>\n",
       "    <tr>\n",
       "      <th>6023</th>\n",
       "      <td>1000 scotten</td>\n",
       "      <td>-83.090194</td>\n",
       "      <td>42.315778</td>\n",
       "      <td>DISM</td>\n",
       "      <td>True</td>\n",
       "    </tr>\n",
       "    <tr>\n",
       "      <th>4104</th>\n",
       "      <td>10000 mettetal</td>\n",
       "      <td>-83.205763</td>\n",
       "      <td>42.369181</td>\n",
       "      <td>DISM</td>\n",
       "      <td>True</td>\n",
       "    </tr>\n",
       "    <tr>\n",
       "      <th>5777</th>\n",
       "      <td>10002 nottingham</td>\n",
       "      <td>-82.953115</td>\n",
       "      <td>42.412160</td>\n",
       "      <td>DISM</td>\n",
       "      <td>True</td>\n",
       "    </tr>\n",
       "    <tr>\n",
       "      <th>3395</th>\n",
       "      <td>10015 asbury park</td>\n",
       "      <td>-83.207127</td>\n",
       "      <td>42.369328</td>\n",
       "      <td>DISM</td>\n",
       "      <td>True</td>\n",
       "    </tr>\n",
       "    <tr>\n",
       "      <th>4654</th>\n",
       "      <td>10016 beaconsfield</td>\n",
       "      <td>-82.954174</td>\n",
       "      <td>42.412330</td>\n",
       "      <td>DISM</td>\n",
       "      <td>True</td>\n",
       "    </tr>\n",
       "  </tbody>\n",
       "</table>\n",
       "</div>"
      ],
      "text/plain": [
       "                    addr        lon        lat BLD_PERMIT_TYPE by_addr\n",
       "5055           1000 14th -83.071221  42.322086            DISM    True\n",
       "5056           1000 14th -83.071221  42.322086            DISM    True\n",
       "1964        1000 baldwin -82.999423  42.352188            DISM    True\n",
       "6021        1000 scotten -83.090194  42.315778            DISM    True\n",
       "6022        1000 scotten -83.090194  42.315778            DISM    True\n",
       "6023        1000 scotten -83.090194  42.315778            DISM    True\n",
       "4104      10000 mettetal -83.205763  42.369181            DISM    True\n",
       "5777    10002 nottingham -82.953115  42.412160            DISM    True\n",
       "3395   10015 asbury park -83.207127  42.369328            DISM    True\n",
       "4654  10016 beaconsfield -82.954174  42.412330            DISM    True"
      ]
     },
     "execution_count": 33,
     "metadata": {},
     "output_type": "execute_result"
    }
   ],
   "source": [
    "permits[permits['by_addr']==True].sort_values(by='addr').head(10)"
   ]
  },
  {
   "cell_type": "markdown",
   "metadata": {},
   "source": [
    "### Assign By Coordiates:"
   ]
  },
  {
   "cell_type": "code",
   "execution_count": 48,
   "metadata": {
    "collapsed": false
   },
   "outputs": [
    {
     "name": "stderr",
     "output_type": "stream",
     "text": [
      "/Library/Frameworks/Python.framework/Versions/3.4/lib/python3.4/site-packages/pandas/core/indexing.py:288: SettingWithCopyWarning: \n",
      "A value is trying to be set on a copy of a slice from a DataFrame.\n",
      "Try using .loc[row_indexer,col_indexer] = value instead\n",
      "\n",
      "See the caveats in the documentation: http://pandas.pydata.org/pandas-docs/stable/indexing.html#indexing-view-versus-copy\n",
      "  self.obj[key] = _infer_fill_value(value)\n",
      "/Library/Frameworks/Python.framework/Versions/3.4/lib/python3.4/site-packages/pandas/core/indexing.py:465: SettingWithCopyWarning: \n",
      "A value is trying to be set on a copy of a slice from a DataFrame.\n",
      "Try using .loc[row_indexer,col_indexer] = value instead\n",
      "\n",
      "See the caveats in the documentation: http://pandas.pydata.org/pandas-docs/stable/indexing.html#indexing-view-versus-copy\n",
      "  self.obj[item] = s\n"
     ]
    }
   ],
   "source": [
    "permits_coord = permits.loc[permits['by_addr'] == False,:]\n",
    "permits_coord.loc[:,'by_coord'] = False"
   ]
  },
  {
   "cell_type": "code",
   "execution_count": 76,
   "metadata": {
    "collapsed": false
   },
   "outputs": [
    {
     "name": "stdout",
     "output_type": "stream",
     "text": [
      "[111482, 111541, 111558, 111621, 111624]\n",
      "[41087, 41149, 41284]\n",
      "[183778]\n",
      "[131544, 131565, 131690]\n",
      "[146147]\n",
      "[90238]\n",
      "[22633]\n",
      "[141292, 141434]\n",
      "[191211]\n",
      "[106952, 107033]\n",
      "[108295]\n",
      "[94035, 94089, 94113]\n",
      "[100682, 100735, 100803, 100877]\n",
      "[151941, 151989]\n",
      "[141537, 141577, 141655]\n",
      "[171171, 171231, 171248, 171251]\n",
      "[82938, 83079]\n",
      "[137957, 137960, 137967]\n",
      "[187817, 187880, 187889, 187923]\n",
      "[84696]\n",
      "[19262, 19288]\n",
      "[171591]\n",
      "[88290, 88305, 88343, 88394, 88427, 88464]\n",
      "[123274]\n",
      "[55379, 55412, 55483]\n",
      "[175229]\n",
      "[142444, 142486, 142498, 142517, 142548, 142603]\n",
      "[165588, 165644]\n",
      "[75489, 75547, 75619]\n",
      "[59527, 59541, 59559]\n",
      "[169097]\n",
      "[142444, 142486, 142498, 142517, 142548, 142603]\n",
      "[31972]\n",
      "[138625, 138668, 138754]\n",
      "[142444, 142486, 142498, 142517, 142548, 142603]\n",
      "[145993, 146022]\n",
      "[137080]\n",
      "[130868]\n",
      "[119164]\n",
      "[159383, 159462, 159550]\n",
      "[43490, 43543, 43579, 43649, 43750, 43778, 43783, 43792]\n",
      "[114782]\n",
      "[142444, 142486, 142498, 142517, 142548, 142603]\n",
      "[110435]\n",
      "[124918, 124926, 124958, 124960]\n",
      "[95449, 95543]\n",
      "[96569]\n",
      "[97507, 97744]\n",
      "[48526, 48647, 48784]\n",
      "[122193, 122214]\n",
      "[142444, 142486, 142498, 142517, 142548, 142603]\n",
      "[142444, 142486, 142498, 142517, 142548, 142603]\n",
      "[69136, 69282]\n",
      "[117401]\n",
      "[106518]\n",
      "[8919]\n",
      "[9278]\n",
      "[28408, 28456, 28546]\n",
      "[35112]\n",
      "[9446]\n",
      "[74091, 74125, 74126]\n",
      "[142444, 142486, 142498, 142517, 142548, 142603]\n",
      "[146039, 146079]\n",
      "[99275, 99372]\n",
      "[142444, 142486, 142498, 142517, 142548, 142603]\n",
      "[94800, 94827, 94834, 94888]\n",
      "[108771, 108822, 108890, 108951]\n",
      "[87322, 87384, 87400]\n",
      "[142444, 142486, 142498, 142517, 142548, 142603]\n",
      "[108771, 108822, 108890, 108951]\n",
      "[133486]\n",
      "[139629]\n",
      "[130152, 130155]\n",
      "[173877]\n",
      "[82369]\n",
      "[122861, 122973, 123038, 123054]\n",
      "[130199]\n",
      "[97072, 97153, 97234]\n",
      "[142444, 142486, 142498, 142517, 142548, 142603]\n",
      "[142444, 142486, 142498, 142517, 142548, 142603]\n",
      "[142444, 142486, 142498, 142517, 142548, 142603]\n",
      "[95290]\n",
      "[142444, 142486, 142498, 142517, 142548, 142603]\n",
      "[96477]\n",
      "[75899, 75987, 76049]\n",
      "[106470]\n",
      "[155946]\n",
      "[113867, 113899, 113943, 113965, 114036]\n",
      "[190433, 190459]\n",
      "[7370, 7395]\n",
      "[31972]\n",
      "[21379, 21384, 21430]\n",
      "[142444, 142486, 142498, 142517, 142548, 142603]\n",
      "[142444, 142486, 142498, 142517, 142548, 142603]\n",
      "[9196, 9250]\n",
      "[29211, 29298, 29299]\n",
      "[101952]\n",
      "[4517]\n",
      "[88505, 88632]\n",
      "[153088]\n",
      "[174099, 174123, 174138, 174144]\n",
      "[142444, 142486, 142498, 142517, 142548, 142603]\n",
      "[142444, 142486, 142498, 142517, 142548, 142603]\n",
      "[78008, 78074]\n",
      "[98963, 98971, 99022]\n",
      "[165537]\n",
      "[142444, 142486, 142498, 142517, 142548, 142603]\n",
      "[76243, 76256]\n",
      "[142444, 142486, 142498, 142517, 142548, 142603]\n",
      "[155802, 155819]\n",
      "[142444, 142486, 142498, 142517, 142548, 142603]\n",
      "[142444, 142486, 142498, 142517, 142548, 142603]\n",
      "[144427, 144450]\n",
      "[119180]\n",
      "[123890, 123989]\n",
      "[167796]\n",
      "[100423, 100512]\n",
      "[145879]\n",
      "[142444, 142486, 142498, 142517, 142548, 142603]\n",
      "[142444, 142486, 142498, 142517, 142548, 142603]\n",
      "[142444, 142486, 142498, 142517, 142548, 142603]\n",
      "[72986, 73006, 73036, 73074]\n",
      "[172269]\n",
      "[154389]\n",
      "[142444, 142486, 142498, 142517, 142548, 142603]\n",
      "[34084]\n",
      "[142444, 142486, 142498, 142517, 142548, 142603]\n",
      "[84025]\n",
      "[147578]\n",
      "[142444, 142486, 142498, 142517, 142548, 142603]\n",
      "[142444, 142486, 142498, 142517, 142548, 142603]\n",
      "[74145, 74214, 74264, 74284, 74336, 74351]\n",
      "[142444, 142486, 142498, 142517, 142548, 142603]\n",
      "[142444, 142486, 142498, 142517, 142548, 142603]\n",
      "[176400, 176448, 176503, 176505]\n",
      "[142444, 142486, 142498, 142517, 142548, 142603]\n",
      "[142444, 142486, 142498, 142517, 142548, 142603]\n",
      "[181389]\n",
      "[100423, 100512]\n",
      "[176399, 176537]\n",
      "[167904, 167960]\n",
      "[178241, 178320, 178373, 178376]\n",
      "[177679]\n",
      "[191840, 191888]\n",
      "[142444, 142486, 142498, 142517, 142548, 142603]\n",
      "[77951, 78008, 78074]\n",
      "[18679]\n",
      "[142444, 142486, 142498, 142517, 142548, 142603]\n",
      "[119734]\n",
      "[121694]\n",
      "[175908]\n",
      "[169951, 170088]\n",
      "[162606]\n",
      "[142444, 142486, 142498, 142517, 142548, 142603]\n",
      "[155857]\n",
      "[142444, 142486, 142498, 142517, 142548, 142603]\n",
      "[122071]\n",
      "[153823]\n",
      "[82315]\n",
      "[27428]\n",
      "[147144]\n",
      "[38012]\n",
      "[142444, 142486, 142498, 142517, 142548, 142603]\n",
      "[178053, 178186]\n",
      "[173692]\n",
      "[151322]\n",
      "[126277, 126297, 126330]\n",
      "[120618]\n",
      "[142444, 142486, 142498, 142517, 142548, 142603]\n",
      "[142444, 142486, 142498, 142517, 142548, 142603]\n",
      "[178941, 179004, 179031]\n",
      "[169831, 169886]\n",
      "[171592]\n",
      "[147432]\n",
      "[188223, 188264, 188320]\n",
      "[156129, 156145, 156184]\n",
      "[142444, 142486, 142498, 142517, 142548, 142603]\n",
      "[31972]\n",
      "[14699]\n",
      "[142444, 142486, 142498, 142517, 142548, 142603]\n",
      "[187888, 187947]\n",
      "[110298, 110354]\n",
      "[142444, 142486, 142498, 142517, 142548, 142603]\n",
      "[141537, 141577, 141655]\n",
      "[142444, 142486, 142498, 142517, 142548, 142603]\n",
      "[110245, 110268, 110322]\n",
      "[100423, 100512]\n",
      "[156556, 156587]\n",
      "[171282]\n",
      "[97264, 97268, 97440]\n",
      "[100423, 100512]\n",
      "[178260, 178278, 178326, 178412]\n",
      "[111831]\n",
      "[115266, 115281]\n",
      "[176978, 177022, 177088]\n",
      "[157553]\n",
      "[156313]\n",
      "[167547]\n",
      "[142444, 142486, 142498, 142517, 142548, 142603]\n",
      "[177192]\n",
      "[156105, 156121, 156129, 156191]\n",
      "[25055]\n",
      "[116438]\n",
      "[19468, 19497]\n",
      "[142444, 142486, 142498, 142517, 142548, 142603]\n",
      "[142444, 142486, 142498, 142517, 142548, 142603]\n",
      "[93036, 93061]\n",
      "[115685, 115772, 115822]\n",
      "[107707, 107766, 107776, 107797, 107799, 107801, 107833, 107843, 107847, 107849, 107861]\n",
      "[10537, 10538]\n",
      "[153819]\n",
      "[142444, 142486, 142498, 142517, 142548, 142603]\n",
      "[32296]\n",
      "[55259]\n",
      "[142444, 142486, 142498, 142517, 142548, 142603]\n",
      "[78352]\n",
      "[31972]\n",
      "[111253, 111270, 111275, 111307, 111321, 111375]\n",
      "[140456]\n",
      "[50091]\n",
      "[5469, 5565]\n",
      "[105863, 105872]\n",
      "[10184]\n",
      "[130699]\n",
      "[166574]\n",
      "[108482, 108549, 108624, 108627]\n",
      "[144338, 144383, 144414, 144457]\n",
      "[189425, 189464, 189513]\n",
      "[32296]\n",
      "[199022]\n",
      "[139306]\n",
      "[3048, 3064]\n",
      "[173404]\n",
      "[86770]\n",
      "[142444, 142486, 142498, 142517, 142548, 142603]\n",
      "[164204]\n",
      "[153531]\n",
      "[171670, 171704, 171750, 171808]\n",
      "[142444, 142486, 142498, 142517, 142548, 142603]\n",
      "[142444, 142486, 142498, 142517, 142548, 142603]\n",
      "[55358, 55461]\n",
      "[142444, 142486, 142498, 142517, 142548, 142603]\n",
      "[142444, 142486, 142498, 142517, 142548, 142603]\n",
      "[160377]\n",
      "[91387, 91421, 91448]\n",
      "[77951]\n",
      "[3026]\n",
      "[164330]\n",
      "[95975]\n",
      "[142444, 142486, 142498, 142517, 142548, 142603]\n",
      "[142444, 142486, 142498, 142517, 142548, 142603]\n",
      "[142444, 142486, 142498, 142517, 142548, 142603]\n",
      "[142444, 142486, 142498, 142517, 142548, 142603]\n",
      "[148333]\n",
      "[123890, 123989]\n",
      "[111971, 112098]\n",
      "[107353, 107375]\n",
      "[166900]\n",
      "[100423, 100512]\n",
      "[167390, 167463]\n",
      "[91225, 91226]\n",
      "[92033]\n",
      "[97603, 97668, 97708, 97789, 97798, 97810, 97853, 97862, 97870]\n",
      "[33402]\n"
     ]
    }
   ],
   "source": [
    "epsilon1 = 4.011e-4/2.0  # fuzzy match\n",
    "epsilon2 = 2.04e-4/2.0\n",
    "cnt = 0\n",
    "for i,permit in permits_coord.iterrows():\n",
    "    lon = permit['lon']\n",
    "    lat = permit['lat']\n",
    "    #indices = (buildings['llcrnrlon'] < lon) & (buildings['urcrnrlon'] > lon) \\\n",
    "    #        & (buildings['llcrnrlat'] < lat) & (buildings['urcrnrlat'] > lat)\n",
    "    indices = (abs(buildings['lon']-lon) < epsilon1) & (abs(buildings['lat'] - lat) < epsilon2)\n",
    "    buildings.loc[indices,'blighted'] = True\n",
    "    if(len(buildings.loc[indices,:].index.tolist())!=0):\n",
    "        cnt += 1\n",
    "        if(cnt%10 == 5):\n",
    "            print(buildings.loc[indices,:].index.tolist())\n",
    "    "
   ]
  },
  {
   "cell_type": "code",
   "execution_count": 74,
   "metadata": {
    "collapsed": false
   },
   "outputs": [
    {
     "data": {
      "text/plain": [
       "addr                                              0 aberton avenue\n",
       "event_id_list    [387080, 387076, 387078, 388121, 387072, 38708...\n",
       "lat                                                        42.3317\n",
       "lon                                                        -83.048\n",
       "llcrnrlon                                                 -83.0482\n",
       "llcrnrlat                                                  42.3316\n",
       "urcrnrlon                                                 -83.0478\n",
       "urcrnrlat                                                  42.3318\n",
       "building_id                                                 142517\n",
       "blighted                                                      True\n",
       "Name: 142517, dtype: object"
      ]
     },
     "execution_count": 74,
     "metadata": {},
     "output_type": "execute_result"
    }
   ],
   "source": [
    "buildings.loc[142517,:]"
   ]
  },
  {
   "cell_type": "code",
   "execution_count": 68,
   "metadata": {
    "collapsed": false
   },
   "outputs": [
    {
     "data": {
      "text/plain": [
       "1301"
      ]
     },
     "execution_count": 68,
     "metadata": {},
     "output_type": "execute_result"
    }
   ],
   "source": []
  },
  {
   "cell_type": "code",
   "execution_count": 82,
   "metadata": {
    "collapsed": false
   },
   "outputs": [
    {
     "data": {
      "text/plain": [
       "4927"
      ]
     },
     "execution_count": 82,
     "metadata": {},
     "output_type": "execute_result"
    }
   ],
   "source": [
    "len(permits.drop_duplicates(['lon','lat']))"
   ]
  },
  {
   "cell_type": "code",
   "execution_count": 88,
   "metadata": {
    "collapsed": false
   },
   "outputs": [],
   "source": [
    "dict1 = {\"A\":[1,2,3,4,5,1,2,3,4,5], \"B\":[5,2,3,4,5,5,4,3,2,1]}"
   ]
  },
  {
   "cell_type": "code",
   "execution_count": 89,
   "metadata": {
    "collapsed": true
   },
   "outputs": [],
   "source": [
    "df = pd.DataFrame(dict1)"
   ]
  },
  {
   "cell_type": "code",
   "execution_count": 91,
   "metadata": {
    "collapsed": false
   },
   "outputs": [
    {
     "data": {
      "text/html": [
       "<div>\n",
       "<table border=\"1\" class=\"dataframe\">\n",
       "  <thead>\n",
       "    <tr style=\"text-align: right;\">\n",
       "      <th></th>\n",
       "      <th>A</th>\n",
       "      <th>B</th>\n",
       "    </tr>\n",
       "  </thead>\n",
       "  <tbody>\n",
       "    <tr>\n",
       "      <th>0</th>\n",
       "      <td>1</td>\n",
       "      <td>5</td>\n",
       "    </tr>\n",
       "    <tr>\n",
       "      <th>1</th>\n",
       "      <td>2</td>\n",
       "      <td>2</td>\n",
       "    </tr>\n",
       "    <tr>\n",
       "      <th>2</th>\n",
       "      <td>3</td>\n",
       "      <td>3</td>\n",
       "    </tr>\n",
       "    <tr>\n",
       "      <th>3</th>\n",
       "      <td>4</td>\n",
       "      <td>4</td>\n",
       "    </tr>\n",
       "    <tr>\n",
       "      <th>4</th>\n",
       "      <td>5</td>\n",
       "      <td>5</td>\n",
       "    </tr>\n",
       "    <tr>\n",
       "      <th>6</th>\n",
       "      <td>2</td>\n",
       "      <td>4</td>\n",
       "    </tr>\n",
       "    <tr>\n",
       "      <th>8</th>\n",
       "      <td>4</td>\n",
       "      <td>2</td>\n",
       "    </tr>\n",
       "    <tr>\n",
       "      <th>9</th>\n",
       "      <td>5</td>\n",
       "      <td>1</td>\n",
       "    </tr>\n",
       "  </tbody>\n",
       "</table>\n",
       "</div>"
      ],
      "text/plain": [
       "   A  B\n",
       "0  1  5\n",
       "1  2  2\n",
       "2  3  3\n",
       "3  4  4\n",
       "4  5  5\n",
       "6  2  4\n",
       "8  4  2\n",
       "9  5  1"
      ]
     },
     "execution_count": 91,
     "metadata": {},
     "output_type": "execute_result"
    }
   ],
   "source": [
    "df.drop_duplicates()"
   ]
  },
  {
   "cell_type": "code",
   "execution_count": null,
   "metadata": {
    "collapsed": true
   },
   "outputs": [],
   "source": []
  }
 ],
 "metadata": {
  "kernelspec": {
   "display_name": "Python 3",
   "language": "python",
   "name": "python3"
  },
  "language_info": {
   "codemirror_mode": {
    "name": "ipython",
    "version": 3
   },
   "file_extension": ".py",
   "mimetype": "text/x-python",
   "name": "python",
   "nbconvert_exporter": "python",
   "pygments_lexer": "ipython3",
   "version": "3.4.3"
  }
 },
 "nbformat": 4,
 "nbformat_minor": 0
}
