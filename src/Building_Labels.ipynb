{
 "cells": [
  {
   "cell_type": "markdown",
   "metadata": {},
   "source": [
    "# Step 2: Building Labels"
   ]
  },
  {
   "cell_type": "code",
   "execution_count": 59,
   "metadata": {
    "collapsed": true
   },
   "outputs": [],
   "source": [
    "import numpy as np\n",
    "import pandas as pd\n",
    "import matplotlib.pyplot as plt\n",
    "%matplotlib inline"
   ]
  },
  {
   "cell_type": "code",
   "execution_count": 60,
   "metadata": {
    "collapsed": true
   },
   "outputs": [],
   "source": [
    "buildings = pd.read_csv('../data/buildings.csv')\n",
    "permits = pd.read_csv('../data/permits.csv')"
   ]
  },
  {
   "cell_type": "code",
   "execution_count": 61,
   "metadata": {
    "collapsed": false
   },
   "outputs": [
    {
     "data": {
      "text/plain": [
       "(6315, 57)"
      ]
     },
     "execution_count": 61,
     "metadata": {},
     "output_type": "execute_result"
    }
   ],
   "source": [
    "permits.shape"
   ]
  },
  {
   "cell_type": "code",
   "execution_count": 62,
   "metadata": {
    "collapsed": false
   },
   "outputs": [
    {
     "data": {
      "text/plain": [
       "(157193, 8)"
      ]
     },
     "execution_count": 62,
     "metadata": {},
     "output_type": "execute_result"
    }
   ],
   "source": [
    "buildings.shape"
   ]
  },
  {
   "cell_type": "code",
   "execution_count": 63,
   "metadata": {
    "collapsed": false
   },
   "outputs": [
    {
     "data": {
      "text/plain": [
       "Index(['PERMIT_NO', 'PERMIT_APPLIED', 'PERMIT_ISSUED', 'PERMIT_EXPIRES',\n",
       "       'SITE_ADDRESS', 'BETWEEN1', 'PARCEL_NO', 'LOT_NUMBER', 'SUBDIVISION',\n",
       "       'CASE_TYPE', 'CASE_DESCRIPTION', 'LEGAL_USE', 'ESTIMATED_COST',\n",
       "       'PARCEL_SIZE', 'PARCEL_CLUSTER_SECTOR', 'STORIES', 'PARCEL_FLOOR_AREA',\n",
       "       'PARCEL_GROUND_AREA', 'PRC_AKA_ADDRESS', 'BLD_PERMIT_TYPE',\n",
       "       'PERMIT_DESCRIPTION', 'BLD_PERMIT_DESC', 'BLD_TYPE_USE', 'RESIDENTIAL',\n",
       "       'DESCRIPTION', 'BLD_TYPE_CONST_COD', 'BLD_ZONING_DIST', 'BLD_USE_GROUP',\n",
       "       'BLD_BASEMENT', 'FEE_TYPE', 'CSM_CASENO', 'CSF_CREATED_BY', 'SEQ_NO',\n",
       "       'PCF_AMT_PD', 'PCF_AMT_DUE', 'PCF_UPDATED', 'OWNER_LAST_NAME',\n",
       "       'OWNER_FIRST_NAME', 'OWNER_ADDRESS1', 'OWNER_ADDRESS2', 'OWNER_CITY',\n",
       "       'OWNER_STATE', 'OWNER_ZIP', 'CONTRACTOR_LAST_NAME',\n",
       "       'CONTRACTOR_FIRST_NAME', 'CONTRACTOR_ADDRESS1', 'CONTRACTOR_ADDRESS2',\n",
       "       'CONTRACTOR_CITY', 'CONTRACTOR_STATE', 'CONTRACTOR_ZIP',\n",
       "       'CONDITION_FOR_APPROVAL', 'owner_location', 'contractor_location',\n",
       "       'geom', 'addr', 'lon', 'lat'],\n",
       "      dtype='object')"
      ]
     },
     "execution_count": 63,
     "metadata": {},
     "output_type": "execute_result"
    }
   ],
   "source": [
    "permits.columns"
   ]
  },
  {
   "cell_type": "code",
   "execution_count": 11,
   "metadata": {
    "collapsed": true
   },
   "outputs": [],
   "source": [
    "permits = permits[['addr','lon','lat','BLD_PERMIT_TYPE']]  #select only relevant columns"
   ]
  },
  {
   "cell_type": "code",
   "execution_count": 12,
   "metadata": {
    "collapsed": false
   },
   "outputs": [
    {
     "data": {
      "text/plain": [
       "array(['Dismantle', 'DISM'], dtype=object)"
      ]
     },
     "execution_count": 12,
     "metadata": {},
     "output_type": "execute_result"
    }
   ],
   "source": [
    "permits['BLD_PERMIT_TYPE'].unique()"
   ]
  },
  {
   "cell_type": "markdown",
   "metadata": {},
   "source": [
    "Any buildings showing up in permits are blighted"
   ]
  },
  {
   "cell_type": "code",
   "execution_count": 53,
   "metadata": {
    "collapsed": false
   },
   "outputs": [],
   "source": [
    "buildings['blighted'] = False\n",
    "\n",
    "def is_blighted(building):\n",
    "    '''examine if a building is blighted based on a permits df'''\n",
    "    \n",
    "bylats = buildings.sort_values(by='lat',axis=0)\n",
    "bylons = buildings.sort_values(by='lon',axis=0)"
   ]
  },
  {
   "cell_type": "code",
   "execution_count": 58,
   "metadata": {
    "collapsed": false
   },
   "outputs": [
    {
     "data": {
      "text/plain": [
       "56111    -83.297500\n",
       "122794   -83.296800\n",
       "122541   -83.296600\n",
       "19490    -83.295900\n",
       "5543     -83.293100\n",
       "114804   -83.291600\n",
       "14231    -83.291600\n",
       "3187     -83.291400\n",
       "101456   -83.291300\n",
       "2848     -83.289900\n",
       "2843     -83.289700\n",
       "122413   -83.289600\n",
       "101474   -83.289200\n",
       "29388    -83.288200\n",
       "17106    -83.287800\n",
       "19392    -83.287800\n",
       "6127     -83.287700\n",
       "116672   -83.287664\n",
       "116585   -83.287653\n",
       "115595   -83.287634\n",
       "109710   -83.287534\n",
       "109805   -83.287534\n",
       "109189   -83.287513\n",
       "16500    -83.287500\n",
       "109073   -83.287493\n",
       "106363   -83.287463\n",
       "106194   -83.287453\n",
       "104830   -83.287414\n",
       "6126     -83.287400\n",
       "103389   -83.287373\n",
       "            ...    \n",
       "25844     -1.000000\n",
       "25841     -1.000000\n",
       "60478     -1.000000\n",
       "25829     -1.000000\n",
       "25827     -1.000000\n",
       "25825     -1.000000\n",
       "60484     -1.000000\n",
       "25823     -1.000000\n",
       "25820     -1.000000\n",
       "60487     -1.000000\n",
       "25817     -1.000000\n",
       "25813     -1.000000\n",
       "25811     -1.000000\n",
       "25809     -1.000000\n",
       "25804     -1.000000\n",
       "25802     -1.000000\n",
       "60488     -1.000000\n",
       "25790     -1.000000\n",
       "161449    -1.000000\n",
       "60490     -1.000000\n",
       "60492     -1.000000\n",
       "25787     -1.000000\n",
       "25784     -1.000000\n",
       "25783     -1.000000\n",
       "25772     -1.000000\n",
       "25769     -1.000000\n",
       "60496     -1.000000\n",
       "25765     -1.000000\n",
       "60477     -1.000000\n",
       "118085    -1.000000\n",
       "Name: lon, dtype: float64"
      ]
     },
     "execution_count": 58,
     "metadata": {},
     "output_type": "execute_result"
    }
   ],
   "source": [
    "for permit in permits:\n",
    "    "
   ]
  },
  {
   "cell_type": "code",
   "execution_count": null,
   "metadata": {
    "collapsed": true
   },
   "outputs": [],
   "source": []
  }
 ],
 "metadata": {
  "kernelspec": {
   "display_name": "Python 3",
   "language": "python",
   "name": "python3"
  },
  "language_info": {
   "codemirror_mode": {
    "name": "ipython",
    "version": 3
   },
   "file_extension": ".py",
   "mimetype": "text/x-python",
   "name": "python",
   "nbconvert_exporter": "python",
   "pygments_lexer": "ipython3",
   "version": "3.5.1"
  }
 },
 "nbformat": 4,
 "nbformat_minor": 0
}
