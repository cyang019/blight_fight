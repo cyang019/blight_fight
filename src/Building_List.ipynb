{
 "cells": [
  {
   "cell_type": "markdown",
   "metadata": {},
   "source": [
    "## Step1: Establishing Building List\n",
    "\n",
    "Building list can be generated using __parcel map__ shapefile downloaded from [data.detroitmi.gov](https://data.detroitmi.gov/Property-Parcels/Parcel-Map/fxkw-udwf/data) by clicking the '_export_' button near upper right corner of the screen, and then select '_shapefile_' option.\n",
    "\n",
    "Each shape in a shapefile has a _bbox_ attribute representing the tuple containing longitudes and latitudes of lower left corner and upper right corner in the form (llcrnrlon, llcrnrlat, urcrnrlon, urcrnrlat). Thus each boundary box represents a real world property.\n",
    "\n",
    "__Notes__:\n",
    "+  shapefile python documentation can be found [here](https://pypi.python.org/pypi/pyshp)\n",
    "+  Detroit parcel map shapefile can be cleaned with the help of this script (['test_valid_shp.py'](../data/Parcel_Map/test_valid_shp.py)), with shapefile (4 files) stored in the same '../data/Parcel_Map/' directory.\n",
    "+  After cleaning, bboxes was extracted using script ['define_buildings.py'](./define_buildings.py) with some functions defined in ['bbox.py'](./bbox.py). The generated building data was stored as a .csv file located at '../data/buildings.csv' \n",
    "+  Visualization of the boxes was realized by script ['draw_bboxes.py'](./draw_bboxes.py). [Basemap](http://basemaptutorial.readthedocs.io) library was used for this purpose."
   ]
  },
  {
   "cell_type": "markdown",
   "metadata": {},
   "source": [
    "### Analyzing the generated buildings"
   ]
  },
  {
   "cell_type": "code",
   "execution_count": null,
   "metadata": {
    "collapsed": true
   },
   "outputs": [],
   "source": []
  }
 ],
 "metadata": {
  "kernelspec": {
   "display_name": "Python 3",
   "language": "python",
   "name": "python3"
  },
  "language_info": {
   "codemirror_mode": {
    "name": "ipython",
    "version": 3
   },
   "file_extension": ".py",
   "mimetype": "text/x-python",
   "name": "python",
   "nbconvert_exporter": "python",
   "pygments_lexer": "ipython3",
   "version": "3.4.3"
  }
 },
 "nbformat": 4,
 "nbformat_minor": 0
}
