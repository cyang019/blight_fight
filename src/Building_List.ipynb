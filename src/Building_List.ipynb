{
 "cells": [
  {
   "cell_type": "code",
   "execution_count": 1,
   "metadata": {
    "collapsed": true
   },
   "outputs": [],
   "source": [
    "import numpy as np\n",
    "import pandas as pd"
   ]
  },
  {
   "cell_type": "markdown",
   "metadata": {},
   "source": [
    "# Step 1: Building List"
   ]
  },
  {
   "cell_type": "markdown",
   "metadata": {},
   "source": [
    "## Collecting instances from 311 calls, crimes, and blight violations\n",
    "\n",
    "Data already cleaned by [this notebook](./Cleaning_data.ipynb)\n",
    "The collection of data was saved at __../data/events.csv__"
   ]
  },
  {
   "cell_type": "code",
   "execution_count": 2,
   "metadata": {
    "collapsed": true
   },
   "outputs": [],
   "source": [
    "data_events = pd.read_csv('../data/events.csv')"
   ]
  },
  {
   "cell_type": "code",
   "execution_count": 3,
   "metadata": {
    "collapsed": false
   },
   "outputs": [],
   "source": [
    "data_events.sort_values(by='addr',inplace=True)"
   ]
  },
  {
   "cell_type": "code",
   "execution_count": 4,
   "metadata": {
    "collapsed": false
   },
   "outputs": [
    {
     "data": {
      "text/html": [
       "<div>\n",
       "<table border=\"1\" class=\"dataframe\">\n",
       "  <thead>\n",
       "    <tr style=\"text-align: right;\">\n",
       "      <th></th>\n",
       "      <th>event_id</th>\n",
       "      <th>lon</th>\n",
       "      <th>lat</th>\n",
       "      <th>addr</th>\n",
       "      <th>type</th>\n",
       "    </tr>\n",
       "  </thead>\n",
       "  <tbody>\n",
       "    <tr>\n",
       "      <th>2778</th>\n",
       "      <td>2778</td>\n",
       "      <td>-83.041618</td>\n",
       "      <td>42.408738</td>\n",
       "      <td>5949 casmere st</td>\n",
       "      <td>1</td>\n",
       "    </tr>\n",
       "    <tr>\n",
       "      <th>919</th>\n",
       "      <td>919</td>\n",
       "      <td>-83.175329</td>\n",
       "      <td>42.358054</td>\n",
       "      <td>8641 littlefield</td>\n",
       "      <td>1</td>\n",
       "    </tr>\n",
       "    <tr>\n",
       "      <th>12722</th>\n",
       "      <td>12722</td>\n",
       "      <td>-83.137666</td>\n",
       "      <td>42.338734</td>\n",
       "      <td>wagner</td>\n",
       "      <td>1</td>\n",
       "    </tr>\n",
       "    <tr>\n",
       "      <th>371125</th>\n",
       "      <td>371125</td>\n",
       "      <td>-83.216326</td>\n",
       "      <td>42.369786</td>\n",
       "      <td>0 10th</td>\n",
       "      <td>3</td>\n",
       "    </tr>\n",
       "    <tr>\n",
       "      <th>409945</th>\n",
       "      <td>409945</td>\n",
       "      <td>-83.216326</td>\n",
       "      <td>42.369786</td>\n",
       "      <td>0 10th</td>\n",
       "      <td>3</td>\n",
       "    </tr>\n",
       "    <tr>\n",
       "      <th>370505</th>\n",
       "      <td>370505</td>\n",
       "      <td>-83.216326</td>\n",
       "      <td>42.369786</td>\n",
       "      <td>0 10th</td>\n",
       "      <td>3</td>\n",
       "    </tr>\n",
       "    <tr>\n",
       "      <th>184559</th>\n",
       "      <td>184559</td>\n",
       "      <td>-83.216326</td>\n",
       "      <td>42.369786</td>\n",
       "      <td>0 10th</td>\n",
       "      <td>3</td>\n",
       "    </tr>\n",
       "    <tr>\n",
       "      <th>370506</th>\n",
       "      <td>370506</td>\n",
       "      <td>-83.216326</td>\n",
       "      <td>42.369786</td>\n",
       "      <td>0 10th</td>\n",
       "      <td>3</td>\n",
       "    </tr>\n",
       "    <tr>\n",
       "      <th>375767</th>\n",
       "      <td>375767</td>\n",
       "      <td>-83.216326</td>\n",
       "      <td>42.369786</td>\n",
       "      <td>0 10th</td>\n",
       "      <td>3</td>\n",
       "    </tr>\n",
       "    <tr>\n",
       "      <th>375800</th>\n",
       "      <td>375800</td>\n",
       "      <td>-83.216326</td>\n",
       "      <td>42.369786</td>\n",
       "      <td>0 10th</td>\n",
       "      <td>3</td>\n",
       "    </tr>\n",
       "  </tbody>\n",
       "</table>\n",
       "</div>"
      ],
      "text/plain": [
       "        event_id        lon        lat               addr  type\n",
       "2778        2778 -83.041618  42.408738    5949 casmere st     1\n",
       "919          919 -83.175329  42.358054   8641 littlefield     1\n",
       "12722      12722 -83.137666  42.338734             wagner     1\n",
       "371125    371125 -83.216326  42.369786             0 10th     3\n",
       "409945    409945 -83.216326  42.369786             0 10th     3\n",
       "370505    370505 -83.216326  42.369786             0 10th     3\n",
       "184559    184559 -83.216326  42.369786             0 10th     3\n",
       "370506    370506 -83.216326  42.369786             0 10th     3\n",
       "375767    375767 -83.216326  42.369786             0 10th     3\n",
       "375800    375800 -83.216326  42.369786             0 10th     3"
      ]
     },
     "execution_count": 4,
     "metadata": {},
     "output_type": "execute_result"
    }
   ],
   "source": [
    "data_events.head(10)"
   ]
  },
  {
   "cell_type": "code",
   "execution_count": 5,
   "metadata": {
    "collapsed": false
   },
   "outputs": [],
   "source": [
    "events_grouped = data_events.groupby(by=['addr'], axis=0)"
   ]
  },
  {
   "cell_type": "code",
   "execution_count": 6,
   "metadata": {
    "collapsed": false
   },
   "outputs": [],
   "source": [
    "events_grouped_list = {'addr': [], 'lon': [], 'lat': [], 'event_id_list': []}\n",
    "\n",
    "unknown_address = []\n",
    "\n",
    "def similar_vals(lst, epsilon=1.0e-5):\n",
    "    '''determine if a input list contains almost identical values. If it does, return \n",
    "    median value. Otherwise return -9999.\n",
    "    \n",
    "    This function is for double checking if coordinates grouped by same address are\n",
    "    actually the same.\n",
    "    '''\n",
    "    if len(lst) == 1:\n",
    "        return lst[0]\n",
    "    \n",
    "    avg_val = np.median(lst)\n",
    "    notSimilar = False\n",
    "    for val in lst:\n",
    "        if abs(val-avg_val) > epsilon:\n",
    "            notSimilar=True\n",
    "            break\n",
    "    if notSimilar:\n",
    "        return -9999\n",
    "    else:\n",
    "        return avg_val"
   ]
  },
  {
   "cell_type": "code",
   "execution_count": 7,
   "metadata": {
    "collapsed": false
   },
   "outputs": [],
   "source": [
    "epsilon = 1.0e-5 # match ~1/40 average length or 1/20 average width\n",
    "\n",
    "# loop through each events grouped by address, check if each group contain similar address,\n",
    "# If they do, then assume these entries share a same building.\n",
    "# For the same address containing different coordiates, process them later (unknown address)\n",
    "for a_group in events_grouped:\n",
    "    address, entry = a_group\n",
    "    event_id_list = entry['event_id'].values.tolist()\n",
    "    lon = entry['lon'].drop_duplicates().values.tolist()\n",
    "    lat = entry['lat'].drop_duplicates().values.tolist()\n",
    "    \n",
    "    if len(lon) == 1:\n",
    "        lon = lon[0] \n",
    "    else:\n",
    "        effect_lon = similar_vals(lon,epsilon)\n",
    "        if effect_lon < -1000:\n",
    "            unknown_address.append(entry)\n",
    "            continue\n",
    "        lon = effect_lon\n",
    "        \n",
    "    if (len(lat) == 1):\n",
    "        lat = lat[0]\n",
    "    else:\n",
    "        effect_lat = similar_vals(lat,epsilon)\n",
    "        if effect_lat < -1000:\n",
    "            unknown_address.append(entry)\n",
    "            continue\n",
    "        lat = effect_lat\n",
    "        \n",
    "        \n",
    "    if len(events_grouped_list['addr']) != 0:\n",
    "        # check if previous address is actually the same\n",
    "        prev_lon = events_grouped_list['lon'][-1]\n",
    "        prev_lat = events_grouped_list['lat'][-1]\n",
    "        if (abs(lon-prev_lon) < epsilon) and (abs(lat-prev_lat) < epsilon):\n",
    "            events_grouped_list['event_id_list'][-1] = events_grouped_list['event_id_list'][-1] \\\n",
    "                                                            + event_id_list\n",
    "        else:\n",
    "            events_grouped_list['addr'].append(address)\n",
    "            events_grouped_list['lon'].append(lon)\n",
    "            events_grouped_list['lat'].append(lat)\n",
    "            events_grouped_list['event_id_list'].append(event_id_list)\n",
    "    else:\n",
    "        events_grouped_list['addr'].append(address)\n",
    "        events_grouped_list['lon'].append(lon)\n",
    "        events_grouped_list['lat'].append(lat)\n",
    "        events_grouped_list['event_id_list'].append(event_id_list)\n",
    "\n",
    "    \n",
    "buildings = pd.DataFrame(events_grouped_list)"
   ]
  },
  {
   "cell_type": "code",
   "execution_count": 8,
   "metadata": {
    "collapsed": false
   },
   "outputs": [
    {
     "data": {
      "text/plain": [
       "22448"
      ]
     },
     "execution_count": 8,
     "metadata": {},
     "output_type": "execute_result"
    }
   ],
   "source": [
    "len(unknown_address)   # unclassified entries"
   ]
  },
  {
   "cell_type": "code",
   "execution_count": 9,
   "metadata": {
    "collapsed": false
   },
   "outputs": [
    {
     "data": {
      "text/plain": [
       "(157193, 4)"
      ]
     },
     "execution_count": 9,
     "metadata": {},
     "output_type": "execute_result"
    }
   ],
   "source": [
    "buildings.shape   # buildings identified by address then coordinates"
   ]
  },
  {
   "cell_type": "code",
   "execution_count": 10,
   "metadata": {
    "collapsed": false
   },
   "outputs": [
    {
     "data": {
      "text/plain": [
       "(98117, 5)"
      ]
     },
     "execution_count": 10,
     "metadata": {},
     "output_type": "execute_result"
    }
   ],
   "source": [
    "unknown_address = pd.concat(unknown_address)\n",
    "unknown_address.shape"
   ]
  },
  {
   "cell_type": "code",
   "execution_count": 11,
   "metadata": {
    "collapsed": false
   },
   "outputs": [
    {
     "data": {
      "text/html": [
       "<div>\n",
       "<table border=\"1\" class=\"dataframe\">\n",
       "  <thead>\n",
       "    <tr style=\"text-align: right;\">\n",
       "      <th></th>\n",
       "      <th>event_id</th>\n",
       "      <th>lon</th>\n",
       "      <th>lat</th>\n",
       "      <th>addr</th>\n",
       "      <th>type</th>\n",
       "    </tr>\n",
       "  </thead>\n",
       "  <tbody>\n",
       "    <tr>\n",
       "      <th>2882</th>\n",
       "      <td>2882</td>\n",
       "      <td>-83.106815</td>\n",
       "      <td>42.419343</td>\n",
       "      <td>woodward</td>\n",
       "      <td>1</td>\n",
       "    </tr>\n",
       "    <tr>\n",
       "      <th>14006</th>\n",
       "      <td>14006</td>\n",
       "      <td>-83.084943</td>\n",
       "      <td>42.387579</td>\n",
       "      <td>woodward</td>\n",
       "      <td>1</td>\n",
       "    </tr>\n",
       "    <tr>\n",
       "      <th>11127</th>\n",
       "      <td>11127</td>\n",
       "      <td>-83.106815</td>\n",
       "      <td>42.419343</td>\n",
       "      <td>woodward</td>\n",
       "      <td>1</td>\n",
       "    </tr>\n",
       "    <tr>\n",
       "      <th>7564</th>\n",
       "      <td>7564</td>\n",
       "      <td>-83.051336</td>\n",
       "      <td>42.429773</td>\n",
       "      <td>wyoming</td>\n",
       "      <td>1</td>\n",
       "    </tr>\n",
       "    <tr>\n",
       "      <th>10278</th>\n",
       "      <td>10278</td>\n",
       "      <td>-83.159021</td>\n",
       "      <td>42.387087</td>\n",
       "      <td>wyoming</td>\n",
       "      <td>1</td>\n",
       "    </tr>\n",
       "  </tbody>\n",
       "</table>\n",
       "</div>"
      ],
      "text/plain": [
       "       event_id        lon        lat      addr  type\n",
       "2882       2882 -83.106815  42.419343  woodward     1\n",
       "14006     14006 -83.084943  42.387579  woodward     1\n",
       "11127     11127 -83.106815  42.419343  woodward     1\n",
       "7564       7564 -83.051336  42.429773   wyoming     1\n",
       "10278     10278 -83.159021  42.387087   wyoming     1"
      ]
     },
     "execution_count": 11,
     "metadata": {},
     "output_type": "execute_result"
    }
   ],
   "source": [
    "unknown_address.tail(5) \n",
    "# For these address, sometimes only a street name was specified"
   ]
  },
  {
   "cell_type": "code",
   "execution_count": 12,
   "metadata": {
    "collapsed": true
   },
   "outputs": [],
   "source": [
    "# Following procedure is used to construct buildings_part2 from unknown_address:\n",
    "# Events are looped,\n",
    "# For each event:\n",
    "#     If event not in previous building rectangular area:\n",
    "#         define new building at the event coordinate, with length and width taken from step0\n",
    "#\n",
    "# convert the events into dataframe"
   ]
  },
  {
   "cell_type": "code",
   "execution_count": 13,
   "metadata": {
    "collapsed": false
   },
   "outputs": [],
   "source": [
    "events_part2 = {'addr': [], 'lon': [], 'lat': [], 'event_id_list': []}\n",
    "prev_llcrnrlon = 0\n",
    "prev_llcrnrlat = 0\n",
    "prev_urcrnrlon = 0\n",
    "prev_urcrnrlat = 0\n",
    "length = 4.11e-4 # longitude\n",
    "width = 2.04e-4 # latitude\n",
    "for i, entry in unknown_address.iterrows():\n",
    "    lon = entry['lon']\n",
    "    lat = entry['lat']\n",
    "    if (lon<prev_llcrnrlon) or (lon>prev_urcrnrlon) or (lat<prev_llcrnrlat) or (lat>prev_urcrnrlat):\n",
    "        events_part2['addr'].append(entry['addr'])\n",
    "        events_part2['lon'].append(entry['lon'])\n",
    "        events_part2['lat'].append(entry['lat'])\n",
    "        events_part2['event_id_list'].append([entry['event_id'],])\n",
    "        \n",
    "        prev_llcrnrlon = lon - length/2\n",
    "        prev_llcrnrlat = lat - width/2\n",
    "        prev_urcrnrlon = lon + length/2\n",
    "        prev_urcrnrlat = lat + width/2\n",
    "    else:\n",
    "        events_part2['event_id_list'][-1] = events_part2['event_id_list'][-1] + [entry['event_id'],]"
   ]
  },
  {
   "cell_type": "code",
   "execution_count": 14,
   "metadata": {
    "collapsed": false
   },
   "outputs": [],
   "source": [
    "events_part2_df = pd.DataFrame(events_part2)"
   ]
  },
  {
   "cell_type": "code",
   "execution_count": 15,
   "metadata": {
    "collapsed": false
   },
   "outputs": [
    {
     "data": {
      "text/plain": [
       "(74909, 4)"
      ]
     },
     "execution_count": 15,
     "metadata": {},
     "output_type": "execute_result"
    }
   ],
   "source": [
    "events_part2_df.shape"
   ]
  },
  {
   "cell_type": "code",
   "execution_count": 16,
   "metadata": {
    "collapsed": false
   },
   "outputs": [
    {
     "data": {
      "text/html": [
       "<div>\n",
       "<table border=\"1\" class=\"dataframe\">\n",
       "  <thead>\n",
       "    <tr style=\"text-align: right;\">\n",
       "      <th></th>\n",
       "      <th>addr</th>\n",
       "      <th>event_id_list</th>\n",
       "      <th>lat</th>\n",
       "      <th>lon</th>\n",
       "    </tr>\n",
       "  </thead>\n",
       "  <tbody>\n",
       "    <tr>\n",
       "      <th>0</th>\n",
       "      <td>00 abington/schoolcraft</td>\n",
       "      <td>[23256]</td>\n",
       "      <td>42.3869</td>\n",
       "      <td>-83.2119</td>\n",
       "    </tr>\n",
       "    <tr>\n",
       "      <th>1</th>\n",
       "      <td>00 abington/schoolcraft</td>\n",
       "      <td>[38495]</td>\n",
       "      <td>42.3866</td>\n",
       "      <td>-83.2117</td>\n",
       "    </tr>\n",
       "    <tr>\n",
       "      <th>2</th>\n",
       "      <td>00 across from 2213 lillibridge</td>\n",
       "      <td>[31096]</td>\n",
       "      <td>42.3698</td>\n",
       "      <td>-82.9754</td>\n",
       "    </tr>\n",
       "    <tr>\n",
       "      <th>3</th>\n",
       "      <td>00 across from 2213 lillibridge</td>\n",
       "      <td>[26074]</td>\n",
       "      <td>42.3699</td>\n",
       "      <td>-82.9757</td>\n",
       "    </tr>\n",
       "    <tr>\n",
       "      <th>4</th>\n",
       "      <td>00 across from 2938 mclean</td>\n",
       "      <td>[46059, 77435]</td>\n",
       "      <td>42.4090</td>\n",
       "      <td>-83.0651</td>\n",
       "    </tr>\n",
       "  </tbody>\n",
       "</table>\n",
       "</div>"
      ],
      "text/plain": [
       "                              addr   event_id_list      lat      lon\n",
       "0          00 abington/schoolcraft         [23256]  42.3869 -83.2119\n",
       "1          00 abington/schoolcraft         [38495]  42.3866 -83.2117\n",
       "2  00 across from 2213 lillibridge         [31096]  42.3698 -82.9754\n",
       "3  00 across from 2213 lillibridge         [26074]  42.3699 -82.9757\n",
       "4       00 across from 2938 mclean  [46059, 77435]  42.4090 -83.0651"
      ]
     },
     "execution_count": 16,
     "metadata": {},
     "output_type": "execute_result"
    }
   ],
   "source": [
    "events_part2_df.head(5)"
   ]
  },
  {
   "cell_type": "code",
   "execution_count": 17,
   "metadata": {
    "collapsed": false,
    "scrolled": true
   },
   "outputs": [],
   "source": [
    "# For buildings classified in the initial step, there is another problem:\n",
    "# Different address may actually locate on the same building. They may just be\n",
    "# apartment complex or of other reasons.\n",
    "# To take care of this possibility, we can cluster them further:\n",
    "#\n",
    "# For building in buildings sorted by 'lon':\n",
    "#    if building.lat same as prev_lat & building.lon same as prev_lon:\n",
    "#        prev_event_list.append(event_id_list)\n",
    "# Same process can be used for 'lat'\n",
    "def condense_buildings(data, by=['lon']):\n",
    "    '''condense very similar values along a column direction'''\n",
    "    sorted_data = data.sort_values(by=by, inplace=False)\n",
    "    \n",
    "    data_concise = {'addr': [], 'lon': [], 'lat': [], 'event_id_list': []}\n",
    "    prev_llcrnrlon = 0\n",
    "    prev_llcrnrlat = 0\n",
    "    prev_urcrnrlon = 0\n",
    "    prev_urcrnrlat = 0\n",
    "    length = 4.11e-4 # longitude\n",
    "    width = 2.04e-4 # latitude\n",
    "    for i, entry in sorted_data.iterrows():\n",
    "        lon = entry['lon']\n",
    "        lat = entry['lat']\n",
    "        if (lon<prev_llcrnrlon) or (lon>prev_urcrnrlon) or (lat<prev_llcrnrlat) or (lat>prev_urcrnrlat):\n",
    "            data_concise['addr'].append(entry['addr'])\n",
    "            data_concise['lon'].append(entry['lon'])\n",
    "            data_concise['lat'].append(entry['lat'])\n",
    "            # below line is different from the loop for events_part2\n",
    "            data_concise['event_id_list'].append(entry['event_id_list']) \n",
    "\n",
    "            prev_llcrnrlon = lon - length/2\n",
    "            prev_llcrnrlat = lat - width/2\n",
    "            prev_urcrnrlon = lon + length/2\n",
    "            prev_urcrnrlat = lat + width/2\n",
    "        else:\n",
    "            data_concise['event_id_list'][-1] = data_concise['event_id_list'][-1]\\\n",
    "                                              + entry['event_id_list']\n",
    "    return pd.DataFrame(data_concise)"
   ]
  },
  {
   "cell_type": "code",
   "execution_count": 18,
   "metadata": {
    "collapsed": true
   },
   "outputs": [],
   "source": [
    "buildings_concise = condense_buildings(buildings, by=['lon','lat'])"
   ]
  },
  {
   "cell_type": "code",
   "execution_count": 19,
   "metadata": {
    "collapsed": false
   },
   "outputs": [
    {
     "data": {
      "text/plain": [
       "134112"
      ]
     },
     "execution_count": 19,
     "metadata": {},
     "output_type": "execute_result"
    }
   ],
   "source": [
    "len(buildings_concise['addr'])  # shorter than before"
   ]
  },
  {
   "cell_type": "code",
   "execution_count": 20,
   "metadata": {
    "collapsed": false
   },
   "outputs": [],
   "source": [
    "buildings_concise2 = condense_buildings(buildings_concise, by=['lat','lon'])"
   ]
  },
  {
   "cell_type": "code",
   "execution_count": 21,
   "metadata": {
    "collapsed": false
   },
   "outputs": [
    {
     "data": {
      "text/plain": [
       "(128805, 4)"
      ]
     },
     "execution_count": 21,
     "metadata": {},
     "output_type": "execute_result"
    }
   ],
   "source": [
    "buildings_concise2.shape  # shorter"
   ]
  },
  {
   "cell_type": "code",
   "execution_count": 22,
   "metadata": {
    "collapsed": false
   },
   "outputs": [
    {
     "data": {
      "text/plain": [
       "(74909, 4)"
      ]
     },
     "execution_count": 22,
     "metadata": {},
     "output_type": "execute_result"
    }
   ],
   "source": [
    "events_part2_df.shape"
   ]
  },
  {
   "cell_type": "code",
   "execution_count": 23,
   "metadata": {
    "collapsed": false
   },
   "outputs": [],
   "source": [
    "buildings_all = pd.concat([buildings_concise2, events_part2_df])"
   ]
  },
  {
   "cell_type": "markdown",
   "metadata": {},
   "source": [
    "### Get rid of void coordinates"
   ]
  },
  {
   "cell_type": "code",
   "execution_count": 24,
   "metadata": {
    "collapsed": true
   },
   "outputs": [],
   "source": [
    "buildings_all = buildings_all[(buildings_all['lat']>42.25) & (buildings_all['lat']<42.5) & (buildings_all['lon']>-83.3) & (buildings_all['lon']<-82.9)]"
   ]
  },
  {
   "cell_type": "code",
   "execution_count": 25,
   "metadata": {
    "collapsed": false
   },
   "outputs": [
    {
     "data": {
      "text/plain": [
       "(203713, 4)"
      ]
     },
     "execution_count": 25,
     "metadata": {},
     "output_type": "execute_result"
    }
   ],
   "source": [
    "buildings_all.shape"
   ]
  },
  {
   "cell_type": "markdown",
   "metadata": {},
   "source": [
    "## Recap of [step 0](./Building_size_estimation.ipynb)"
   ]
  },
  {
   "cell_type": "markdown",
   "metadata": {
    "collapsed": true
   },
   "source": [
    "## Adopting building coordinates\n",
    "It turns out that there is a slight mismatch between real world building coordinates w.r.t given data. So that only average building dimension info is reserved from the building info we got from online open data at data.detroitmi.gov."
   ]
  },
  {
   "cell_type": "code",
   "execution_count": 26,
   "metadata": {
    "collapsed": true
   },
   "outputs": [],
   "source": [
    "data_dir = '../data/'"
   ]
  },
  {
   "cell_type": "code",
   "execution_count": 27,
   "metadata": {
    "collapsed": false
   },
   "outputs": [
    {
     "ename": "OSError",
     "evalue": "File b'../data/buildings_step_0.csv' does not exist",
     "output_type": "error",
     "traceback": [
      "\u001b[0;31m---------------------------------------------------------------------------\u001b[0m",
      "\u001b[0;31mOSError\u001b[0m                                   Traceback (most recent call last)",
      "\u001b[0;32m<ipython-input-27-facb795237ea>\u001b[0m in \u001b[0;36m<module>\u001b[0;34m()\u001b[0m\n\u001b[0;32m----> 1\u001b[0;31m \u001b[0mbuildings_step_0\u001b[0m \u001b[0;34m=\u001b[0m \u001b[0mpd\u001b[0m\u001b[0;34m.\u001b[0m\u001b[0mread_csv\u001b[0m\u001b[0;34m(\u001b[0m\u001b[0mdata_dir\u001b[0m\u001b[0;34m+\u001b[0m\u001b[0;34m'buildings_step_0.csv'\u001b[0m\u001b[0;34m)\u001b[0m\u001b[0;34m\u001b[0m\u001b[0m\n\u001b[0m\u001b[1;32m      2\u001b[0m \u001b[0mpermits\u001b[0m \u001b[0;34m=\u001b[0m \u001b[0mpd\u001b[0m\u001b[0;34m.\u001b[0m\u001b[0mread_csv\u001b[0m\u001b[0;34m(\u001b[0m\u001b[0mdata_dir\u001b[0m\u001b[0;34m+\u001b[0m\u001b[0;34m'permits.csv'\u001b[0m\u001b[0;34m)\u001b[0m\u001b[0;34m\u001b[0m\u001b[0m\n",
      "\u001b[0;32m/Library/Frameworks/Python.framework/Versions/3.4/lib/python3.4/site-packages/pandas/io/parsers.py\u001b[0m in \u001b[0;36mparser_f\u001b[0;34m(filepath_or_buffer, sep, delimiter, header, names, index_col, usecols, squeeze, prefix, mangle_dupe_cols, dtype, engine, converters, true_values, false_values, skipinitialspace, skiprows, skipfooter, nrows, na_values, keep_default_na, na_filter, verbose, skip_blank_lines, parse_dates, infer_datetime_format, keep_date_col, date_parser, dayfirst, iterator, chunksize, compression, thousands, decimal, lineterminator, quotechar, quoting, escapechar, comment, encoding, dialect, tupleize_cols, error_bad_lines, warn_bad_lines, skip_footer, doublequote, delim_whitespace, as_recarray, compact_ints, use_unsigned, low_memory, buffer_lines, memory_map, float_precision)\u001b[0m\n\u001b[1;32m    560\u001b[0m                     skip_blank_lines=skip_blank_lines)\n\u001b[1;32m    561\u001b[0m \u001b[0;34m\u001b[0m\u001b[0m\n\u001b[0;32m--> 562\u001b[0;31m         \u001b[0;32mreturn\u001b[0m \u001b[0m_read\u001b[0m\u001b[0;34m(\u001b[0m\u001b[0mfilepath_or_buffer\u001b[0m\u001b[0;34m,\u001b[0m \u001b[0mkwds\u001b[0m\u001b[0;34m)\u001b[0m\u001b[0;34m\u001b[0m\u001b[0m\n\u001b[0m\u001b[1;32m    563\u001b[0m \u001b[0;34m\u001b[0m\u001b[0m\n\u001b[1;32m    564\u001b[0m     \u001b[0mparser_f\u001b[0m\u001b[0;34m.\u001b[0m\u001b[0m__name__\u001b[0m \u001b[0;34m=\u001b[0m \u001b[0mname\u001b[0m\u001b[0;34m\u001b[0m\u001b[0m\n",
      "\u001b[0;32m/Library/Frameworks/Python.framework/Versions/3.4/lib/python3.4/site-packages/pandas/io/parsers.py\u001b[0m in \u001b[0;36m_read\u001b[0;34m(filepath_or_buffer, kwds)\u001b[0m\n\u001b[1;32m    313\u001b[0m \u001b[0;34m\u001b[0m\u001b[0m\n\u001b[1;32m    314\u001b[0m     \u001b[0;31m# Create the parser.\u001b[0m\u001b[0;34m\u001b[0m\u001b[0;34m\u001b[0m\u001b[0m\n\u001b[0;32m--> 315\u001b[0;31m     \u001b[0mparser\u001b[0m \u001b[0;34m=\u001b[0m \u001b[0mTextFileReader\u001b[0m\u001b[0;34m(\u001b[0m\u001b[0mfilepath_or_buffer\u001b[0m\u001b[0;34m,\u001b[0m \u001b[0;34m**\u001b[0m\u001b[0mkwds\u001b[0m\u001b[0;34m)\u001b[0m\u001b[0;34m\u001b[0m\u001b[0m\n\u001b[0m\u001b[1;32m    316\u001b[0m \u001b[0;34m\u001b[0m\u001b[0m\n\u001b[1;32m    317\u001b[0m     \u001b[0;32mif\u001b[0m \u001b[0;34m(\u001b[0m\u001b[0mnrows\u001b[0m \u001b[0;32mis\u001b[0m \u001b[0;32mnot\u001b[0m \u001b[0;32mNone\u001b[0m\u001b[0;34m)\u001b[0m \u001b[0;32mand\u001b[0m \u001b[0;34m(\u001b[0m\u001b[0mchunksize\u001b[0m \u001b[0;32mis\u001b[0m \u001b[0;32mnot\u001b[0m \u001b[0;32mNone\u001b[0m\u001b[0;34m)\u001b[0m\u001b[0;34m:\u001b[0m\u001b[0;34m\u001b[0m\u001b[0m\n",
      "\u001b[0;32m/Library/Frameworks/Python.framework/Versions/3.4/lib/python3.4/site-packages/pandas/io/parsers.py\u001b[0m in \u001b[0;36m__init__\u001b[0;34m(self, f, engine, **kwds)\u001b[0m\n\u001b[1;32m    643\u001b[0m             \u001b[0mself\u001b[0m\u001b[0;34m.\u001b[0m\u001b[0moptions\u001b[0m\u001b[0;34m[\u001b[0m\u001b[0;34m'has_index_names'\u001b[0m\u001b[0;34m]\u001b[0m \u001b[0;34m=\u001b[0m \u001b[0mkwds\u001b[0m\u001b[0;34m[\u001b[0m\u001b[0;34m'has_index_names'\u001b[0m\u001b[0;34m]\u001b[0m\u001b[0;34m\u001b[0m\u001b[0m\n\u001b[1;32m    644\u001b[0m \u001b[0;34m\u001b[0m\u001b[0m\n\u001b[0;32m--> 645\u001b[0;31m         \u001b[0mself\u001b[0m\u001b[0;34m.\u001b[0m\u001b[0m_make_engine\u001b[0m\u001b[0;34m(\u001b[0m\u001b[0mself\u001b[0m\u001b[0;34m.\u001b[0m\u001b[0mengine\u001b[0m\u001b[0;34m)\u001b[0m\u001b[0;34m\u001b[0m\u001b[0m\n\u001b[0m\u001b[1;32m    646\u001b[0m \u001b[0;34m\u001b[0m\u001b[0m\n\u001b[1;32m    647\u001b[0m     \u001b[0;32mdef\u001b[0m \u001b[0mclose\u001b[0m\u001b[0;34m(\u001b[0m\u001b[0mself\u001b[0m\u001b[0;34m)\u001b[0m\u001b[0;34m:\u001b[0m\u001b[0;34m\u001b[0m\u001b[0m\n",
      "\u001b[0;32m/Library/Frameworks/Python.framework/Versions/3.4/lib/python3.4/site-packages/pandas/io/parsers.py\u001b[0m in \u001b[0;36m_make_engine\u001b[0;34m(self, engine)\u001b[0m\n\u001b[1;32m    797\u001b[0m     \u001b[0;32mdef\u001b[0m \u001b[0m_make_engine\u001b[0m\u001b[0;34m(\u001b[0m\u001b[0mself\u001b[0m\u001b[0;34m,\u001b[0m \u001b[0mengine\u001b[0m\u001b[0;34m=\u001b[0m\u001b[0;34m'c'\u001b[0m\u001b[0;34m)\u001b[0m\u001b[0;34m:\u001b[0m\u001b[0;34m\u001b[0m\u001b[0m\n\u001b[1;32m    798\u001b[0m         \u001b[0;32mif\u001b[0m \u001b[0mengine\u001b[0m \u001b[0;34m==\u001b[0m \u001b[0;34m'c'\u001b[0m\u001b[0;34m:\u001b[0m\u001b[0;34m\u001b[0m\u001b[0m\n\u001b[0;32m--> 799\u001b[0;31m             \u001b[0mself\u001b[0m\u001b[0;34m.\u001b[0m\u001b[0m_engine\u001b[0m \u001b[0;34m=\u001b[0m \u001b[0mCParserWrapper\u001b[0m\u001b[0;34m(\u001b[0m\u001b[0mself\u001b[0m\u001b[0;34m.\u001b[0m\u001b[0mf\u001b[0m\u001b[0;34m,\u001b[0m \u001b[0;34m**\u001b[0m\u001b[0mself\u001b[0m\u001b[0;34m.\u001b[0m\u001b[0moptions\u001b[0m\u001b[0;34m)\u001b[0m\u001b[0;34m\u001b[0m\u001b[0m\n\u001b[0m\u001b[1;32m    800\u001b[0m         \u001b[0;32melse\u001b[0m\u001b[0;34m:\u001b[0m\u001b[0;34m\u001b[0m\u001b[0m\n\u001b[1;32m    801\u001b[0m             \u001b[0;32mif\u001b[0m \u001b[0mengine\u001b[0m \u001b[0;34m==\u001b[0m \u001b[0;34m'python'\u001b[0m\u001b[0;34m:\u001b[0m\u001b[0;34m\u001b[0m\u001b[0m\n",
      "\u001b[0;32m/Library/Frameworks/Python.framework/Versions/3.4/lib/python3.4/site-packages/pandas/io/parsers.py\u001b[0m in \u001b[0;36m__init__\u001b[0;34m(self, src, **kwds)\u001b[0m\n\u001b[1;32m   1211\u001b[0m         \u001b[0mkwds\u001b[0m\u001b[0;34m[\u001b[0m\u001b[0;34m'allow_leading_cols'\u001b[0m\u001b[0;34m]\u001b[0m \u001b[0;34m=\u001b[0m \u001b[0mself\u001b[0m\u001b[0;34m.\u001b[0m\u001b[0mindex_col\u001b[0m \u001b[0;32mis\u001b[0m \u001b[0;32mnot\u001b[0m \u001b[0;32mFalse\u001b[0m\u001b[0;34m\u001b[0m\u001b[0m\n\u001b[1;32m   1212\u001b[0m \u001b[0;34m\u001b[0m\u001b[0m\n\u001b[0;32m-> 1213\u001b[0;31m         \u001b[0mself\u001b[0m\u001b[0;34m.\u001b[0m\u001b[0m_reader\u001b[0m \u001b[0;34m=\u001b[0m \u001b[0m_parser\u001b[0m\u001b[0;34m.\u001b[0m\u001b[0mTextReader\u001b[0m\u001b[0;34m(\u001b[0m\u001b[0msrc\u001b[0m\u001b[0;34m,\u001b[0m \u001b[0;34m**\u001b[0m\u001b[0mkwds\u001b[0m\u001b[0;34m)\u001b[0m\u001b[0;34m\u001b[0m\u001b[0m\n\u001b[0m\u001b[1;32m   1214\u001b[0m \u001b[0;34m\u001b[0m\u001b[0m\n\u001b[1;32m   1215\u001b[0m         \u001b[0;31m# XXX\u001b[0m\u001b[0;34m\u001b[0m\u001b[0;34m\u001b[0m\u001b[0m\n",
      "\u001b[0;32mpandas/parser.pyx\u001b[0m in \u001b[0;36mpandas.parser.TextReader.__cinit__ (pandas/parser.c:3427)\u001b[0;34m()\u001b[0m\n",
      "\u001b[0;32mpandas/parser.pyx\u001b[0m in \u001b[0;36mpandas.parser.TextReader._setup_parser_source (pandas/parser.c:6861)\u001b[0;34m()\u001b[0m\n",
      "\u001b[0;31mOSError\u001b[0m: File b'../data/buildings_step_0.csv' does not exist"
     ]
    }
   ],
   "source": [
    "buildings_step_0 = pd.read_csv(data_dir+'buildings_step_0.csv')\n",
    "permits = pd.read_csv(data_dir+'permits.csv')"
   ]
  },
  {
   "cell_type": "code",
   "execution_count": null,
   "metadata": {
    "collapsed": true
   },
   "outputs": [],
   "source": [
    "permits = permits[['PARCEL_NO', 'BLD_PERMIT_TYPE', 'addr', 'lon', 'lat']]"
   ]
  },
  {
   "cell_type": "code",
   "execution_count": null,
   "metadata": {
    "collapsed": false
   },
   "outputs": [],
   "source": [
    "permits['BLD_PERMIT_TYPE'].unique()"
   ]
  },
  {
   "cell_type": "markdown",
   "metadata": {},
   "source": [
    "### For example: the very first entry of permit has coordinate:"
   ]
  },
  {
   "cell_type": "code",
   "execution_count": null,
   "metadata": {
    "collapsed": false
   },
   "outputs": [],
   "source": [
    "lon01 = permits.loc[1200,'lon']\n",
    "lat01 = permits.loc[1200,'lat']\n",
    "print(lon01,lat01)"
   ]
  },
  {
   "cell_type": "markdown",
   "metadata": {},
   "source": [
    "### In real world data, this corresponds to:"
   ]
  },
  {
   "cell_type": "code",
   "execution_count": null,
   "metadata": {
    "collapsed": false
   },
   "outputs": [],
   "source": [
    "c = buildings_step_0['addr'].apply(lambda x: x == permits.loc[0,'addr'])"
   ]
  },
  {
   "cell_type": "code",
   "execution_count": null,
   "metadata": {
    "collapsed": false
   },
   "outputs": [],
   "source": [
    "buildings_step_0[c][['lon','lat']]"
   ]
  },
  {
   "cell_type": "markdown",
   "metadata": {},
   "source": [
    "The coordinate of this building from data.detroitmi.gov is different from data given in our course material."
   ]
  },
  {
   "cell_type": "markdown",
   "metadata": {},
   "source": [
    "### Only building dimension info is adopted for our analysis."
   ]
  },
  {
   "cell_type": "code",
   "execution_count": null,
   "metadata": {
    "collapsed": true
   },
   "outputs": [],
   "source": [
    "length = 0.000411\n",
    "width = 0.000204  # These results come from step 0."
   ]
  },
  {
   "cell_type": "code",
   "execution_count": null,
   "metadata": {
    "collapsed": true
   },
   "outputs": [],
   "source": [
    "buildings_all['llcrnrlon'] = buildings_all['lon'] - length/2\n",
    "buildings_all['llcrnrlat'] = buildings_all['lat'] - width/2\n",
    "buildings_all['urcrnrlon'] = buildings_all['lon'] + length/2\n",
    "buildings_all['urcrnrlat'] = buildings_all['lat'] + width/2\n",
    "\n",
    "buildings_all['building_id'] = np.arange(0,buildings_all.shape[0])"
   ]
  },
  {
   "cell_type": "code",
   "execution_count": null,
   "metadata": {
    "collapsed": false
   },
   "outputs": [],
   "source": [
    "buildings_all.head()"
   ]
  },
  {
   "cell_type": "code",
   "execution_count": null,
   "metadata": {
    "collapsed": true
   },
   "outputs": [],
   "source": [
    "buildings_all.to_csv('../data/buildings.csv', index=False)"
   ]
  },
  {
   "cell_type": "markdown",
   "metadata": {},
   "source": [
    "### Visualization"
   ]
  },
  {
   "cell_type": "code",
   "execution_count": null,
   "metadata": {
    "collapsed": true
   },
   "outputs": [],
   "source": [
    "from bbox import draw_screen_bbox\n",
    "from matplotlib import pyplot as plt\n",
    "%matplotlib inline"
   ]
  },
  {
   "cell_type": "code",
   "execution_count": null,
   "metadata": {
    "collapsed": true
   },
   "outputs": [],
   "source": [
    "buildings = pd.read_csv('../data/buildings.csv')\n",
    "bboxes = buildings.loc[:,['llcrnrlon','llcrnrlat','urcrnrlon','urcrnrlat']]\n",
    "bboxes = bboxes.as_matrix()"
   ]
  },
  {
   "cell_type": "code",
   "execution_count": null,
   "metadata": {
    "collapsed": false
   },
   "outputs": [],
   "source": [
    "fig = plt.figure(figsize=(8,6), dpi=2000)\n",
    "for box in bboxes:     \n",
    "    draw_screen_bbox(box, fig)\n",
    "    \n",
    "plt.xlim(-83.3,-82.9)\n",
    "plt.ylim(42.25,42.45)\n",
    "plt.savefig('../data/buildings_distribution.png')\n",
    "plt.show()"
   ]
  },
  {
   "cell_type": "code",
   "execution_count": null,
   "metadata": {
    "collapsed": false
   },
   "outputs": [],
   "source": []
  }
 ],
 "metadata": {
  "kernelspec": {
   "display_name": "Python 3",
   "language": "python",
   "name": "python3"
  },
  "language_info": {
   "codemirror_mode": {
    "name": "ipython",
    "version": 3
   },
   "file_extension": ".py",
   "mimetype": "text/x-python",
   "name": "python",
   "nbconvert_exporter": "python",
   "pygments_lexer": "ipython3",
   "version": "3.4.3"
  }
 },
 "nbformat": 4,
 "nbformat_minor": 0
}
