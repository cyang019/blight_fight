{
 "cells": [
  {
   "cell_type": "code",
   "execution_count": 3,
   "metadata": {
    "collapsed": true
   },
   "outputs": [],
   "source": [
    "import numpy as np\n",
    "import pandas as pd"
   ]
  },
  {
   "cell_type": "markdown",
   "metadata": {},
   "source": [
    "# Step 1: Building List"
   ]
  },
  {
   "cell_type": "markdown",
   "metadata": {},
   "source": [
    "## Collecting instances from 311 calls, crimes, and blight violations\n",
    "\n",
    "Data already cleaned by [this notebook](./Cleaning_data.ipynb)\n",
    "The collection of data was saved at __../data/events.csv__"
   ]
  },
  {
   "cell_type": "code",
   "execution_count": 16,
   "metadata": {
    "collapsed": true
   },
   "outputs": [],
   "source": [
    "data_events = pd.read_csv('../data/events.csv')"
   ]
  },
  {
   "cell_type": "code",
   "execution_count": 18,
   "metadata": {
    "collapsed": false
   },
   "outputs": [],
   "source": [
    "data_events.sort_values(by='addr',inplace=True)"
   ]
  },
  {
   "cell_type": "code",
   "execution_count": 21,
   "metadata": {
    "collapsed": false
   },
   "outputs": [
    {
     "data": {
      "text/html": [
       "<div>\n",
       "<table border=\"1\" class=\"dataframe\">\n",
       "  <thead>\n",
       "    <tr style=\"text-align: right;\">\n",
       "      <th></th>\n",
       "      <th>event_id</th>\n",
       "      <th>lon</th>\n",
       "      <th>lat</th>\n",
       "      <th>addr</th>\n",
       "      <th>type</th>\n",
       "    </tr>\n",
       "  </thead>\n",
       "  <tbody>\n",
       "    <tr>\n",
       "      <th>2778</th>\n",
       "      <td>2778</td>\n",
       "      <td>-83.041618</td>\n",
       "      <td>42.408738</td>\n",
       "      <td>5949 casmere st</td>\n",
       "      <td>1</td>\n",
       "    </tr>\n",
       "    <tr>\n",
       "      <th>919</th>\n",
       "      <td>919</td>\n",
       "      <td>-83.175329</td>\n",
       "      <td>42.358054</td>\n",
       "      <td>8641 littlefield</td>\n",
       "      <td>1</td>\n",
       "    </tr>\n",
       "    <tr>\n",
       "      <th>12722</th>\n",
       "      <td>12722</td>\n",
       "      <td>-83.137666</td>\n",
       "      <td>42.338734</td>\n",
       "      <td>wagner</td>\n",
       "      <td>1</td>\n",
       "    </tr>\n",
       "    <tr>\n",
       "      <th>372868</th>\n",
       "      <td>372868</td>\n",
       "      <td>-83.216326</td>\n",
       "      <td>42.369786</td>\n",
       "      <td>0 10th</td>\n",
       "      <td>3</td>\n",
       "    </tr>\n",
       "    <tr>\n",
       "      <th>372312</th>\n",
       "      <td>372312</td>\n",
       "      <td>-83.216326</td>\n",
       "      <td>42.369786</td>\n",
       "      <td>0 10th</td>\n",
       "      <td>3</td>\n",
       "    </tr>\n",
       "    <tr>\n",
       "      <th>345447</th>\n",
       "      <td>345447</td>\n",
       "      <td>-83.216326</td>\n",
       "      <td>42.369786</td>\n",
       "      <td>0 10th</td>\n",
       "      <td>3</td>\n",
       "    </tr>\n",
       "    <tr>\n",
       "      <th>372311</th>\n",
       "      <td>372311</td>\n",
       "      <td>-83.216326</td>\n",
       "      <td>42.369786</td>\n",
       "      <td>0 10th</td>\n",
       "      <td>3</td>\n",
       "    </tr>\n",
       "    <tr>\n",
       "      <th>372887</th>\n",
       "      <td>372887</td>\n",
       "      <td>-83.216326</td>\n",
       "      <td>42.369786</td>\n",
       "      <td>0 10th</td>\n",
       "      <td>3</td>\n",
       "    </tr>\n",
       "    <tr>\n",
       "      <th>345451</th>\n",
       "      <td>345451</td>\n",
       "      <td>-83.216326</td>\n",
       "      <td>42.369786</td>\n",
       "      <td>0 10th</td>\n",
       "      <td>3</td>\n",
       "    </tr>\n",
       "    <tr>\n",
       "      <th>377671</th>\n",
       "      <td>377671</td>\n",
       "      <td>-83.216326</td>\n",
       "      <td>42.369786</td>\n",
       "      <td>0 10th</td>\n",
       "      <td>3</td>\n",
       "    </tr>\n",
       "  </tbody>\n",
       "</table>\n",
       "</div>"
      ],
      "text/plain": [
       "        event_id        lon        lat               addr  type\n",
       "2778        2778 -83.041618  42.408738    5949 casmere st     1\n",
       "919          919 -83.175329  42.358054   8641 littlefield     1\n",
       "12722      12722 -83.137666  42.338734             wagner     1\n",
       "372868    372868 -83.216326  42.369786             0 10th     3\n",
       "372312    372312 -83.216326  42.369786             0 10th     3\n",
       "345447    345447 -83.216326  42.369786             0 10th     3\n",
       "372311    372311 -83.216326  42.369786             0 10th     3\n",
       "372887    372887 -83.216326  42.369786             0 10th     3\n",
       "345451    345451 -83.216326  42.369786             0 10th     3\n",
       "377671    377671 -83.216326  42.369786             0 10th     3"
      ]
     },
     "execution_count": 21,
     "metadata": {},
     "output_type": "execute_result"
    }
   ],
   "source": [
    "data_events.head(10)"
   ]
  },
  {
   "cell_type": "code",
   "execution_count": 129,
   "metadata": {
    "collapsed": false
   },
   "outputs": [],
   "source": [
    "events_grouped = data_events.groupby(by=['addr'], axis=0)"
   ]
  },
  {
   "cell_type": "code",
   "execution_count": 152,
   "metadata": {
    "collapsed": false
   },
   "outputs": [],
   "source": [
    "events_grouped_list = {'addr': [], 'lon': [], 'lat': [], 'event_id_list': []}\n",
    "\n",
    "unknown_address = []\n",
    "\n",
    "epsilon = 1.0e-5 # 1/40 of median length of a building or 1/20 of median width of a building\n",
    "\n",
    "def similar_vals(lst, epsilon=1.0e-5):\n",
    "    '''determine if the lst contains almost identical values. If it does, return median value.\n",
    "    Otherwise return -9999'''\n",
    "    if len(lst) == 1:\n",
    "        return lst[0]\n",
    "    \n",
    "    avg_val = np.median(lst)\n",
    "    notSimilar = False\n",
    "    for val in lst:\n",
    "        if abs(val-avg_val) > epsilon:\n",
    "            notSimilar=True\n",
    "            break\n",
    "    if notSimilar:\n",
    "        return -9999\n",
    "    else:\n",
    "        return avg_val"
   ]
  },
  {
   "cell_type": "code",
   "execution_count": 158,
   "metadata": {
    "collapsed": false
   },
   "outputs": [],
   "source": [
    "for a_group in events_grouped:\n",
    "    address, entry = a_group\n",
    "    event_id_list = entry['event_id'].values.tolist()\n",
    "    lon = entry['lon'].drop_duplicates().values.tolist()\n",
    "    lat = entry['lat'].drop_duplicates().values.tolist()\n",
    "    \n",
    "    if len(lon) == 1:\n",
    "        lon = lon[0] \n",
    "    else:\n",
    "        effect_lon = similar_vals(lon)\n",
    "        if effect_lon < -1000:\n",
    "            unknown_address.append(entry)\n",
    "            continue\n",
    "        lon = effect_lon\n",
    "        \n",
    "    if (len(lat) == 1):\n",
    "        lat = lat[0]\n",
    "    else:\n",
    "        effect_lat = similar_vals(lat)\n",
    "        if effect_lat < -1000:\n",
    "            unknown_address.append(entry)\n",
    "            continue\n",
    "        lat = effect_lat\n",
    "        \n",
    "        \n",
    "    if len(events_grouped_list['addr']) != 0:\n",
    "        # check if previous address is actually the same\n",
    "        prev_lon = events_grouped_list['lon'][-1]\n",
    "        prev_lat = events_grouped_list['lat'][-1]\n",
    "        if (abs(lon-prev_lon) < epsilon) and (abs(lat-prev_lat) < epsilon):\n",
    "            events_grouped_list['event_id_list'][-1] = events_grouped_list['event_id_list'][-1] \\\n",
    "                                                            + event_id_list\n",
    "        else:\n",
    "            events_grouped_list['addr'].append(address)\n",
    "            events_grouped_list['lon'].append(lon)\n",
    "            events_grouped_list['lat'].append(lat)\n",
    "            events_grouped_list['event_id_list'].append(event_id_list)\n",
    "    else:\n",
    "        events_grouped_list['addr'].append(address)\n",
    "        events_grouped_list['lon'].append(lon)\n",
    "        events_grouped_list['lat'].append(lat)\n",
    "        events_grouped_list['event_id_list'].append(event_id_list)\n",
    "\n",
    "    \n",
    "buildings = pd.DataFrame(events_grouped_list)"
   ]
  },
  {
   "cell_type": "code",
   "execution_count": 159,
   "metadata": {
    "collapsed": false
   },
   "outputs": [
    {
     "data": {
      "text/plain": [
       "0"
      ]
     },
     "execution_count": 159,
     "metadata": {},
     "output_type": "execute_result"
    }
   ],
   "source": [
    "len(unknown_address)"
   ]
  },
  {
   "cell_type": "code",
   "execution_count": 160,
   "metadata": {
    "collapsed": false
   },
   "outputs": [
    {
     "data": {
      "text/plain": [
       "(173458, 4)"
      ]
     },
     "execution_count": 160,
     "metadata": {},
     "output_type": "execute_result"
    }
   ],
   "source": [
    "buildings.shape"
   ]
  },
  {
   "cell_type": "code",
   "execution_count": 161,
   "metadata": {
    "collapsed": false,
    "scrolled": true
   },
   "outputs": [
    {
     "data": {
      "text/html": [
       "<div>\n",
       "<table border=\"1\" class=\"dataframe\">\n",
       "  <thead>\n",
       "    <tr style=\"text-align: right;\">\n",
       "      <th></th>\n",
       "      <th>addr</th>\n",
       "      <th>event_id_list</th>\n",
       "      <th>lat</th>\n",
       "      <th>lon</th>\n",
       "    </tr>\n",
       "  </thead>\n",
       "  <tbody>\n",
       "    <tr>\n",
       "      <th>0</th>\n",
       "      <td>5949 casmere st</td>\n",
       "      <td>[2778]</td>\n",
       "      <td>42.408738</td>\n",
       "      <td>-83.041618</td>\n",
       "    </tr>\n",
       "    <tr>\n",
       "      <th>1</th>\n",
       "      <td>8641 littlefield</td>\n",
       "      <td>[919]</td>\n",
       "      <td>42.358054</td>\n",
       "      <td>-83.175329</td>\n",
       "    </tr>\n",
       "    <tr>\n",
       "      <th>2</th>\n",
       "      <td>wagner</td>\n",
       "      <td>[12722]</td>\n",
       "      <td>42.338734</td>\n",
       "      <td>-83.137666</td>\n",
       "    </tr>\n",
       "    <tr>\n",
       "      <th>3</th>\n",
       "      <td>0 10th</td>\n",
       "      <td>[372868, 372312, 345447, 372311, 372887, 34545...</td>\n",
       "      <td>42.369786</td>\n",
       "      <td>-83.216326</td>\n",
       "    </tr>\n",
       "    <tr>\n",
       "      <th>4</th>\n",
       "      <td>0 10th st</td>\n",
       "      <td>[440257]</td>\n",
       "      <td>42.325449</td>\n",
       "      <td>-83.064139</td>\n",
       "    </tr>\n",
       "    <tr>\n",
       "      <th>5</th>\n",
       "      <td>0 11th</td>\n",
       "      <td>[306426, 378616, 373086]</td>\n",
       "      <td>42.411997</td>\n",
       "      <td>-83.167339</td>\n",
       "    </tr>\n",
       "    <tr>\n",
       "      <th>6</th>\n",
       "      <td>0 15th</td>\n",
       "      <td>[307472]</td>\n",
       "      <td>42.441234</td>\n",
       "      <td>-83.219551</td>\n",
       "    </tr>\n",
       "    <tr>\n",
       "      <th>7</th>\n",
       "      <td>0 18th</td>\n",
       "      <td>[376876]</td>\n",
       "      <td>42.341516</td>\n",
       "      <td>-83.087758</td>\n",
       "    </tr>\n",
       "    <tr>\n",
       "      <th>8</th>\n",
       "      <td>0 21st</td>\n",
       "      <td>[254794]</td>\n",
       "      <td>42.323726</td>\n",
       "      <td>-83.081573</td>\n",
       "    </tr>\n",
       "    <tr>\n",
       "      <th>9</th>\n",
       "      <td>0 22nd</td>\n",
       "      <td>[382405]</td>\n",
       "      <td>42.330432</td>\n",
       "      <td>-83.088302</td>\n",
       "    </tr>\n",
       "  </tbody>\n",
       "</table>\n",
       "</div>"
      ],
      "text/plain": [
       "                addr                                      event_id_list  \\\n",
       "0    5949 casmere st                                             [2778]   \n",
       "1   8641 littlefield                                              [919]   \n",
       "2             wagner                                            [12722]   \n",
       "3             0 10th  [372868, 372312, 345447, 372311, 372887, 34545...   \n",
       "4          0 10th st                                           [440257]   \n",
       "5             0 11th                           [306426, 378616, 373086]   \n",
       "6             0 15th                                           [307472]   \n",
       "7             0 18th                                           [376876]   \n",
       "8             0 21st                                           [254794]   \n",
       "9             0 22nd                                           [382405]   \n",
       "\n",
       "         lat        lon  \n",
       "0  42.408738 -83.041618  \n",
       "1  42.358054 -83.175329  \n",
       "2  42.338734 -83.137666  \n",
       "3  42.369786 -83.216326  \n",
       "4  42.325449 -83.064139  \n",
       "5  42.411997 -83.167339  \n",
       "6  42.441234 -83.219551  \n",
       "7  42.341516 -83.087758  \n",
       "8  42.323726 -83.081573  \n",
       "9  42.330432 -83.088302  "
      ]
     },
     "execution_count": 161,
     "metadata": {},
     "output_type": "execute_result"
    }
   ],
   "source": [
    "buildings.head(10)"
   ]
  },
  {
   "cell_type": "markdown",
   "metadata": {},
   "source": [
    "## Recap of [step 0](./Building_size_estimation.ipynb)"
   ]
  },
  {
   "cell_type": "markdown",
   "metadata": {
    "collapsed": true
   },
   "source": [
    "## Adopting building coordinates\n",
    "It turns out that there is a slight mismatch between real world building coordinates w.r.t given data. So that only average building dimension info is reserved from the building info we got from online open data at data.detroitmi.gov."
   ]
  },
  {
   "cell_type": "code",
   "execution_count": 172,
   "metadata": {
    "collapsed": true
   },
   "outputs": [],
   "source": [
    "data_dir = '../data/'"
   ]
  },
  {
   "cell_type": "code",
   "execution_count": 173,
   "metadata": {
    "collapsed": false
   },
   "outputs": [],
   "source": [
    "buildings_step_0 = pd.read_csv(data_dir+'buildings_step_0.csv')\n",
    "permits = pd.read_csv(data_dir+'permits.csv')"
   ]
  },
  {
   "cell_type": "code",
   "execution_count": 174,
   "metadata": {
    "collapsed": true
   },
   "outputs": [],
   "source": [
    "permits = permits[['PARCEL_NO', 'BLD_PERMIT_TYPE', 'addr', 'lon', 'lat']]"
   ]
  },
  {
   "cell_type": "code",
   "execution_count": 175,
   "metadata": {
    "collapsed": false
   },
   "outputs": [
    {
     "data": {
      "text/plain": [
       "array(['Dismantle', 'DISM'], dtype=object)"
      ]
     },
     "execution_count": 175,
     "metadata": {},
     "output_type": "execute_result"
    }
   ],
   "source": [
    "permits['BLD_PERMIT_TYPE'].unique()"
   ]
  },
  {
   "cell_type": "markdown",
   "metadata": {},
   "source": [
    "### For example: the very first entry of permit has coordinate:"
   ]
  },
  {
   "cell_type": "code",
   "execution_count": 179,
   "metadata": {
    "collapsed": false
   },
   "outputs": [
    {
     "name": "stdout",
     "output_type": "stream",
     "text": [
      "-83.107940092 42.382456019\n"
     ]
    }
   ],
   "source": [
    "lon01 = permits.loc[1200,'lon']\n",
    "lat01 = permits.loc[1200,'lat']\n",
    "print(lon01,lat01)"
   ]
  },
  {
   "cell_type": "markdown",
   "metadata": {},
   "source": [
    "### In real world data, this corresponds to:"
   ]
  },
  {
   "cell_type": "code",
   "execution_count": 177,
   "metadata": {
    "collapsed": false
   },
   "outputs": [],
   "source": [
    "c = buildings_step_0['addr'].apply(lambda x: x == permits.loc[0,'addr'])"
   ]
  },
  {
   "cell_type": "code",
   "execution_count": 181,
   "metadata": {
    "collapsed": false
   },
   "outputs": [
    {
     "data": {
      "text/html": [
       "<div>\n",
       "<table border=\"1\" class=\"dataframe\">\n",
       "  <thead>\n",
       "    <tr style=\"text-align: right;\">\n",
       "      <th></th>\n",
       "      <th>lon</th>\n",
       "      <th>lat</th>\n",
       "    </tr>\n",
       "  </thead>\n",
       "  <tbody>\n",
       "    <tr>\n",
       "      <th>261994</th>\n",
       "      <td>-82.947708</td>\n",
       "      <td>42.393997</td>\n",
       "    </tr>\n",
       "  </tbody>\n",
       "</table>\n",
       "</div>"
      ],
      "text/plain": [
       "              lon        lat\n",
       "261994 -82.947708  42.393997"
      ]
     },
     "execution_count": 181,
     "metadata": {},
     "output_type": "execute_result"
    }
   ],
   "source": [
    "buildings_step_0[c][['lon','lat']]"
   ]
  },
  {
   "cell_type": "markdown",
   "metadata": {},
   "source": [
    "The coordinate of this building from data.detroitmi.gov is different from data given in our course material."
   ]
  },
  {
   "cell_type": "markdown",
   "metadata": {},
   "source": [
    "### Only building dimension info is adopted for our analysis."
   ]
  },
  {
   "cell_type": "code",
   "execution_count": 15,
   "metadata": {
    "collapsed": true
   },
   "outputs": [],
   "source": [
    "length = 0.000411\n",
    "width = 0.000204  # These results come from step 0."
   ]
  },
  {
   "cell_type": "code",
   "execution_count": 182,
   "metadata": {
    "collapsed": true
   },
   "outputs": [],
   "source": [
    "buildings['llcrnrlon'] = buildings['lon'] - length/2\n",
    "buildings['llcrnrlat'] = buildings['lat'] - width/2\n",
    "buildings['urcrnrlon'] = buildings['lon'] + length/2\n",
    "buildings['urcrnrlat'] = buildings['lat'] + width/2"
   ]
  },
  {
   "cell_type": "code",
   "execution_count": 189,
   "metadata": {
    "collapsed": false
   },
   "outputs": [
    {
     "data": {
      "text/html": [
       "<div>\n",
       "<table border=\"1\" class=\"dataframe\">\n",
       "  <thead>\n",
       "    <tr style=\"text-align: right;\">\n",
       "      <th></th>\n",
       "      <th>addr</th>\n",
       "      <th>event_id_list</th>\n",
       "      <th>lat</th>\n",
       "      <th>lon</th>\n",
       "      <th>llcrnrlon</th>\n",
       "      <th>llcrnrlat</th>\n",
       "      <th>urcrnrlon</th>\n",
       "      <th>urcrnrlat</th>\n",
       "    </tr>\n",
       "  </thead>\n",
       "  <tbody>\n",
       "    <tr>\n",
       "      <th>0</th>\n",
       "      <td>5949 casmere st</td>\n",
       "      <td>[2778]</td>\n",
       "      <td>42.408738</td>\n",
       "      <td>-83.041618</td>\n",
       "      <td>-83.041824</td>\n",
       "      <td>42.408636</td>\n",
       "      <td>-83.041412</td>\n",
       "      <td>42.408840</td>\n",
       "    </tr>\n",
       "    <tr>\n",
       "      <th>1</th>\n",
       "      <td>8641 littlefield</td>\n",
       "      <td>[919]</td>\n",
       "      <td>42.358054</td>\n",
       "      <td>-83.175329</td>\n",
       "      <td>-83.175535</td>\n",
       "      <td>42.357952</td>\n",
       "      <td>-83.175123</td>\n",
       "      <td>42.358156</td>\n",
       "    </tr>\n",
       "    <tr>\n",
       "      <th>2</th>\n",
       "      <td>wagner</td>\n",
       "      <td>[12722]</td>\n",
       "      <td>42.338734</td>\n",
       "      <td>-83.137666</td>\n",
       "      <td>-83.137871</td>\n",
       "      <td>42.338632</td>\n",
       "      <td>-83.137460</td>\n",
       "      <td>42.338836</td>\n",
       "    </tr>\n",
       "    <tr>\n",
       "      <th>3</th>\n",
       "      <td>0 10th</td>\n",
       "      <td>[372868, 372312, 345447, 372311, 372887, 34545...</td>\n",
       "      <td>42.369786</td>\n",
       "      <td>-83.216326</td>\n",
       "      <td>-83.216532</td>\n",
       "      <td>42.369684</td>\n",
       "      <td>-83.216121</td>\n",
       "      <td>42.369888</td>\n",
       "    </tr>\n",
       "    <tr>\n",
       "      <th>4</th>\n",
       "      <td>0 10th st</td>\n",
       "      <td>[440257]</td>\n",
       "      <td>42.325449</td>\n",
       "      <td>-83.064139</td>\n",
       "      <td>-83.064345</td>\n",
       "      <td>42.325347</td>\n",
       "      <td>-83.063934</td>\n",
       "      <td>42.325551</td>\n",
       "    </tr>\n",
       "  </tbody>\n",
       "</table>\n",
       "</div>"
      ],
      "text/plain": [
       "                addr                                      event_id_list  \\\n",
       "0    5949 casmere st                                             [2778]   \n",
       "1   8641 littlefield                                              [919]   \n",
       "2             wagner                                            [12722]   \n",
       "3             0 10th  [372868, 372312, 345447, 372311, 372887, 34545...   \n",
       "4          0 10th st                                           [440257]   \n",
       "\n",
       "         lat        lon  llcrnrlon  llcrnrlat  urcrnrlon  urcrnrlat  \n",
       "0  42.408738 -83.041618 -83.041824  42.408636 -83.041412  42.408840  \n",
       "1  42.358054 -83.175329 -83.175535  42.357952 -83.175123  42.358156  \n",
       "2  42.338734 -83.137666 -83.137871  42.338632 -83.137460  42.338836  \n",
       "3  42.369786 -83.216326 -83.216532  42.369684 -83.216121  42.369888  \n",
       "4  42.325449 -83.064139 -83.064345  42.325347 -83.063934  42.325551  "
      ]
     },
     "execution_count": 189,
     "metadata": {},
     "output_type": "execute_result"
    }
   ],
   "source": [
    "buildings.head()"
   ]
  },
  {
   "cell_type": "markdown",
   "metadata": {},
   "source": [
    "### Visualization"
   ]
  },
  {
   "cell_type": "code",
   "execution_count": null,
   "metadata": {
    "collapsed": true
   },
   "outputs": [],
   "source": [
    "from bbox import draw_screen_bbox\n",
    "from matplotlib import pyplot as plt\n",
    "%matplotlib inline"
   ]
  },
  {
   "cell_type": "code",
   "execution_count": 183,
   "metadata": {
    "collapsed": true
   },
   "outputs": [],
   "source": [
    "buildings.to_csv('../data/buildings.csv', index=False)"
   ]
  },
  {
   "cell_type": "code",
   "execution_count": 194,
   "metadata": {
    "collapsed": true
   },
   "outputs": [],
   "source": [
    "bboxes = buildings.loc[:,['llcrnrlon','llcrnrlat','urcrnrlon','urcrnrlat']]\n",
    "bboxes = bboxes.as_matrix()"
   ]
  },
  {
   "cell_type": "code",
   "execution_count": null,
   "metadata": {
    "collapsed": false
   },
   "outputs": [],
   "source": [
    "fig = plt.figure(figsize=(8,6))\n",
    "for box in bboxes:\n",
    "    draw_screen_bbox(box, fig)\n",
    "    \n",
    "plt.xlim(-83.3,-82.9)\n",
    "plt.ylim(42.25,42.45)\n",
    "plt.savefig('../data/buildings_distribution.png')\n",
    "plt.show()"
   ]
  },
  {
   "cell_type": "code",
   "execution_count": null,
   "metadata": {
    "collapsed": true
   },
   "outputs": [],
   "source": []
  }
 ],
 "metadata": {
  "kernelspec": {
   "display_name": "Python 3",
   "language": "python",
   "name": "python3"
  },
  "language_info": {
   "codemirror_mode": {
    "name": "ipython",
    "version": 3
   },
   "file_extension": ".py",
   "mimetype": "text/x-python",
   "name": "python",
   "nbconvert_exporter": "python",
   "pygments_lexer": "ipython3",
   "version": "3.5.1"
  }
 },
 "nbformat": 4,
 "nbformat_minor": 0
}
