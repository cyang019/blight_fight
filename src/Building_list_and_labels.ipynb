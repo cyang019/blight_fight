{
 "cells": [
  {
   "cell_type": "markdown",
   "metadata": {},
   "source": [
    "## Recap of step 0"
   ]
  },
  {
   "cell_type": "code",
   "execution_count": 3,
   "metadata": {
    "collapsed": true
   },
   "outputs": [],
   "source": [
    "import numpy as np\n",
    "import pandas as pd"
   ]
  },
  {
   "cell_type": "code",
   "execution_count": 4,
   "metadata": {
    "collapsed": true
   },
   "outputs": [],
   "source": [
    "data_dir = '../data/'"
   ]
  },
  {
   "cell_type": "code",
   "execution_count": 5,
   "metadata": {
    "collapsed": false
   },
   "outputs": [],
   "source": [
    "buildings = pd.read_csv(data_dir+'buildings_step_0.csv')\n",
    "permits = pd.read_csv(data_dir+'permits.csv')"
   ]
  },
  {
   "cell_type": "code",
   "execution_count": 6,
   "metadata": {
    "collapsed": false
   },
   "outputs": [
    {
     "data": {
      "text/html": [
       "<div>\n",
       "<table border=\"1\" class=\"dataframe\">\n",
       "  <thead>\n",
       "    <tr style=\"text-align: right;\">\n",
       "      <th></th>\n",
       "      <th>index</th>\n",
       "      <th>building_id</th>\n",
       "      <th>lon</th>\n",
       "      <th>lat</th>\n",
       "      <th>llcrnrlon</th>\n",
       "      <th>llcrnrlat</th>\n",
       "      <th>urcrnrlon</th>\n",
       "      <th>urcrnrlat</th>\n",
       "      <th>addr</th>\n",
       "      <th>PARCELNO</th>\n",
       "      <th>length</th>\n",
       "      <th>width</th>\n",
       "    </tr>\n",
       "  </thead>\n",
       "  <tbody>\n",
       "    <tr>\n",
       "      <th>0</th>\n",
       "      <td>0</td>\n",
       "      <td>0</td>\n",
       "      <td>-83.040064</td>\n",
       "      <td>42.328955</td>\n",
       "      <td>-83.041659</td>\n",
       "      <td>42.327600</td>\n",
       "      <td>-83.037944</td>\n",
       "      <td>42.330580</td>\n",
       "      <td>400 e jefferson</td>\n",
       "      <td>01000001.</td>\n",
       "      <td>0.003715</td>\n",
       "      <td>0.002980</td>\n",
       "    </tr>\n",
       "    <tr>\n",
       "      <th>1</th>\n",
       "      <td>1</td>\n",
       "      <td>1</td>\n",
       "      <td>-83.039415</td>\n",
       "      <td>42.327845</td>\n",
       "      <td>-83.040284</td>\n",
       "      <td>42.327441</td>\n",
       "      <td>-83.038001</td>\n",
       "      <td>42.328499</td>\n",
       "      <td>300 e atwater</td>\n",
       "      <td>01000002-3</td>\n",
       "      <td>0.002283</td>\n",
       "      <td>0.001058</td>\n",
       "    </tr>\n",
       "    <tr>\n",
       "      <th>2</th>\n",
       "      <td>2</td>\n",
       "      <td>2</td>\n",
       "      <td>-83.041866</td>\n",
       "      <td>42.328047</td>\n",
       "      <td>-83.042504</td>\n",
       "      <td>42.327680</td>\n",
       "      <td>-83.041037</td>\n",
       "      <td>42.328326</td>\n",
       "      <td>201 randolph</td>\n",
       "      <td>01000004.001</td>\n",
       "      <td>0.001467</td>\n",
       "      <td>0.000646</td>\n",
       "    </tr>\n",
       "    <tr>\n",
       "      <th>3</th>\n",
       "      <td>3</td>\n",
       "      <td>3</td>\n",
       "      <td>-83.041562</td>\n",
       "      <td>42.327899</td>\n",
       "      <td>-83.042353</td>\n",
       "      <td>42.327402</td>\n",
       "      <td>-83.040638</td>\n",
       "      <td>42.328329</td>\n",
       "      <td>159 randolph</td>\n",
       "      <td>01000004.002L</td>\n",
       "      <td>0.001715</td>\n",
       "      <td>0.000927</td>\n",
       "    </tr>\n",
       "  </tbody>\n",
       "</table>\n",
       "</div>"
      ],
      "text/plain": [
       "   index  building_id        lon        lat  llcrnrlon  llcrnrlat  urcrnrlon  \\\n",
       "0      0            0 -83.040064  42.328955 -83.041659  42.327600 -83.037944   \n",
       "1      1            1 -83.039415  42.327845 -83.040284  42.327441 -83.038001   \n",
       "2      2            2 -83.041866  42.328047 -83.042504  42.327680 -83.041037   \n",
       "3      3            3 -83.041562  42.327899 -83.042353  42.327402 -83.040638   \n",
       "\n",
       "   urcrnrlat             addr       PARCELNO    length     width  \n",
       "0  42.330580  400 e jefferson      01000001.  0.003715  0.002980  \n",
       "1  42.328499    300 e atwater     01000002-3  0.002283  0.001058  \n",
       "2  42.328326     201 randolph   01000004.001  0.001467  0.000646  \n",
       "3  42.328329     159 randolph  01000004.002L  0.001715  0.000927  "
      ]
     },
     "execution_count": 6,
     "metadata": {},
     "output_type": "execute_result"
    }
   ],
   "source": [
    "buildings.head(4)"
   ]
  },
  {
   "cell_type": "code",
   "execution_count": 7,
   "metadata": {
    "collapsed": false
   },
   "outputs": [
    {
     "data": {
      "text/plain": [
       "Index(['PERMIT_NO', 'PERMIT_APPLIED', 'PERMIT_ISSUED', 'PERMIT_EXPIRES',\n",
       "       'SITE_ADDRESS', 'BETWEEN1', 'PARCEL_NO', 'LOT_NUMBER', 'SUBDIVISION',\n",
       "       'CASE_TYPE', 'CASE_DESCRIPTION', 'LEGAL_USE', 'ESTIMATED_COST',\n",
       "       'PARCEL_SIZE', 'PARCEL_CLUSTER_SECTOR', 'STORIES', 'PARCEL_FLOOR_AREA',\n",
       "       'PARCEL_GROUND_AREA', 'PRC_AKA_ADDRESS', 'BLD_PERMIT_TYPE',\n",
       "       'PERMIT_DESCRIPTION', 'BLD_PERMIT_DESC', 'BLD_TYPE_USE', 'RESIDENTIAL',\n",
       "       'DESCRIPTION', 'BLD_TYPE_CONST_COD', 'BLD_ZONING_DIST', 'BLD_USE_GROUP',\n",
       "       'BLD_BASEMENT', 'FEE_TYPE', 'CSM_CASENO', 'CSF_CREATED_BY', 'SEQ_NO',\n",
       "       'PCF_AMT_PD', 'PCF_AMT_DUE', 'PCF_UPDATED', 'OWNER_LAST_NAME',\n",
       "       'OWNER_FIRST_NAME', 'OWNER_ADDRESS1', 'OWNER_ADDRESS2', 'OWNER_CITY',\n",
       "       'OWNER_STATE', 'OWNER_ZIP', 'CONTRACTOR_LAST_NAME',\n",
       "       'CONTRACTOR_FIRST_NAME', 'CONTRACTOR_ADDRESS1', 'CONTRACTOR_ADDRESS2',\n",
       "       'CONTRACTOR_CITY', 'CONTRACTOR_STATE', 'CONTRACTOR_ZIP',\n",
       "       'CONDITION_FOR_APPROVAL', 'owner_location', 'contractor_location',\n",
       "       'geom', 'addr', 'lon', 'lat'],\n",
       "      dtype='object')"
      ]
     },
     "execution_count": 7,
     "metadata": {},
     "output_type": "execute_result"
    }
   ],
   "source": [
    "permits.columns"
   ]
  },
  {
   "cell_type": "code",
   "execution_count": 8,
   "metadata": {
    "collapsed": true
   },
   "outputs": [],
   "source": [
    "permits = permits[['PARCEL_NO', 'BLD_PERMIT_TYPE', 'addr', 'lon', 'lat']]"
   ]
  },
  {
   "cell_type": "code",
   "execution_count": 9,
   "metadata": {
    "collapsed": false
   },
   "outputs": [
    {
     "data": {
      "text/plain": [
       "array(['Dismantle', 'DISM'], dtype=object)"
      ]
     },
     "execution_count": 9,
     "metadata": {},
     "output_type": "execute_result"
    }
   ],
   "source": [
    "permits['BLD_PERMIT_TYPE'].unique()"
   ]
  },
  {
   "cell_type": "code",
   "execution_count": 10,
   "metadata": {
    "collapsed": false
   },
   "outputs": [
    {
     "data": {
      "text/html": [
       "<div>\n",
       "<table border=\"1\" class=\"dataframe\">\n",
       "  <thead>\n",
       "    <tr style=\"text-align: right;\">\n",
       "      <th></th>\n",
       "      <th>PARCEL_NO</th>\n",
       "      <th>BLD_PERMIT_TYPE</th>\n",
       "      <th>addr</th>\n",
       "      <th>lon</th>\n",
       "      <th>lat</th>\n",
       "    </tr>\n",
       "  </thead>\n",
       "  <tbody>\n",
       "    <tr>\n",
       "      <th>0</th>\n",
       "      <td>2165525-6</td>\n",
       "      <td>Dismantle</td>\n",
       "      <td>4331 barham</td>\n",
       "      <td>-82.947400</td>\n",
       "      <td>42.394106</td>\n",
       "    </tr>\n",
       "    <tr>\n",
       "      <th>1</th>\n",
       "      <td>192312.</td>\n",
       "      <td>Dismantle</td>\n",
       "      <td>9707 bessemore</td>\n",
       "      <td>-83.005077</td>\n",
       "      <td>42.395122</td>\n",
       "    </tr>\n",
       "    <tr>\n",
       "      <th>2</th>\n",
       "      <td>2169321.</td>\n",
       "      <td>Dismantle</td>\n",
       "      <td>5315 berkshire</td>\n",
       "      <td>-82.946476</td>\n",
       "      <td>42.403220</td>\n",
       "    </tr>\n",
       "    <tr>\n",
       "      <th>3</th>\n",
       "      <td>2125930.</td>\n",
       "      <td>Dismantle</td>\n",
       "      <td>16670 bringard dr</td>\n",
       "      <td>-82.947207</td>\n",
       "      <td>42.446640</td>\n",
       "    </tr>\n",
       "  </tbody>\n",
       "</table>\n",
       "</div>"
      ],
      "text/plain": [
       "   PARCEL_NO BLD_PERMIT_TYPE               addr        lon        lat\n",
       "0  2165525-6       Dismantle        4331 barham -82.947400  42.394106\n",
       "1    192312.       Dismantle     9707 bessemore -83.005077  42.395122\n",
       "2   2169321.       Dismantle     5315 berkshire -82.946476  42.403220\n",
       "3   2125930.       Dismantle  16670 bringard dr -82.947207  42.446640"
      ]
     },
     "execution_count": 10,
     "metadata": {},
     "output_type": "execute_result"
    }
   ],
   "source": [
    "permits.head(4)"
   ]
  },
  {
   "cell_type": "code",
   "execution_count": 11,
   "metadata": {
    "collapsed": false
   },
   "outputs": [
    {
     "name": "stdout",
     "output_type": "stream",
     "text": [
      "Total number of blighted buildings: 6315\n"
     ]
    }
   ],
   "source": [
    "print(\"Total number of blighted buildings: %d\" % permits.shape[0])"
   ]
  },
  {
   "cell_type": "markdown",
   "metadata": {
    "collapsed": true
   },
   "source": [
    "## Adopting building coordinates\n",
    "It turns out that there is a slight mismatch between real world building coordinates w.r.t given data. So that only average building dimension info is reserved from the building info we got from online open data at data.detroitmi.gov."
   ]
  },
  {
   "cell_type": "markdown",
   "metadata": {},
   "source": [
    "### For example: the very first entry of permit has coordinate:"
   ]
  },
  {
   "cell_type": "code",
   "execution_count": 12,
   "metadata": {
    "collapsed": false
   },
   "outputs": [],
   "source": [
    "lon01 = permits.loc[1200,'lon']\n",
    "lat01 = permits.loc[1200,'lat']"
   ]
  },
  {
   "cell_type": "code",
   "execution_count": 13,
   "metadata": {
    "collapsed": false
   },
   "outputs": [],
   "source": [
    "c = buildings['addr'].apply(lambda x: x == permits.loc[0,'addr'])"
   ]
  },
  {
   "cell_type": "code",
   "execution_count": 14,
   "metadata": {
    "collapsed": false
   },
   "outputs": [
    {
     "data": {
      "text/html": [
       "<div>\n",
       "<table border=\"1\" class=\"dataframe\">\n",
       "  <thead>\n",
       "    <tr style=\"text-align: right;\">\n",
       "      <th></th>\n",
       "      <th>index</th>\n",
       "      <th>building_id</th>\n",
       "      <th>lon</th>\n",
       "      <th>lat</th>\n",
       "      <th>llcrnrlon</th>\n",
       "      <th>llcrnrlat</th>\n",
       "      <th>urcrnrlon</th>\n",
       "      <th>urcrnrlat</th>\n",
       "      <th>addr</th>\n",
       "      <th>PARCELNO</th>\n",
       "      <th>length</th>\n",
       "      <th>width</th>\n",
       "    </tr>\n",
       "  </thead>\n",
       "  <tbody>\n",
       "    <tr>\n",
       "      <th>261994</th>\n",
       "      <td>261995</td>\n",
       "      <td>261994</td>\n",
       "      <td>-82.947708</td>\n",
       "      <td>42.393997</td>\n",
       "      <td>-82.947911</td>\n",
       "      <td>42.393874</td>\n",
       "      <td>-82.947455</td>\n",
       "      <td>42.394124</td>\n",
       "      <td>4331 barham</td>\n",
       "      <td>21065525-6</td>\n",
       "      <td>0.000456</td>\n",
       "      <td>0.00025</td>\n",
       "    </tr>\n",
       "  </tbody>\n",
       "</table>\n",
       "</div>"
      ],
      "text/plain": [
       "         index  building_id        lon        lat  llcrnrlon  llcrnrlat  \\\n",
       "261994  261995       261994 -82.947708  42.393997 -82.947911  42.393874   \n",
       "\n",
       "        urcrnrlon  urcrnrlat         addr    PARCELNO    length    width  \n",
       "261994 -82.947455  42.394124  4331 barham  21065525-6  0.000456  0.00025  "
      ]
     },
     "execution_count": 14,
     "metadata": {},
     "output_type": "execute_result"
    }
   ],
   "source": [
    "buildings[c]"
   ]
  },
  {
   "cell_type": "markdown",
   "metadata": {},
   "source": [
    "This does not match exactly with the coordinate of the same building in our permit.csv file from the course"
   ]
  },
  {
   "cell_type": "markdown",
   "metadata": {},
   "source": [
    "__Taking the coordinate from course data files, and assign the buildings with the average dimension taken from real world data:__"
   ]
  },
  {
   "cell_type": "code",
   "execution_count": 15,
   "metadata": {
    "collapsed": true
   },
   "outputs": [],
   "source": [
    "length = 0.000411\n",
    "width = 0.000204"
   ]
  },
  {
   "cell_type": "markdown",
   "metadata": {},
   "source": [
    "# Step 1: Building List"
   ]
  },
  {
   "cell_type": "markdown",
   "metadata": {},
   "source": [
    "## Collecting instances from 311 calls, crimes, and blight violations\n",
    "\n",
    "Data already cleaned by [this notebook](./Cleaning_data.ipynb)\n",
    "The collection of data was saved at __../data/events.csv__"
   ]
  },
  {
   "cell_type": "code",
   "execution_count": 16,
   "metadata": {
    "collapsed": true
   },
   "outputs": [],
   "source": [
    "data_events = pd.read_csv('../data/events.csv')"
   ]
  },
  {
   "cell_type": "code",
   "execution_count": 18,
   "metadata": {
    "collapsed": false
   },
   "outputs": [],
   "source": [
    "data_events.sort_values(by='addr',inplace=True)"
   ]
  },
  {
   "cell_type": "code",
   "execution_count": 21,
   "metadata": {
    "collapsed": false
   },
   "outputs": [
    {
     "data": {
      "text/html": [
       "<div>\n",
       "<table border=\"1\" class=\"dataframe\">\n",
       "  <thead>\n",
       "    <tr style=\"text-align: right;\">\n",
       "      <th></th>\n",
       "      <th>event_id</th>\n",
       "      <th>lon</th>\n",
       "      <th>lat</th>\n",
       "      <th>addr</th>\n",
       "      <th>type</th>\n",
       "    </tr>\n",
       "  </thead>\n",
       "  <tbody>\n",
       "    <tr>\n",
       "      <th>2778</th>\n",
       "      <td>2778</td>\n",
       "      <td>-83.041618</td>\n",
       "      <td>42.408738</td>\n",
       "      <td>5949 casmere st</td>\n",
       "      <td>1</td>\n",
       "    </tr>\n",
       "    <tr>\n",
       "      <th>919</th>\n",
       "      <td>919</td>\n",
       "      <td>-83.175329</td>\n",
       "      <td>42.358054</td>\n",
       "      <td>8641 littlefield</td>\n",
       "      <td>1</td>\n",
       "    </tr>\n",
       "    <tr>\n",
       "      <th>12722</th>\n",
       "      <td>12722</td>\n",
       "      <td>-83.137666</td>\n",
       "      <td>42.338734</td>\n",
       "      <td>wagner</td>\n",
       "      <td>1</td>\n",
       "    </tr>\n",
       "    <tr>\n",
       "      <th>372868</th>\n",
       "      <td>372868</td>\n",
       "      <td>-83.216326</td>\n",
       "      <td>42.369786</td>\n",
       "      <td>0 10th</td>\n",
       "      <td>3</td>\n",
       "    </tr>\n",
       "    <tr>\n",
       "      <th>372312</th>\n",
       "      <td>372312</td>\n",
       "      <td>-83.216326</td>\n",
       "      <td>42.369786</td>\n",
       "      <td>0 10th</td>\n",
       "      <td>3</td>\n",
       "    </tr>\n",
       "    <tr>\n",
       "      <th>345447</th>\n",
       "      <td>345447</td>\n",
       "      <td>-83.216326</td>\n",
       "      <td>42.369786</td>\n",
       "      <td>0 10th</td>\n",
       "      <td>3</td>\n",
       "    </tr>\n",
       "    <tr>\n",
       "      <th>372311</th>\n",
       "      <td>372311</td>\n",
       "      <td>-83.216326</td>\n",
       "      <td>42.369786</td>\n",
       "      <td>0 10th</td>\n",
       "      <td>3</td>\n",
       "    </tr>\n",
       "    <tr>\n",
       "      <th>372887</th>\n",
       "      <td>372887</td>\n",
       "      <td>-83.216326</td>\n",
       "      <td>42.369786</td>\n",
       "      <td>0 10th</td>\n",
       "      <td>3</td>\n",
       "    </tr>\n",
       "    <tr>\n",
       "      <th>345451</th>\n",
       "      <td>345451</td>\n",
       "      <td>-83.216326</td>\n",
       "      <td>42.369786</td>\n",
       "      <td>0 10th</td>\n",
       "      <td>3</td>\n",
       "    </tr>\n",
       "    <tr>\n",
       "      <th>377671</th>\n",
       "      <td>377671</td>\n",
       "      <td>-83.216326</td>\n",
       "      <td>42.369786</td>\n",
       "      <td>0 10th</td>\n",
       "      <td>3</td>\n",
       "    </tr>\n",
       "  </tbody>\n",
       "</table>\n",
       "</div>"
      ],
      "text/plain": [
       "        event_id        lon        lat               addr  type\n",
       "2778        2778 -83.041618  42.408738    5949 casmere st     1\n",
       "919          919 -83.175329  42.358054   8641 littlefield     1\n",
       "12722      12722 -83.137666  42.338734             wagner     1\n",
       "372868    372868 -83.216326  42.369786             0 10th     3\n",
       "372312    372312 -83.216326  42.369786             0 10th     3\n",
       "345447    345447 -83.216326  42.369786             0 10th     3\n",
       "372311    372311 -83.216326  42.369786             0 10th     3\n",
       "372887    372887 -83.216326  42.369786             0 10th     3\n",
       "345451    345451 -83.216326  42.369786             0 10th     3\n",
       "377671    377671 -83.216326  42.369786             0 10th     3"
      ]
     },
     "execution_count": 21,
     "metadata": {},
     "output_type": "execute_result"
    }
   ],
   "source": [
    "data_events.head(10)"
   ]
  },
  {
   "cell_type": "code",
   "execution_count": 129,
   "metadata": {
    "collapsed": false
   },
   "outputs": [],
   "source": [
    "events_grouped = data_events.groupby(by=['addr'], axis=0)"
   ]
  },
  {
   "cell_type": "code",
   "execution_count": 152,
   "metadata": {
    "collapsed": false
   },
   "outputs": [],
   "source": [
    "events_grouped_list = {'addr': [], 'lon': [], 'lat': [], 'event_id_list': []}\n",
    "\n",
    "unknown_address = []\n",
    "\n",
    "epsilon = 1.0e-5 # 1/40 of median length of a building or 1/20 of median width of a building\n",
    "\n",
    "def similar_vals(lst, epsilon=1.0e-5):\n",
    "    '''determine if the lst contains almost identical values. If it does, return median value.\n",
    "    Otherwise return -9999'''\n",
    "    if len(lst) == 1:\n",
    "        return lst[0]\n",
    "    \n",
    "    avg_val = np.median(lst)\n",
    "    notSimilar = False\n",
    "    for val in lst:\n",
    "        if abs(val-avg_val) > epsilon:\n",
    "            notSimilar=True\n",
    "            break\n",
    "    if notSimilar:\n",
    "        return -9999\n",
    "    else:\n",
    "        return avg_val"
   ]
  },
  {
   "cell_type": "code",
   "execution_count": null,
   "metadata": {
    "collapsed": false
   },
   "outputs": [],
   "source": [
    "for a_group in events_grouped:\n",
    "    address, entry = a_group\n",
    "    event_id_list = entry['event_id'].values.tolist()\n",
    "    lon = entry['lon'].drop_duplicates().values.tolist()\n",
    "    lat = entry['lat'].drop_duplicates().values.tolist()\n",
    "    \n",
    "    if len(lon) == 1:\n",
    "        lon = lon[0] \n",
    "    else:\n",
    "        effect_lon = similar_vals(lon)\n",
    "        if effect_lon < -1000:\n",
    "            unknown_address.append(entry)\n",
    "            continue\n",
    "        lon = effect_lon\n",
    "        \n",
    "    if (len(lat) == 1):\n",
    "        lat = lat[0]\n",
    "    else:\n",
    "        effect_lat = similar_vals(lat)\n",
    "        if effect_lat < -1000:\n",
    "            unknown_address.append(entry)\n",
    "            continue\n",
    "        lat = effect_lat\n",
    "        \n",
    "        \n",
    "    if len(events_grouped_list['addr']) != 0:\n",
    "        # check if previous address is actually the same\n",
    "        prev_lon = events_grouped_list['lon'][-1]\n",
    "        prev_lat = events_grouped_list['lat'][-1]\n",
    "        if (abs(lon-prev_lon) < epsilon) and (abs(lat-prev_lat) < epsilon):\n",
    "            events_grouped_list['event_id_list'][-1] = events_grouped_list['event_id_list'][-1] \\\n",
    "                                                            + event_id_list\n",
    "        else:\n",
    "            events_grouped_list['addr'].append(address)\n",
    "            events_grouped_list['lon'].append(lon)\n",
    "            events_grouped_list['lat'].append(lat)\n",
    "            events_grouped_list['event_id_list'].append(event_id_list)\n",
    "    else:\n",
    "        events_grouped_list['addr'].append(address)\n",
    "        events_grouped_list['lon'].append(lon)\n",
    "        events_grouped_list['lat'].append(lat)\n",
    "        events_grouped_list['event_id_list'].append(event_id_list)\n",
    "\n",
    "    \n",
    "buildings = pd.DataFrame(events_grouped_list)"
   ]
  },
  {
   "cell_type": "code",
   "execution_count": null,
   "metadata": {
    "collapsed": false
   },
   "outputs": [],
   "source": [
    "len(unknown_address)"
   ]
  },
  {
   "cell_type": "code",
   "execution_count": null,
   "metadata": {
    "collapsed": false
   },
   "outputs": [],
   "source": [
    "buildings.shape"
   ]
  },
  {
   "cell_type": "code",
   "execution_count": null,
   "metadata": {
    "collapsed": false
   },
   "outputs": [],
   "source": [
    "buildings.head(10)"
   ]
  },
  {
   "cell_type": "code",
   "execution_count": null,
   "metadata": {
    "collapsed": true
   },
   "outputs": [],
   "source": []
  }
 ],
 "metadata": {
  "kernelspec": {
   "display_name": "Python 3",
   "language": "python",
   "name": "python3"
  },
  "language_info": {
   "codemirror_mode": {
    "name": "ipython",
    "version": 3
   },
   "file_extension": ".py",
   "mimetype": "text/x-python",
   "name": "python",
   "nbconvert_exporter": "python",
   "pygments_lexer": "ipython3",
   "version": "3.5.1"
  }
 },
 "nbformat": 4,
 "nbformat_minor": 0
}
