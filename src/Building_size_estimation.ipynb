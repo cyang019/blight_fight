{
 "cells": [
  {
   "cell_type": "markdown",
   "metadata": {},
   "source": [
    "## Step 0: Estimating Building Sizes\n",
    "\n",
    "Real world building list can be generated using __parcel map__ shapefile downloaded from [data.detroitmi.gov](https://data.detroitmi.gov/Property-Parcels/Parcel-Map/fxkw-udwf/data) by clicking the '_export_' button near upper right corner of the screen, and then select '_CSV_' option.\n",
    "\n",
    "Each valid row contains a multipolygon constituted by a list of coordinates. From this information, we can construct a rectangle using lowerleft corner and upperright corner derived from the polygon. Each rectangle would then represent a building.\n",
    "\n",
    "__Notes__:\n",
    "+  The data files given from the course is slightly different from the posted coordiates at data.detroitmi.gov. (This is __The Right Thing__ since it protects privacy. However, this also means that we can not use the coordiates directly from website. Instead, one has to estimate building dimensions based solely on the given data from course materials.\n",
    "+  shapefile python documentation can be found [here](https://pypi.python.org/pypi/pyshp)\n",
    "+  Detroit parcel map shapefile can be cleaned with the help of this script (['test_valid_shp.py'](./test_valid_shp.py)).\n",
    "+  After cleaning, bboxes was extracted using script ['define_buildings.py'](./define_buildings.py) with some functions defined in ['bbox.py'](./bbox.py). The generated building data was stored as a .csv file located at '../data/buildings.csv' \n",
    "+  Visualization of the boxes was realized by script ['draw_bboxes.py'](./draw_bboxes.py). [Basemap](http://basemaptutorial.readthedocs.io) library was used for this purpose."
   ]
  },
  {
   "cell_type": "markdown",
   "metadata": {},
   "source": [
    "## Generating data from PARCELS.csv for building info\n",
    "\n",
    "One can in principle assume a grid to represent buildings. However, there are two problems with this approach:\n",
    "1.  buildings can be of very different sizes.\n",
    "2.  the density of buildings are not uniform.\n",
    "\n",
    "Since we have access to building info from [data.detroitmi.gov](https://data.detroitmi.gov/Property-Parcels/Parcel-Map/fxkw-udwf/data). The real world building info is extracted from that file in combination with the provided .csv files from the course to provide a more meaningful analysis."
   ]
  },
  {
   "cell_type": "code",
   "execution_count": 161,
   "metadata": {
    "collapsed": true
   },
   "outputs": [],
   "source": [
    "import numpy as np\n",
    "import pandas as pd"
   ]
  },
  {
   "cell_type": "code",
   "execution_count": 162,
   "metadata": {
    "collapsed": false
   },
   "outputs": [
    {
     "name": "stderr",
     "output_type": "stream",
     "text": [
      "/usr/lib/python3.5/site-packages/IPython/core/interactiveshell.py:2705: DtypeWarning: Columns (12,47,50,51) have mixed types. Specify dtype option on import or set low_memory=False.\n",
      "  interactivity=interactivity, compiler=compiler, result=result)\n"
     ]
    }
   ],
   "source": [
    "parcels = pd.read_csv(\"../data/Parcel_Map/PARCELS.csv\")"
   ]
  },
  {
   "cell_type": "code",
   "execution_count": 163,
   "metadata": {
    "collapsed": false
   },
   "outputs": [
    {
     "data": {
      "text/plain": [
       "Index(['the_geom', 'OBJECTID', 'Shape_STAr', 'PARCELNO', 'Shape_STLe', 'WARD',\n",
       "       'DISTRICT', 'ECF', 'PROPADDR', 'PROPNO', 'PROPDIR', 'PROPSTR',\n",
       "       'PROPZIP', 'TAXPAYER1', 'TAXPAYER2', 'TAXADDR', 'TAXCITY', 'TAXSTATE',\n",
       "       'PREVPCLASS', 'TAXZIP', 'PROPCLASS', 'PROPSTATUS', 'TAXSTATUS',\n",
       "       'PREVTSTATU', 'TOTALSQFT', 'TOTALACREA', 'FRONTAGE', 'DEPTH', 'USECODE',\n",
       "       'HOMESTEAD', 'NEZ', 'CIBFLAREA', 'CIBBLDGNO', 'CIBOCC', 'CIBYRBUILT',\n",
       "       'RESFLAREA', 'RESBLDGNO', 'RESOCC', 'RESSTYLE', 'RESYRBUILT',\n",
       "       'ISIMPROVED', 'SALEPRICE', 'SALEDATE', 'AV', 'TV', 'SEV', 'LANDVALUE',\n",
       "       'LANDMAP', 'XSTRNAME1', 'XSTRNAME2', 'RELATED', 'AKA', 'SUBDIVISIO',\n",
       "       'SPECACT', 'LEGAL', 'RP'],\n",
       "      dtype='object')"
      ]
     },
     "execution_count": 163,
     "metadata": {},
     "output_type": "execute_result"
    }
   ],
   "source": [
    "parcels.columns"
   ]
  },
  {
   "cell_type": "code",
   "execution_count": 164,
   "metadata": {
    "collapsed": false
   },
   "outputs": [
    {
     "name": "stdout",
     "output_type": "stream",
     "text": [
      "original number of parcels: 384675\n"
     ]
    }
   ],
   "source": [
    "parcels = parcels[['the_geom', 'PARCELNO','PROPADDR']]\n",
    "print(\"original number of parcels: %d\" % parcels.shape[0])"
   ]
  },
  {
   "cell_type": "code",
   "execution_count": 165,
   "metadata": {
    "collapsed": false
   },
   "outputs": [
    {
     "name": "stdout",
     "output_type": "stream",
     "text": [
      "after dropna: 384597\n"
     ]
    }
   ],
   "source": [
    "parcels.dropna(axis=0,inplace=True)\n",
    "print(\"after dropna: %d\" % parcels.shape[0])"
   ]
  },
  {
   "cell_type": "code",
   "execution_count": 166,
   "metadata": {
    "collapsed": false
   },
   "outputs": [
    {
     "data": {
      "text/plain": [
       "'MULTIPOLYGON (((-83.04165895478116 42.329554868661866, -83.03929195571008 42.33057986836967, -83.03912395576653 42.33026786788393, -83.03901095566742 42.33005586809884, -83.03867595539081 42.329624868498854, -83.03841695545209 42.32929186848, -83.03804795627754 42.32881686840838, -83.0379439556402 42.32868386847111, -83.03834395568987 42.32849886867042, -83.0402839555524 42.327599868893444, -83.04063795566806 42.328051869036344, -83.04085495543352 42.32832886835788, -83.04083595526853 42.32833686885066, -83.04087895524218 42.32839186853662, -83.04089995520081 42.328385868700984, -83.04099495573118 42.32850586865732, -83.0409719547512 42.32851186854012, -83.04116295560775 42.328757868534744, -83.04159295493145 42.32929086810708, -83.04165895478116 42.329554868661866)))'"
      ]
     },
     "execution_count": 166,
     "metadata": {},
     "output_type": "execute_result"
    }
   ],
   "source": [
    "parcels.iloc[0,0]"
   ]
  },
  {
   "cell_type": "markdown",
   "metadata": {},
   "source": [
    "First column ('the\\_geom') contains coordinates forming a polygon. For simplicity, we can derive a rectangule with lower left corner and upper right corner to represent the area."
   ]
  },
  {
   "cell_type": "code",
   "execution_count": 167,
   "metadata": {
    "collapsed": true
   },
   "outputs": [],
   "source": [
    "parcels.reset_index(inplace=True)"
   ]
  },
  {
   "cell_type": "code",
   "execution_count": 168,
   "metadata": {
    "collapsed": false
   },
   "outputs": [],
   "source": [
    "geoms = parcels['the_geom'].astype(str).apply(lambda x: x.split())\n",
    "geoms = geoms.apply(lambda x: x[1:])\n",
    "geoms = geoms.apply(lambda x: [x[0].lstrip('[').lstrip('(')]+x[1:-1]+[x[-1].rstrip(']').rstrip(')')])"
   ]
  },
  {
   "cell_type": "code",
   "execution_count": 169,
   "metadata": {
    "collapsed": false
   },
   "outputs": [],
   "source": [
    "def extract_lons(list_of_geom):\n",
    "    '''select longitudes from a list of multipolygon'''\n",
    "    np_list_of_geom = np.array(list_of_geom)\n",
    "    np_lons = np_list_of_geom[::2]\n",
    "    if (not np_lons.size):\n",
    "        return []\n",
    "    np_lons = np.char.lstrip(np_lons,'(')\n",
    "    np_lons = np.char.replace(np_lons,'EMPTY','Nan')\n",
    "    np_lons = np_lons.astype(float)\n",
    "    return np_lons\n",
    "\n",
    "def extract_lats(list_of_geom):\n",
    "    '''select latitudes from a list of multipolygon'''\n",
    "    np_list_of_geom = np.array(list_of_geom)\n",
    "    np_lats = np_list_of_geom[1::2]\n",
    "    \n",
    "    if (not np_lats.size):\n",
    "        return []\n",
    "    np_lats = np.char.rstrip(np_lats,',')\n",
    "    np_lats = np.char.rstrip(np_lats,')')\n",
    "    np_lats = np.char.replace(np_lats,'EMPTY','Nan')\n",
    "    np_lats = np_lats.astype(float)\n",
    "    return np_lats\n",
    "        "
   ]
  },
  {
   "cell_type": "code",
   "execution_count": 170,
   "metadata": {
    "collapsed": false
   },
   "outputs": [],
   "source": [
    "parcels['lons'] = geoms.apply(lambda x: extract_lons(x))\n",
    "parcels['lats'] = geoms.apply(lambda x: extract_lats(x))"
   ]
  },
  {
   "cell_type": "code",
   "execution_count": 171,
   "metadata": {
    "collapsed": false
   },
   "outputs": [],
   "source": [
    "parcels['llcrnrlon'] = parcels['lons'].apply(lambda x: min(x))\n",
    "parcels['llcrnrlat'] = parcels['lats'].apply(lambda x: min(x))\n",
    "parcels['urcrnrlon'] = parcels['lons'].apply(lambda x: max(x))\n",
    "parcels['urcrnrlat'] = parcels['lats'].apply(lambda x: max(x))\n",
    "parcels['lon'] = parcels['lons'].apply(lambda x: x.mean()) # center of rectangle\n",
    "parcels['lat'] = parcels['lats'].apply(lambda x: x.mean()) # center of rectangle"
   ]
  },
  {
   "cell_type": "code",
   "execution_count": 172,
   "metadata": {
    "collapsed": false
   },
   "outputs": [],
   "source": [
    "parcels['addr'] = parcels['PROPADDR'].apply(lambda x: x.lower())"
   ]
  },
  {
   "cell_type": "code",
   "execution_count": 173,
   "metadata": {
    "collapsed": false
   },
   "outputs": [],
   "source": [
    "from matplotlib import pyplot as plt\n",
    "%matplotlib inline"
   ]
  },
  {
   "cell_type": "code",
   "execution_count": 210,
   "metadata": {
    "collapsed": false
   },
   "outputs": [
    {
     "data": {
      "image/png": "[encoded data removed]",
      "text/plain": [
       "<matplotlib.figure.Figure at 0x7fcae7e0a358>"
      ]
     },
     "metadata": {},
     "output_type": "display_data"
    }
   ],
   "source": [
    "fig, ax = plt.subplots(1)\n",
    "ax.scatter(parcels['lon'], parcels['lat'], s = 2, color='darkblue', alpha = 0.1)\n",
    "ax.set_xlabel('longitude')\n",
    "ax.set_xlim(min(parcels['lon'])-0.01,max(parcels['lon']+0.01))\n",
    "ax.set_ylabel('latitude')\n",
    "ax.set_ylim(min(parcels['lat'])-0.01,max(parcels['lat']+0.01))\n",
    "plt.title('Distribution of Buildings')\n",
    "plt.show()"
   ]
  },
  {
   "cell_type": "code",
   "execution_count": 175,
   "metadata": {
    "collapsed": true
   },
   "outputs": [],
   "source": [
    "parcels['building_id'] = np.arange(0,parcels.shape[0])"
   ]
  },
  {
   "cell_type": "code",
   "execution_count": 176,
   "metadata": {
    "collapsed": true
   },
   "outputs": [],
   "source": [
    "parcels = parcels[['building_id','lon','lat','llcrnrlon','llcrnrlat','urcrnrlon','urcrnrlat','addr','PARCELNO']]"
   ]
  },
  {
   "cell_type": "code",
   "execution_count": 177,
   "metadata": {
    "collapsed": false
   },
   "outputs": [],
   "source": [
    "parcels.reset_index(inplace=True)"
   ]
  },
  {
   "cell_type": "code",
   "execution_count": 178,
   "metadata": {
    "collapsed": false
   },
   "outputs": [],
   "source": [
    "parcels.drop(['index'],axis=1,inplace=True)"
   ]
  },
  {
   "cell_type": "code",
   "execution_count": 179,
   "metadata": {
    "collapsed": false
   },
   "outputs": [
    {
     "data": {
      "text/html": [
       "<div>\n",
       "<table border=\"1\" class=\"dataframe\">\n",
       "  <thead>\n",
       "    <tr style=\"text-align: right;\">\n",
       "      <th></th>\n",
       "      <th>building_id</th>\n",
       "      <th>lon</th>\n",
       "      <th>lat</th>\n",
       "      <th>llcrnrlon</th>\n",
       "      <th>llcrnrlat</th>\n",
       "      <th>urcrnrlon</th>\n",
       "      <th>urcrnrlat</th>\n",
       "      <th>addr</th>\n",
       "      <th>PARCELNO</th>\n",
       "    </tr>\n",
       "  </thead>\n",
       "  <tbody>\n",
       "    <tr>\n",
       "      <th>384592</th>\n",
       "      <td>384592</td>\n",
       "      <td>-83.261211</td>\n",
       "      <td>42.365590</td>\n",
       "      <td>-83.261416</td>\n",
       "      <td>42.365532</td>\n",
       "      <td>-83.260955</td>\n",
       "      <td>42.365639</td>\n",
       "      <td>14150 w outer drive</td>\n",
       "      <td>22126044.</td>\n",
       "    </tr>\n",
       "    <tr>\n",
       "      <th>384593</th>\n",
       "      <td>384593</td>\n",
       "      <td>-83.261208</td>\n",
       "      <td>42.365494</td>\n",
       "      <td>-83.261413</td>\n",
       "      <td>42.365436</td>\n",
       "      <td>-83.260952</td>\n",
       "      <td>42.365543</td>\n",
       "      <td>14158 w outer drive</td>\n",
       "      <td>22126045.</td>\n",
       "    </tr>\n",
       "    <tr>\n",
       "      <th>384594</th>\n",
       "      <td>384594</td>\n",
       "      <td>-83.261225</td>\n",
       "      <td>42.365397</td>\n",
       "      <td>-83.261409</td>\n",
       "      <td>42.365340</td>\n",
       "      <td>-83.260948</td>\n",
       "      <td>42.365447</td>\n",
       "      <td>14164 w outer drive</td>\n",
       "      <td>22126046.</td>\n",
       "    </tr>\n",
       "    <tr>\n",
       "      <th>384595</th>\n",
       "      <td>384595</td>\n",
       "      <td>-83.261219</td>\n",
       "      <td>42.365229</td>\n",
       "      <td>-83.261406</td>\n",
       "      <td>42.365052</td>\n",
       "      <td>-83.260937</td>\n",
       "      <td>42.365351</td>\n",
       "      <td>14180 w outer drive</td>\n",
       "      <td>22126047-9</td>\n",
       "    </tr>\n",
       "    <tr>\n",
       "      <th>384596</th>\n",
       "      <td>384596</td>\n",
       "      <td>-83.261216</td>\n",
       "      <td>42.364934</td>\n",
       "      <td>-83.261396</td>\n",
       "      <td>42.364815</td>\n",
       "      <td>-83.260928</td>\n",
       "      <td>42.365063</td>\n",
       "      <td>14200 w outer drive</td>\n",
       "      <td>22126050-1</td>\n",
       "    </tr>\n",
       "  </tbody>\n",
       "</table>\n",
       "</div>"
      ],
      "text/plain": [
       "        building_id        lon        lat  llcrnrlon  llcrnrlat  urcrnrlon  \\\n",
       "384592       384592 -83.261211  42.365590 -83.261416  42.365532 -83.260955   \n",
       "384593       384593 -83.261208  42.365494 -83.261413  42.365436 -83.260952   \n",
       "384594       384594 -83.261225  42.365397 -83.261409  42.365340 -83.260948   \n",
       "384595       384595 -83.261219  42.365229 -83.261406  42.365052 -83.260937   \n",
       "384596       384596 -83.261216  42.364934 -83.261396  42.364815 -83.260928   \n",
       "\n",
       "        urcrnrlat                 addr    PARCELNO  \n",
       "384592  42.365639  14150 w outer drive   22126044.  \n",
       "384593  42.365543  14158 w outer drive   22126045.  \n",
       "384594  42.365447  14164 w outer drive   22126046.  \n",
       "384595  42.365351  14180 w outer drive  22126047-9  \n",
       "384596  42.365063  14200 w outer drive  22126050-1  "
      ]
     },
     "execution_count": 179,
     "metadata": {},
     "output_type": "execute_result"
    }
   ],
   "source": [
    "parcels.tail()"
   ]
  },
  {
   "cell_type": "code",
   "execution_count": 180,
   "metadata": {
    "collapsed": true
   },
   "outputs": [],
   "source": [
    "parcels.to_csv('../data/buildings.csv', index=False)"
   ]
  },
  {
   "cell_type": "markdown",
   "metadata": {},
   "source": [
    "## Visualizing buildings"
   ]
  },
  {
   "cell_type": "code",
   "execution_count": 181,
   "metadata": {
    "collapsed": true
   },
   "outputs": [],
   "source": [
    "parcels = pd.read_csv('../data/buildings.csv')\n",
    "bboxes = parcels[['llcrnrlon','llcrnrlat','urcrnrlon','urcrnrlat']]\n",
    "bboxes = bboxes.as_matrix()"
   ]
  },
  {
   "cell_type": "code",
   "execution_count": 208,
   "metadata": {
    "collapsed": false
   },
   "outputs": [],
   "source": [
    "from bbox import draw_screen_bbox    # self-defined helper function"
   ]
  },
  {
   "cell_type": "markdown",
   "metadata": {},
   "source": [
    "A subset of real buildings, just to show:\n",
    "+  There are variations in the density of buildings.\n",
    "+  There are overlap between buildings, especially when they were constructed along tilted axis w.r.t. our coordinates."
   ]
  },
  {
   "cell_type": "code",
   "execution_count": 209,
   "metadata": {
    "collapsed": false
   },
   "outputs": [
    {
     "data": {
      "image/png": "[encoded data removed]",
      "text/plain": [
       "<matplotlib.figure.Figure at 0x7fca6bd6d080>"
      ]
     },
     "metadata": {},
     "output_type": "display_data"
    }
   ],
   "source": [
    "fig = plt.figure(figsize=(8,6))\n",
    "for box in bboxes[0:1000]:\n",
    "    draw_screen_bbox(box, fig)\n",
    "    \n",
    "plt.xlim(-83.08,-83.03)\n",
    "plt.ylim(42.32,42.375)\n",
    "    \n",
    "plt.show()"
   ]
  },
  {
   "cell_type": "code",
   "execution_count": null,
   "metadata": {
    "collapsed": true
   },
   "outputs": [],
   "source": []
  }
 ],
 "metadata": {
  "kernelspec": {
   "display_name": "Python 3",
   "language": "python",
   "name": "python3"
  },
  "language_info": {
   "codemirror_mode": {
    "name": "ipython",
    "version": 3
   },
   "file_extension": ".py",
   "mimetype": "text/x-python",
   "name": "python",
   "nbconvert_exporter": "python",
   "pygments_lexer": "ipython3",
   "version": "3.5.1"
  }
 },
 "nbformat": 4,
 "nbformat_minor": 0
}
