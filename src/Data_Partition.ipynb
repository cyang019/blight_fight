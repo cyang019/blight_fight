{
 "cells": [
  {
   "cell_type": "markdown",
   "metadata": {},
   "source": [
    "## Partition buildings into train and test"
   ]
  },
  {
   "cell_type": "code",
   "execution_count": 1,
   "metadata": {
    "collapsed": true
   },
   "outputs": [],
   "source": [
    "import pandas as pd\n",
    "import numpy as np"
   ]
  },
  {
   "cell_type": "code",
   "execution_count": 2,
   "metadata": {
    "collapsed": true
   },
   "outputs": [],
   "source": [
    "buildings = pd.read_csv('../data/buildings.csv')"
   ]
  },
  {
   "cell_type": "code",
   "execution_count": 3,
   "metadata": {
    "collapsed": false
   },
   "outputs": [
    {
     "data": {
      "text/html": [
       "<div>\n",
       "<table border=\"1\" class=\"dataframe\">\n",
       "  <thead>\n",
       "    <tr style=\"text-align: right;\">\n",
       "      <th></th>\n",
       "      <th>addr</th>\n",
       "      <th>blighted</th>\n",
       "      <th>event_id_list</th>\n",
       "      <th>lat</th>\n",
       "      <th>lon</th>\n",
       "      <th>llcrnrlon</th>\n",
       "      <th>llcrnrlat</th>\n",
       "      <th>urcrnrlon</th>\n",
       "      <th>urcrnrlat</th>\n",
       "      <th>building_id</th>\n",
       "    </tr>\n",
       "  </thead>\n",
       "  <tbody>\n",
       "    <tr>\n",
       "      <th>0</th>\n",
       "      <td>13500 norborne</td>\n",
       "      <td>0</td>\n",
       "      <td>[138721]</td>\n",
       "      <td>42.3842</td>\n",
       "      <td>-83.2975</td>\n",
       "      <td>-83.297706</td>\n",
       "      <td>42.384098</td>\n",
       "      <td>-83.297294</td>\n",
       "      <td>42.384302</td>\n",
       "      <td>0</td>\n",
       "    </tr>\n",
       "    <tr>\n",
       "      <th>1</th>\n",
       "      <td>26200 mich ave inkster mi 48141</td>\n",
       "      <td>0</td>\n",
       "      <td>[116216]</td>\n",
       "      <td>42.2954</td>\n",
       "      <td>-83.2968</td>\n",
       "      <td>-83.297006</td>\n",
       "      <td>42.295298</td>\n",
       "      <td>-83.296594</td>\n",
       "      <td>42.295502</td>\n",
       "      <td>1</td>\n",
       "    </tr>\n",
       "    <tr>\n",
       "      <th>2</th>\n",
       "      <td>25800 elsinore</td>\n",
       "      <td>0</td>\n",
       "      <td>[70770]</td>\n",
       "      <td>42.3986</td>\n",
       "      <td>-83.2966</td>\n",
       "      <td>-83.296806</td>\n",
       "      <td>42.398498</td>\n",
       "      <td>-83.296394</td>\n",
       "      <td>42.398702</td>\n",
       "      <td>2</td>\n",
       "    </tr>\n",
       "    <tr>\n",
       "      <th>3</th>\n",
       "      <td>00000 mile/ beach daily</td>\n",
       "      <td>0</td>\n",
       "      <td>[20244]</td>\n",
       "      <td>42.3993</td>\n",
       "      <td>-83.2959</td>\n",
       "      <td>-83.296106</td>\n",
       "      <td>42.399198</td>\n",
       "      <td>-83.295694</td>\n",
       "      <td>42.399402</td>\n",
       "      <td>3</td>\n",
       "    </tr>\n",
       "    <tr>\n",
       "      <th>4</th>\n",
       "      <td>00 fellrath apartments</td>\n",
       "      <td>0</td>\n",
       "      <td>[109241]</td>\n",
       "      <td>42.2654</td>\n",
       "      <td>-83.2931</td>\n",
       "      <td>-83.293306</td>\n",
       "      <td>42.265298</td>\n",
       "      <td>-83.292894</td>\n",
       "      <td>42.265502</td>\n",
       "      <td>4</td>\n",
       "    </tr>\n",
       "  </tbody>\n",
       "</table>\n",
       "</div>"
      ],
      "text/plain": [
       "                              addr  blighted event_id_list      lat      lon  \\\n",
       "0                   13500 norborne         0      [138721]  42.3842 -83.2975   \n",
       "1  26200 mich ave inkster mi 48141         0      [116216]  42.2954 -83.2968   \n",
       "2                   25800 elsinore         0       [70770]  42.3986 -83.2966   \n",
       "3          00000 mile/ beach daily         0       [20244]  42.3993 -83.2959   \n",
       "4           00 fellrath apartments         0      [109241]  42.2654 -83.2931   \n",
       "\n",
       "   llcrnrlon  llcrnrlat  urcrnrlon  urcrnrlat  building_id  \n",
       "0 -83.297706  42.384098 -83.297294  42.384302            0  \n",
       "1 -83.297006  42.295298 -83.296594  42.295502            1  \n",
       "2 -83.296806  42.398498 -83.296394  42.398702            2  \n",
       "3 -83.296106  42.399198 -83.295694  42.399402            3  \n",
       "4 -83.293306  42.265298 -83.292894  42.265502            4  "
      ]
     },
     "execution_count": 3,
     "metadata": {},
     "output_type": "execute_result"
    }
   ],
   "source": [
    "buildings.head(5)"
   ]
  },
  {
   "cell_type": "code",
   "execution_count": 7,
   "metadata": {
    "collapsed": false
   },
   "outputs": [
    {
     "data": {
      "text/plain": [
       "0    128112\n",
       "1      2615\n",
       "Name: blighted, dtype: int64"
      ]
     },
     "execution_count": 7,
     "metadata": {},
     "output_type": "execute_result"
    }
   ],
   "source": [
    "buildings['blighted'].value_counts()"
   ]
  },
  {
   "cell_type": "markdown",
   "metadata": {},
   "source": [
    "### Choose 10% blighted and the same number of non-blighted buildings (without replacement) to construct a test data: \n",
    "Total 262 + 262 = 524 buildings"
   ]
  },
  {
   "cell_type": "code",
   "execution_count": 12,
   "metadata": {
    "collapsed": true
   },
   "outputs": [],
   "source": [
    "num = 262 # each"
   ]
  },
  {
   "cell_type": "code",
   "execution_count": 10,
   "metadata": {
    "collapsed": true
   },
   "outputs": [],
   "source": [
    "blighted_buildings = buildings[buildings['blighted']==1]\n",
    "nonblighted_buildings = buildings[buildings['blighted']==0]"
   ]
  },
  {
   "cell_type": "code",
   "execution_count": 25,
   "metadata": {
    "collapsed": true
   },
   "outputs": [],
   "source": [
    "test_index_b = np.random.choice(blighted_buildings.index, num, replace=False) #blighted\n",
    "test_index_nb = np.random.choice(nonblighted_buildings.index, num, replace=False) #nonblighted"
   ]
  },
  {
   "cell_type": "code",
   "execution_count": 26,
   "metadata": {
    "collapsed": false
   },
   "outputs": [],
   "source": [
    "test_blighted = blighted_buildings.loc[test_index_b,:]"
   ]
  },
  {
   "cell_type": "code",
   "execution_count": 27,
   "metadata": {
    "collapsed": false
   },
   "outputs": [],
   "source": [
    "test_nonblighted = nonblighted_buildings.loc[test_index_nb,:]"
   ]
  },
  {
   "cell_type": "code",
   "execution_count": 43,
   "metadata": {
    "collapsed": true
   },
   "outputs": [],
   "source": [
    "test_data = pd.concat([test_blighted.copy(), test_nonblighted.copy()])"
   ]
  },
  {
   "cell_type": "code",
   "execution_count": 44,
   "metadata": {
    "collapsed": false
   },
   "outputs": [],
   "source": [
    "test_data = test_data.sample(frac=1, replace=False).reset_index(drop=True)"
   ]
  },
  {
   "cell_type": "code",
   "execution_count": 45,
   "metadata": {
    "collapsed": false
   },
   "outputs": [],
   "source": [
    "test_keys = test_data.loc[:,['building_id','blighted']].copy()"
   ]
  },
  {
   "cell_type": "code",
   "execution_count": 47,
   "metadata": {
    "collapsed": false
   },
   "outputs": [],
   "source": [
    "test_data.drop('blighted',axis=1,inplace=True)"
   ]
  },
  {
   "cell_type": "code",
   "execution_count": 51,
   "metadata": {
    "collapsed": false
   },
   "outputs": [],
   "source": [
    "train_b = blighted_buildings[~blighted_buildings.index.isin(test_index_b)]\n",
    "train_nb = nonblighted_buildings[~nonblighted_buildings.index.isin(test_index_nb)]"
   ]
  },
  {
   "cell_type": "code",
   "execution_count": 52,
   "metadata": {
    "collapsed": false
   },
   "outputs": [],
   "source": [
    "train_data = pd.concat([train_b.copy(), train_nb.copy()])"
   ]
  },
  {
   "cell_type": "code",
   "execution_count": 53,
   "metadata": {
    "collapsed": true
   },
   "outputs": [],
   "source": [
    "train_data = train_data.sample(frac=1, replace=False).reset_index(drop=True)"
   ]
  },
  {
   "cell_type": "code",
   "execution_count": 55,
   "metadata": {
    "collapsed": false
   },
   "outputs": [],
   "source": [
    "# save files\n",
    "test_keys.to_csv('../data/test_keys.csv')\n",
    "test_data.to_csv('../data/test_data.csv')\n",
    "train_data.to_csv('../data/train_data.csv')"
   ]
  },
  {
   "cell_type": "code",
   "execution_count": null,
   "metadata": {
    "collapsed": true
   },
   "outputs": [],
   "source": []
  }
 ],
 "metadata": {
  "kernelspec": {
   "display_name": "Python 3",
   "language": "python",
   "name": "python3"
  },
  "language_info": {
   "codemirror_mode": {
    "name": "ipython",
    "version": 3
   },
   "file_extension": ".py",
   "mimetype": "text/x-python",
   "name": "python",
   "nbconvert_exporter": "python",
   "pygments_lexer": "ipython3",
   "version": "3.5.1"
  }
 },
 "nbformat": 4,
 "nbformat_minor": 0
}
