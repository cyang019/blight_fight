{
 "cells": [
  {
   "cell_type": "markdown",
   "metadata": {},
   "source": [
    "## Choose same number of blighted and not_blighted buildings"
   ]
  },
  {
   "cell_type": "code",
   "execution_count": 1,
   "metadata": {
    "collapsed": true
   },
   "outputs": [],
   "source": [
    "import pandas as pd\n",
    "import numpy as np"
   ]
  },
  {
   "cell_type": "code",
   "execution_count": 2,
   "metadata": {
    "collapsed": true
   },
   "outputs": [],
   "source": [
    "buildings = pd.read_csv('../data/buildings.csv')"
   ]
  },
  {
   "cell_type": "code",
   "execution_count": 3,
   "metadata": {
    "collapsed": false
   },
   "outputs": [
    {
     "data": {
      "text/html": [
       "<div>\n",
       "<table border=\"1\" class=\"dataframe\">\n",
       "  <thead>\n",
       "    <tr style=\"text-align: right;\">\n",
       "      <th></th>\n",
       "      <th>addr</th>\n",
       "      <th>blighted</th>\n",
       "      <th>event_id_list</th>\n",
       "      <th>lat</th>\n",
       "      <th>lon</th>\n",
       "      <th>llcrnrlon</th>\n",
       "      <th>llcrnrlat</th>\n",
       "      <th>urcrnrlon</th>\n",
       "      <th>urcrnrlat</th>\n",
       "      <th>building_id</th>\n",
       "    </tr>\n",
       "  </thead>\n",
       "  <tbody>\n",
       "    <tr>\n",
       "      <th>0</th>\n",
       "      <td>13500 norborne</td>\n",
       "      <td>0</td>\n",
       "      <td>[138721]</td>\n",
       "      <td>42.3842</td>\n",
       "      <td>-83.2975</td>\n",
       "      <td>-83.297706</td>\n",
       "      <td>42.384098</td>\n",
       "      <td>-83.297294</td>\n",
       "      <td>42.384302</td>\n",
       "      <td>0</td>\n",
       "    </tr>\n",
       "    <tr>\n",
       "      <th>1</th>\n",
       "      <td>26200 mich ave inkster mi 48141</td>\n",
       "      <td>0</td>\n",
       "      <td>[116216]</td>\n",
       "      <td>42.2954</td>\n",
       "      <td>-83.2968</td>\n",
       "      <td>-83.297006</td>\n",
       "      <td>42.295298</td>\n",
       "      <td>-83.296594</td>\n",
       "      <td>42.295502</td>\n",
       "      <td>1</td>\n",
       "    </tr>\n",
       "    <tr>\n",
       "      <th>2</th>\n",
       "      <td>25800 elsinore</td>\n",
       "      <td>0</td>\n",
       "      <td>[70770]</td>\n",
       "      <td>42.3986</td>\n",
       "      <td>-83.2966</td>\n",
       "      <td>-83.296806</td>\n",
       "      <td>42.398498</td>\n",
       "      <td>-83.296394</td>\n",
       "      <td>42.398702</td>\n",
       "      <td>2</td>\n",
       "    </tr>\n",
       "    <tr>\n",
       "      <th>3</th>\n",
       "      <td>00000 mile/ beach daily</td>\n",
       "      <td>0</td>\n",
       "      <td>[20244]</td>\n",
       "      <td>42.3993</td>\n",
       "      <td>-83.2959</td>\n",
       "      <td>-83.296106</td>\n",
       "      <td>42.399198</td>\n",
       "      <td>-83.295694</td>\n",
       "      <td>42.399402</td>\n",
       "      <td>3</td>\n",
       "    </tr>\n",
       "    <tr>\n",
       "      <th>4</th>\n",
       "      <td>00 fellrath apartments</td>\n",
       "      <td>0</td>\n",
       "      <td>[109241]</td>\n",
       "      <td>42.2654</td>\n",
       "      <td>-83.2931</td>\n",
       "      <td>-83.293306</td>\n",
       "      <td>42.265298</td>\n",
       "      <td>-83.292894</td>\n",
       "      <td>42.265502</td>\n",
       "      <td>4</td>\n",
       "    </tr>\n",
       "  </tbody>\n",
       "</table>\n",
       "</div>"
      ],
      "text/plain": [
       "                              addr  blighted event_id_list      lat      lon  \\\n",
       "0                   13500 norborne         0      [138721]  42.3842 -83.2975   \n",
       "1  26200 mich ave inkster mi 48141         0      [116216]  42.2954 -83.2968   \n",
       "2                   25800 elsinore         0       [70770]  42.3986 -83.2966   \n",
       "3          00000 mile/ beach daily         0       [20244]  42.3993 -83.2959   \n",
       "4           00 fellrath apartments         0      [109241]  42.2654 -83.2931   \n",
       "\n",
       "   llcrnrlon  llcrnrlat  urcrnrlon  urcrnrlat  building_id  \n",
       "0 -83.297706  42.384098 -83.297294  42.384302            0  \n",
       "1 -83.297006  42.295298 -83.296594  42.295502            1  \n",
       "2 -83.296806  42.398498 -83.296394  42.398702            2  \n",
       "3 -83.296106  42.399198 -83.295694  42.399402            3  \n",
       "4 -83.293306  42.265298 -83.292894  42.265502            4  "
      ]
     },
     "execution_count": 3,
     "metadata": {},
     "output_type": "execute_result"
    }
   ],
   "source": [
    "buildings.head(5)"
   ]
  },
  {
   "cell_type": "code",
   "execution_count": 4,
   "metadata": {
    "collapsed": false
   },
   "outputs": [
    {
     "data": {
      "text/plain": [
       "0    128112\n",
       "1      2615\n",
       "Name: blighted, dtype: int64"
      ]
     },
     "execution_count": 4,
     "metadata": {},
     "output_type": "execute_result"
    }
   ],
   "source": [
    "buildings['blighted'].value_counts()"
   ]
  },
  {
   "cell_type": "code",
   "execution_count": 7,
   "metadata": {
    "collapsed": true
   },
   "outputs": [],
   "source": [
    "blighted_buildings = buildings[buildings['blighted']==1]\n",
    "not_blighted_buildings = buildings[buildings['blighted']==0]"
   ]
  },
  {
   "cell_type": "code",
   "execution_count": 8,
   "metadata": {
    "collapsed": true
   },
   "outputs": [],
   "source": [
    "index_b = np.random.choice(blighted_buildings.index, blighted_buildings.shape[0], replace=False) #blighted\n",
    "index_nb = np.random.choice(not_blighted_buildings.index, blighted_buildings.shape[0], replace=False) #nonblighted"
   ]
  },
  {
   "cell_type": "code",
   "execution_count": 9,
   "metadata": {
    "collapsed": false
   },
   "outputs": [],
   "source": [
    "blighted = blighted_buildings.loc[index_b,:]"
   ]
  },
  {
   "cell_type": "code",
   "execution_count": 10,
   "metadata": {
    "collapsed": false
   },
   "outputs": [],
   "source": [
    "not_blighted = not_blighted_buildings.loc[index_nb,:]"
   ]
  },
  {
   "cell_type": "code",
   "execution_count": 11,
   "metadata": {
    "collapsed": true
   },
   "outputs": [],
   "source": [
    "balanced_data = pd.concat([blighted.copy(), not_blighted.copy()])"
   ]
  },
  {
   "cell_type": "code",
   "execution_count": 12,
   "metadata": {
    "collapsed": false
   },
   "outputs": [],
   "source": [
    "balanced_data = balanced_data.sample(frac=1, replace=False).reset_index(drop=True)"
   ]
  },
  {
   "cell_type": "code",
   "execution_count": 13,
   "metadata": {
    "collapsed": false
   },
   "outputs": [],
   "source": [
    "balanced_keys = balanced_data.loc[:,['building_id','blighted']].copy()"
   ]
  },
  {
   "cell_type": "code",
   "execution_count": 14,
   "metadata": {
    "collapsed": false
   },
   "outputs": [],
   "source": [
    "balanced_data.drop('blighted',axis=1,inplace=True)"
   ]
  },
  {
   "cell_type": "code",
   "execution_count": 15,
   "metadata": {
    "collapsed": false
   },
   "outputs": [],
   "source": [
    "# save files\n",
    "balanced_keys.to_csv('../data/balanced_keys.csv')\n",
    "balanced_data.to_csv('../data/balanced_data.csv')"
   ]
  },
  {
   "cell_type": "code",
   "execution_count": 16,
   "metadata": {
    "collapsed": false
   },
   "outputs": [
    {
     "data": {
      "text/plain": [
       "(5230, 9)"
      ]
     },
     "execution_count": 16,
     "metadata": {},
     "output_type": "execute_result"
    }
   ],
   "source": [
    "balanced_data.shape"
   ]
  },
  {
   "cell_type": "code",
   "execution_count": 17,
   "metadata": {
    "collapsed": false
   },
   "outputs": [
    {
     "data": {
      "text/html": [
       "<div>\n",
       "<table border=\"1\" class=\"dataframe\">\n",
       "  <thead>\n",
       "    <tr style=\"text-align: right;\">\n",
       "      <th></th>\n",
       "      <th>addr</th>\n",
       "      <th>event_id_list</th>\n",
       "      <th>lat</th>\n",
       "      <th>lon</th>\n",
       "      <th>llcrnrlon</th>\n",
       "      <th>llcrnrlat</th>\n",
       "      <th>urcrnrlon</th>\n",
       "      <th>urcrnrlat</th>\n",
       "      <th>building_id</th>\n",
       "    </tr>\n",
       "  </thead>\n",
       "  <tbody>\n",
       "    <tr>\n",
       "      <th>0</th>\n",
       "      <td>15360 tracey</td>\n",
       "      <td>[448971, 118987]</td>\n",
       "      <td>42.403010</td>\n",
       "      <td>-83.180173</td>\n",
       "      <td>-83.180379</td>\n",
       "      <td>42.402908</td>\n",
       "      <td>-83.179968</td>\n",
       "      <td>42.403112</td>\n",
       "      <td>38754</td>\n",
       "    </tr>\n",
       "    <tr>\n",
       "      <th>1</th>\n",
       "      <td>4817 chopin</td>\n",
       "      <td>[143959]</td>\n",
       "      <td>42.332660</td>\n",
       "      <td>-83.134467</td>\n",
       "      <td>-83.134672</td>\n",
       "      <td>42.332558</td>\n",
       "      <td>-83.134261</td>\n",
       "      <td>42.332762</td>\n",
       "      <td>60569</td>\n",
       "    </tr>\n",
       "    <tr>\n",
       "      <th>2</th>\n",
       "      <td>5300 wayburn st</td>\n",
       "      <td>[13405]</td>\n",
       "      <td>42.400448</td>\n",
       "      <td>-82.955224</td>\n",
       "      <td>-82.955430</td>\n",
       "      <td>42.400346</td>\n",
       "      <td>-82.955019</td>\n",
       "      <td>42.400550</td>\n",
       "      <td>121589</td>\n",
       "    </tr>\n",
       "    <tr>\n",
       "      <th>3</th>\n",
       "      <td>5960 tarnow</td>\n",
       "      <td>[448703, 127281]</td>\n",
       "      <td>42.340029</td>\n",
       "      <td>-83.140914</td>\n",
       "      <td>-83.141119</td>\n",
       "      <td>42.339927</td>\n",
       "      <td>-83.140708</td>\n",
       "      <td>42.340131</td>\n",
       "      <td>57068</td>\n",
       "    </tr>\n",
       "    <tr>\n",
       "      <th>4</th>\n",
       "      <td>19622 runyon</td>\n",
       "      <td>[450264]</td>\n",
       "      <td>42.438970</td>\n",
       "      <td>-83.006893</td>\n",
       "      <td>-83.007099</td>\n",
       "      <td>42.438868</td>\n",
       "      <td>-83.006688</td>\n",
       "      <td>42.439072</td>\n",
       "      <td>104186</td>\n",
       "    </tr>\n",
       "  </tbody>\n",
       "</table>\n",
       "</div>"
      ],
      "text/plain": [
       "              addr     event_id_list        lat        lon  llcrnrlon  \\\n",
       "0     15360 tracey  [448971, 118987]  42.403010 -83.180173 -83.180379   \n",
       "1      4817 chopin          [143959]  42.332660 -83.134467 -83.134672   \n",
       "2  5300 wayburn st           [13405]  42.400448 -82.955224 -82.955430   \n",
       "3      5960 tarnow  [448703, 127281]  42.340029 -83.140914 -83.141119   \n",
       "4     19622 runyon          [450264]  42.438970 -83.006893 -83.007099   \n",
       "\n",
       "   llcrnrlat  urcrnrlon  urcrnrlat  building_id  \n",
       "0  42.402908 -83.179968  42.403112        38754  \n",
       "1  42.332558 -83.134261  42.332762        60569  \n",
       "2  42.400346 -82.955019  42.400550       121589  \n",
       "3  42.339927 -83.140708  42.340131        57068  \n",
       "4  42.438868 -83.006688  42.439072       104186  "
      ]
     },
     "execution_count": 17,
     "metadata": {},
     "output_type": "execute_result"
    }
   ],
   "source": [
    "balanced_data.head(5)"
   ]
  },
  {
   "cell_type": "code",
   "execution_count": 18,
   "metadata": {
    "collapsed": false
   },
   "outputs": [
    {
     "data": {
      "text/plain": [
       "1    2615\n",
       "0    2615\n",
       "Name: blighted, dtype: int64"
      ]
     },
     "execution_count": 18,
     "metadata": {},
     "output_type": "execute_result"
    }
   ],
   "source": [
    "balanced_keys['blighted'].value_counts()"
   ]
  },
  {
   "cell_type": "code",
   "execution_count": null,
   "metadata": {
    "collapsed": true
   },
   "outputs": [],
   "source": []
  }
 ],
 "metadata": {
  "kernelspec": {
   "display_name": "Python 3",
   "language": "python",
   "name": "python3"
  },
  "language_info": {
   "codemirror_mode": {
    "name": "ipython",
    "version": 3
   },
   "file_extension": ".py",
   "mimetype": "text/x-python",
   "name": "python",
   "nbconvert_exporter": "python",
   "pygments_lexer": "ipython3",
   "version": "3.5.2"
  }
 },
 "nbformat": 4,
 "nbformat_minor": 0
}
