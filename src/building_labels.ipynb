{
 "cells": [
  {
   "cell_type": "markdown",
   "metadata": {},
   "source": [
    "## Step 2: Assign label (blighted or not_blighted) to buildings"
   ]
  },
  {
   "cell_type": "code",
   "execution_count": 1,
   "metadata": {
    "collapsed": true
   },
   "outputs": [],
   "source": [
    "import numpy as np\n",
    "import pandas as pd"
   ]
  },
  {
   "cell_type": "code",
   "execution_count": 2,
   "metadata": {
    "collapsed": true
   },
   "outputs": [],
   "source": [
    "data_dir = '../data/'"
   ]
  },
  {
   "cell_type": "code",
   "execution_count": 3,
   "metadata": {
    "collapsed": true
   },
   "outputs": [],
   "source": [
    "buildings = pd.read_csv(data_dir+'buildings.csv')\n",
    "permits = pd.read_csv(data_dir+'permits.csv')"
   ]
  },
  {
   "cell_type": "code",
   "execution_count": 4,
   "metadata": {
    "collapsed": false
   },
   "outputs": [
    {
     "data": {
      "text/html": [
       "<div>\n",
       "<table border=\"1\" class=\"dataframe\">\n",
       "  <thead>\n",
       "    <tr style=\"text-align: right;\">\n",
       "      <th></th>\n",
       "      <th>building_id</th>\n",
       "      <th>lon</th>\n",
       "      <th>lat</th>\n",
       "      <th>llcrnrlon</th>\n",
       "      <th>llcrnrlat</th>\n",
       "      <th>urcrnrlon</th>\n",
       "      <th>urcrnrlat</th>\n",
       "      <th>addr</th>\n",
       "      <th>PARCELNO</th>\n",
       "    </tr>\n",
       "  </thead>\n",
       "  <tbody>\n",
       "    <tr>\n",
       "      <th>0</th>\n",
       "      <td>0</td>\n",
       "      <td>-83.040064</td>\n",
       "      <td>42.328955</td>\n",
       "      <td>-83.041659</td>\n",
       "      <td>42.327600</td>\n",
       "      <td>-83.037944</td>\n",
       "      <td>42.330580</td>\n",
       "      <td>400 e jefferson</td>\n",
       "      <td>01000001.</td>\n",
       "    </tr>\n",
       "    <tr>\n",
       "      <th>1</th>\n",
       "      <td>1</td>\n",
       "      <td>-83.039415</td>\n",
       "      <td>42.327845</td>\n",
       "      <td>-83.040284</td>\n",
       "      <td>42.327441</td>\n",
       "      <td>-83.038001</td>\n",
       "      <td>42.328499</td>\n",
       "      <td>300 e atwater</td>\n",
       "      <td>01000002-3</td>\n",
       "    </tr>\n",
       "    <tr>\n",
       "      <th>2</th>\n",
       "      <td>2</td>\n",
       "      <td>-83.041866</td>\n",
       "      <td>42.328047</td>\n",
       "      <td>-83.042504</td>\n",
       "      <td>42.327680</td>\n",
       "      <td>-83.041037</td>\n",
       "      <td>42.328326</td>\n",
       "      <td>201 randolph</td>\n",
       "      <td>01000004.001</td>\n",
       "    </tr>\n",
       "    <tr>\n",
       "      <th>3</th>\n",
       "      <td>3</td>\n",
       "      <td>-83.041562</td>\n",
       "      <td>42.327899</td>\n",
       "      <td>-83.042353</td>\n",
       "      <td>42.327402</td>\n",
       "      <td>-83.040638</td>\n",
       "      <td>42.328329</td>\n",
       "      <td>159 randolph</td>\n",
       "      <td>01000004.002L</td>\n",
       "    </tr>\n",
       "  </tbody>\n",
       "</table>\n",
       "</div>"
      ],
      "text/plain": [
       "   building_id        lon        lat  llcrnrlon  llcrnrlat  urcrnrlon  \\\n",
       "0            0 -83.040064  42.328955 -83.041659  42.327600 -83.037944   \n",
       "1            1 -83.039415  42.327845 -83.040284  42.327441 -83.038001   \n",
       "2            2 -83.041866  42.328047 -83.042504  42.327680 -83.041037   \n",
       "3            3 -83.041562  42.327899 -83.042353  42.327402 -83.040638   \n",
       "\n",
       "   urcrnrlat             addr       PARCELNO  \n",
       "0  42.330580  400 e jefferson      01000001.  \n",
       "1  42.328499    300 e atwater     01000002-3  \n",
       "2  42.328326     201 randolph   01000004.001  \n",
       "3  42.328329     159 randolph  01000004.002L  "
      ]
     },
     "execution_count": 4,
     "metadata": {},
     "output_type": "execute_result"
    }
   ],
   "source": [
    "buildings.head(4)"
   ]
  },
  {
   "cell_type": "code",
   "execution_count": 6,
   "metadata": {
    "collapsed": false
   },
   "outputs": [
    {
     "data": {
      "text/plain": [
       "Index(['PERMIT_NO', 'PERMIT_APPLIED', 'PERMIT_ISSUED', 'PERMIT_EXPIRES',\n",
       "       'SITE_ADDRESS', 'BETWEEN1', 'PARCEL_NO', 'LOT_NUMBER', 'SUBDIVISION',\n",
       "       'CASE_TYPE', 'CASE_DESCRIPTION', 'LEGAL_USE', 'ESTIMATED_COST',\n",
       "       'PARCEL_SIZE', 'PARCEL_CLUSTER_SECTOR', 'STORIES', 'PARCEL_FLOOR_AREA',\n",
       "       'PARCEL_GROUND_AREA', 'PRC_AKA_ADDRESS', 'BLD_PERMIT_TYPE',\n",
       "       'PERMIT_DESCRIPTION', 'BLD_PERMIT_DESC', 'BLD_TYPE_USE', 'RESIDENTIAL',\n",
       "       'DESCRIPTION', 'BLD_TYPE_CONST_COD', 'BLD_ZONING_DIST', 'BLD_USE_GROUP',\n",
       "       'BLD_BASEMENT', 'FEE_TYPE', 'CSM_CASENO', 'CSF_CREATED_BY', 'SEQ_NO',\n",
       "       'PCF_AMT_PD', 'PCF_AMT_DUE', 'PCF_UPDATED', 'OWNER_LAST_NAME',\n",
       "       'OWNER_FIRST_NAME', 'OWNER_ADDRESS1', 'OWNER_ADDRESS2', 'OWNER_CITY',\n",
       "       'OWNER_STATE', 'OWNER_ZIP', 'CONTRACTOR_LAST_NAME',\n",
       "       'CONTRACTOR_FIRST_NAME', 'CONTRACTOR_ADDRESS1', 'CONTRACTOR_ADDRESS2',\n",
       "       'CONTRACTOR_CITY', 'CONTRACTOR_STATE', 'CONTRACTOR_ZIP',\n",
       "       'CONDITION_FOR_APPROVAL', 'owner_location', 'contractor_location',\n",
       "       'geom', 'addr', 'lon', 'lat'],\n",
       "      dtype='object')"
      ]
     },
     "execution_count": 6,
     "metadata": {},
     "output_type": "execute_result"
    }
   ],
   "source": [
    "permits.columns"
   ]
  },
  {
   "cell_type": "code",
   "execution_count": 7,
   "metadata": {
    "collapsed": true
   },
   "outputs": [],
   "source": [
    "permits = permits[['PARCEL_NO', 'BLD_PERMIT_TYPE', 'addr', 'lon', 'lat']]"
   ]
  },
  {
   "cell_type": "code",
   "execution_count": 8,
   "metadata": {
    "collapsed": false
   },
   "outputs": [
    {
     "data": {
      "text/plain": [
       "array(['Dismantle', 'DISM'], dtype=object)"
      ]
     },
     "execution_count": 8,
     "metadata": {},
     "output_type": "execute_result"
    }
   ],
   "source": [
    "permits['BLD_PERMIT_TYPE'].unique()"
   ]
  },
  {
   "cell_type": "code",
   "execution_count": 9,
   "metadata": {
    "collapsed": false
   },
   "outputs": [
    {
     "data": {
      "text/html": [
       "<div>\n",
       "<table border=\"1\" class=\"dataframe\">\n",
       "  <thead>\n",
       "    <tr style=\"text-align: right;\">\n",
       "      <th></th>\n",
       "      <th>PARCEL_NO</th>\n",
       "      <th>BLD_PERMIT_TYPE</th>\n",
       "      <th>addr</th>\n",
       "      <th>lon</th>\n",
       "      <th>lat</th>\n",
       "    </tr>\n",
       "  </thead>\n",
       "  <tbody>\n",
       "    <tr>\n",
       "      <th>0</th>\n",
       "      <td>2165525-6</td>\n",
       "      <td>Dismantle</td>\n",
       "      <td>4331 barham</td>\n",
       "      <td>-82.947400</td>\n",
       "      <td>42.394106</td>\n",
       "    </tr>\n",
       "    <tr>\n",
       "      <th>1</th>\n",
       "      <td>192312.</td>\n",
       "      <td>Dismantle</td>\n",
       "      <td>9707 bessemore</td>\n",
       "      <td>-83.005077</td>\n",
       "      <td>42.395122</td>\n",
       "    </tr>\n",
       "    <tr>\n",
       "      <th>2</th>\n",
       "      <td>2169321.</td>\n",
       "      <td>Dismantle</td>\n",
       "      <td>5315 berkshire</td>\n",
       "      <td>-82.946476</td>\n",
       "      <td>42.403220</td>\n",
       "    </tr>\n",
       "    <tr>\n",
       "      <th>3</th>\n",
       "      <td>2125930.</td>\n",
       "      <td>Dismantle</td>\n",
       "      <td>16670 bringard dr</td>\n",
       "      <td>-82.947207</td>\n",
       "      <td>42.446640</td>\n",
       "    </tr>\n",
       "  </tbody>\n",
       "</table>\n",
       "</div>"
      ],
      "text/plain": [
       "   PARCEL_NO BLD_PERMIT_TYPE               addr        lon        lat\n",
       "0  2165525-6       Dismantle        4331 barham -82.947400  42.394106\n",
       "1    192312.       Dismantle     9707 bessemore -83.005077  42.395122\n",
       "2   2169321.       Dismantle     5315 berkshire -82.946476  42.403220\n",
       "3   2125930.       Dismantle  16670 bringard dr -82.947207  42.446640"
      ]
     },
     "execution_count": 9,
     "metadata": {},
     "output_type": "execute_result"
    }
   ],
   "source": [
    "permits.head(4)"
   ]
  },
  {
   "cell_type": "code",
   "execution_count": 10,
   "metadata": {
    "collapsed": false
   },
   "outputs": [
    {
     "name": "stdout",
     "output_type": "stream",
     "text": [
      "Total number of blighted buildings: 6315\n"
     ]
    }
   ],
   "source": [
    "print(\"Total number of blighted buildings: %d\" % permits.shape[0])"
   ]
  },
  {
   "cell_type": "code",
   "execution_count": null,
   "metadata": {
    "collapsed": true
   },
   "outputs": [],
   "source": []
  }
 ],
 "metadata": {
  "kernelspec": {
   "display_name": "Python 3",
   "language": "python",
   "name": "python3"
  },
  "language_info": {
   "codemirror_mode": {
    "name": "ipython",
    "version": 3
   },
   "file_extension": ".py",
   "mimetype": "text/x-python",
   "name": "python",
   "nbconvert_exporter": "python",
   "pygments_lexer": "ipython3",
   "version": "3.5.1"
  }
 },
 "nbformat": 4,
 "nbformat_minor": 0
}
